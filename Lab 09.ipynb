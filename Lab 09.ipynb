{
 "cells": [
  {
   "cell_type": "markdown",
   "id": "d8bd8985-2ef8-45c4-91d6-fd1bb217a597",
   "metadata": {},
   "source": [
    "# <center><span style=\"font-family: Arial, sans-serif; font-size: 24px; font-weight: bold;\">OOP Data Structures Lab</span></Center>\n"
   ]
  },
  {
   "cell_type": "markdown",
   "id": "d3088e47-b88e-4642-93ae-23081c65f9b0",
   "metadata": {},
   "source": [
    "# Lab Practice Details\n",
    "\n",
    "| **Field**        | **Details**         |\n",
    "|-------------------|---------------------|\n",
    "| **Name**         | Yahya Ahmad         |\n",
    "| **Req No**       | 23jzele0528         |\n",
    "| **Lab Practice No**| 09                |"
   ]
  },
  {
   "cell_type": "markdown",
   "id": "df7e4bb8-8c62-4abb-993d-3c81d74831d6",
   "metadata": {},
   "source": [
    "# Problem: Temporary Secretary Class\n",
    "\n",
    "### Objective:\n",
    "Sometimes, temporary secretaries are hired when there is too much paperwork. The `TemporarySecretary` class performs the role of a Secretary in the context of the `ProductivitySystem`. However, for payroll purposes, it is treated as an `HourlyEmployee`.\n"
   ]
  },
  {
   "cell_type": "code",
   "execution_count": 2,
   "id": "24a8a913-f818-423d-979b-9faa657c71e3",
   "metadata": {},
   "outputs": [],
   "source": [
    "class Payroll_system:\n",
    "    def calculate_payroll(self, employees):\n",
    "        print(\"Calculate Payroll\")\n",
    "        print(\"===========================\")\n",
    "        for employee in employees:\n",
    "            print(f\"Payroll for: {employee.id} - {employee.name}\")\n",
    "            print(f\"- Check amount: {employee.calculate_payroll()}\")\n",
    "            print()\n",
    "\n",
    "class Employee:\n",
    "    def __init__(self, id, name):\n",
    "        self.id = id\n",
    "        self.name = name\n",
    "class Salary_employee(Employee):\n",
    "    def __init__(self, id, name, weekly_salary):\n",
    "        super().__init__(id, name)\n",
    "        self.weekly_salary = weekly_salary\n",
    "\n",
    "    def calculate_payroll(self):\n",
    "        return self.weekly_salary\n",
    "\n",
    "class Hourly_employee(Employee):\n",
    "    def __init__(self, id, name, hours_worked, hourly_rate):\n",
    "        super().__init__(id, name)\n",
    "        self.hours_worked = hours_worked\n",
    "        self.hourly_rate = hourly_rate\n",
    "\n",
    "    def calculate_payroll(self):\n",
    "        return self.hours_worked * self.hourly_rate\n",
    "\n",
    "class Commission_employee(Salary_employee):\n",
    "    def __init__(self, id, name, weekly_salary, commission):\n",
    "        super().__init__(id, name, weekly_salary)\n",
    "        self.commission = commission\n",
    "\n",
    "    def calculate_payroll(self):\n",
    "        fixed = super().calculate_payroll()\n",
    "        return fixed + self.commission\n",
    "\n",
    "class Manager_role(Salary_employee):\n",
    "    def work(self, hours):\n",
    "        print(f\"{self.name} oversees and delegates tasks for {hours} hours.\")\n",
    "\n",
    "class Secretary_role(Salary_employee):\n",
    "    def work(self, hours):\n",
    "        print(f\"{self.name} efficiently organizes and manages documents for {hours} hours.\")\n",
    "\n",
    "class SalesPerson_role(Commission_employee):\n",
    "    def work(self, hours):\n",
    "        print(f\"{self.name} engages with clients and closes deals for {hours} hours.\")\n",
    "\n",
    "class FactoryWorker_role(Hourly_employee):\n",
    "    def work(self, hours):\n",
    "        print(f\"{self.name} diligently assembles products for {hours} hours.\")\n",
    "class Productivity_system:\n",
    "    def Track(self, employees, hours):\n",
    "        print(\"Productivity System Tracking\")\n",
    "        print('-----------------------------')\n",
    "        for employee in employees:\n",
    "            employee.work(hours)\n",
    "            print()"
   ]
  },
  {
   "cell_type": "markdown",
   "id": "08f70c64-98d9-4da0-b3dd-6c9eafdc1dc6",
   "metadata": {},
   "source": [
    "i. Run the Code and check the error"
   ]
  },
  {
   "cell_type": "code",
   "execution_count": 3,
   "id": "d6b75a67-24d6-48f0-a9b5-4928e96ee613",
   "metadata": {},
   "outputs": [],
   "source": [
    "class TemporarySecretary(Secretary_role, Hourly_employee):\n",
    "    pass"
   ]
  },
  {
   "cell_type": "code",
   "execution_count": 4,
   "id": "8acee326-1156-4d5f-b989-43e143073c41",
   "metadata": {},
   "outputs": [
    {
     "ename": "TypeError",
     "evalue": "__init__() takes 4 positional arguments but 5 were given",
     "output_type": "error",
     "traceback": [
      "\u001b[1;31m---------------------------------------------------------------------------\u001b[0m",
      "\u001b[1;31mTypeError\u001b[0m                                 Traceback (most recent call last)",
      "Cell \u001b[1;32mIn[4], line 1\u001b[0m\n\u001b[1;32m----> 1\u001b[0m temporary_secretary \u001b[38;5;241m=\u001b[39m \u001b[43mTemporarySecretary\u001b[49m\u001b[43m(\u001b[49m\u001b[38;5;241;43m5\u001b[39;49m\u001b[43m,\u001b[49m\u001b[43m \u001b[49m\u001b[38;5;124;43m\"\u001b[39;49m\u001b[38;5;124;43mRobin Williams\u001b[39;49m\u001b[38;5;124;43m\"\u001b[39;49m\u001b[43m,\u001b[49m\u001b[43m \u001b[49m\u001b[38;5;241;43m40\u001b[39;49m\u001b[43m,\u001b[49m\u001b[43m \u001b[49m\u001b[38;5;241;43m9\u001b[39;49m\u001b[43m)\u001b[49m\n",
      "\u001b[1;31mTypeError\u001b[0m: __init__() takes 4 positional arguments but 5 were given"
     ]
    }
   ],
   "source": [
    "temporary_secretary = TemporarySecretary(5, \"Robin Williams\", 40, 9)"
   ]
  },
  {
   "cell_type": "code",
   "execution_count": 5,
   "id": "e057cb55-d9b4-4fc7-a3ca-e61dd275fbb2",
   "metadata": {},
   "outputs": [
    {
     "data": {
      "text/plain": [
       "(__main__.TemporarySecretary,\n",
       " __main__.Secretary_role,\n",
       " __main__.Salary_employee,\n",
       " __main__.Hourly_employee,\n",
       " __main__.Employee,\n",
       " object)"
      ]
     },
     "execution_count": 5,
     "metadata": {},
     "output_type": "execute_result"
    }
   ],
   "source": [
    "TemporarySecretary.__mro__"
   ]
  },
  {
   "cell_type": "markdown",
   "id": "f5b826c6-9903-49e5-a002-04bb885d3fb9",
   "metadata": {},
   "source": [
    "ii. Modified the code and Run the code"
   ]
  },
  {
   "cell_type": "code",
   "execution_count": 6,
   "id": "d0012951-2fe1-45ca-b522-83abe298500e",
   "metadata": {},
   "outputs": [],
   "source": [
    "class TemporarySecretary(Hourly_employee, Secretary_role):\n",
    "    pass"
   ]
  },
  {
   "cell_type": "code",
   "execution_count": 7,
   "id": "7938d1f6-db82-4558-9f37-53b8d97ca328",
   "metadata": {},
   "outputs": [
    {
     "ename": "TypeError",
     "evalue": "__init__() missing 1 required positional argument: 'weekly_salary'",
     "output_type": "error",
     "traceback": [
      "\u001b[1;31m---------------------------------------------------------------------------\u001b[0m",
      "\u001b[1;31mTypeError\u001b[0m                                 Traceback (most recent call last)",
      "Cell \u001b[1;32mIn[7], line 1\u001b[0m\n\u001b[1;32m----> 1\u001b[0m temporary_secretary \u001b[38;5;241m=\u001b[39m \u001b[43mTemporarySecretary\u001b[49m\u001b[43m(\u001b[49m\u001b[38;5;241;43m5\u001b[39;49m\u001b[43m,\u001b[49m\u001b[43m \u001b[49m\u001b[38;5;124;43m\"\u001b[39;49m\u001b[38;5;124;43mRobin Williams\u001b[39;49m\u001b[38;5;124;43m\"\u001b[39;49m\u001b[43m,\u001b[49m\u001b[43m \u001b[49m\u001b[38;5;241;43m40\u001b[39;49m\u001b[43m,\u001b[49m\u001b[43m \u001b[49m\u001b[38;5;241;43m9\u001b[39;49m\u001b[43m)\u001b[49m\n",
      "Cell \u001b[1;32mIn[2], line 24\u001b[0m, in \u001b[0;36mHourly_employee.__init__\u001b[1;34m(self, id, name, hours_worked, hourly_rate)\u001b[0m\n\u001b[0;32m     23\u001b[0m \u001b[38;5;28;01mdef\u001b[39;00m \u001b[38;5;21m__init__\u001b[39m(\u001b[38;5;28mself\u001b[39m, \u001b[38;5;28mid\u001b[39m, name, hours_worked, hourly_rate):\n\u001b[1;32m---> 24\u001b[0m     \u001b[38;5;28;43msuper\u001b[39;49m\u001b[43m(\u001b[49m\u001b[43m)\u001b[49m\u001b[38;5;241;43m.\u001b[39;49m\u001b[38;5;21;43m__init__\u001b[39;49m\u001b[43m(\u001b[49m\u001b[38;5;28;43mid\u001b[39;49m\u001b[43m,\u001b[49m\u001b[43m \u001b[49m\u001b[43mname\u001b[49m\u001b[43m)\u001b[49m\n\u001b[0;32m     25\u001b[0m     \u001b[38;5;28mself\u001b[39m\u001b[38;5;241m.\u001b[39mhours_worked \u001b[38;5;241m=\u001b[39m hours_worked\n\u001b[0;32m     26\u001b[0m     \u001b[38;5;28mself\u001b[39m\u001b[38;5;241m.\u001b[39mhourly_rate \u001b[38;5;241m=\u001b[39m hourly_rate\n",
      "\u001b[1;31mTypeError\u001b[0m: __init__() missing 1 required positional argument: 'weekly_salary'"
     ]
    }
   ],
   "source": [
    "temporary_secretary = TemporarySecretary(5, \"Robin Williams\", 40, 9)"
   ]
  },
  {
   "cell_type": "code",
   "execution_count": 8,
   "id": "a3eb0f01-928e-4698-ab7c-21e174bfe617",
   "metadata": {},
   "outputs": [
    {
     "data": {
      "text/plain": [
       "(__main__.TemporarySecretary,\n",
       " __main__.Hourly_employee,\n",
       " __main__.Secretary_role,\n",
       " __main__.Salary_employee,\n",
       " __main__.Employee,\n",
       " object)"
      ]
     },
     "execution_count": 8,
     "metadata": {},
     "output_type": "execute_result"
    }
   ],
   "source": [
    "TemporarySecretary.__mro__"
   ]
  },
  {
   "cell_type": "markdown",
   "id": "7250ced4-e092-4596-84b2-1ff829623a69",
   "metadata": {},
   "source": [
    "ii. Modified the code and Run the code"
   ]
  },
  {
   "cell_type": "code",
   "execution_count": 9,
   "id": "a7d6d95b-4dde-468b-9b6c-b7a1f010ce75",
   "metadata": {},
   "outputs": [],
   "source": [
    "class TemporarySecretary(Hourly_employee, Secretary_role):\n",
    "    def __init__(self, id, name, hours_worked, hourly_rate):\n",
    "        super().__init__(id, name, hours_worked, hourly_rate)"
   ]
  },
  {
   "cell_type": "code",
   "execution_count": 10,
   "id": "ff5af68b-f431-4499-8002-69266e7b5849",
   "metadata": {},
   "outputs": [
    {
     "ename": "TypeError",
     "evalue": "__init__() missing 1 required positional argument: 'weekly_salary'",
     "output_type": "error",
     "traceback": [
      "\u001b[1;31m---------------------------------------------------------------------------\u001b[0m",
      "\u001b[1;31mTypeError\u001b[0m                                 Traceback (most recent call last)",
      "Cell \u001b[1;32mIn[10], line 1\u001b[0m\n\u001b[1;32m----> 1\u001b[0m temporary_secretary \u001b[38;5;241m=\u001b[39m \u001b[43mTemporarySecretary\u001b[49m\u001b[43m(\u001b[49m\u001b[38;5;241;43m5\u001b[39;49m\u001b[43m,\u001b[49m\u001b[43m \u001b[49m\u001b[38;5;124;43m\"\u001b[39;49m\u001b[38;5;124;43mRobin Williams\u001b[39;49m\u001b[38;5;124;43m\"\u001b[39;49m\u001b[43m,\u001b[49m\u001b[43m \u001b[49m\u001b[38;5;241;43m40\u001b[39;49m\u001b[43m,\u001b[49m\u001b[43m \u001b[49m\u001b[38;5;241;43m9\u001b[39;49m\u001b[43m)\u001b[49m\n",
      "Cell \u001b[1;32mIn[9], line 3\u001b[0m, in \u001b[0;36mTemporarySecretary.__init__\u001b[1;34m(self, id, name, hours_worked, hourly_rate)\u001b[0m\n\u001b[0;32m      2\u001b[0m \u001b[38;5;28;01mdef\u001b[39;00m \u001b[38;5;21m__init__\u001b[39m(\u001b[38;5;28mself\u001b[39m, \u001b[38;5;28mid\u001b[39m, name, hours_worked, hourly_rate):\n\u001b[1;32m----> 3\u001b[0m     \u001b[38;5;28;43msuper\u001b[39;49m\u001b[43m(\u001b[49m\u001b[43m)\u001b[49m\u001b[38;5;241;43m.\u001b[39;49m\u001b[38;5;21;43m__init__\u001b[39;49m\u001b[43m(\u001b[49m\u001b[38;5;28;43mid\u001b[39;49m\u001b[43m,\u001b[49m\u001b[43m \u001b[49m\u001b[43mname\u001b[49m\u001b[43m,\u001b[49m\u001b[43m \u001b[49m\u001b[43mhours_worked\u001b[49m\u001b[43m,\u001b[49m\u001b[43m \u001b[49m\u001b[43mhourly_rate\u001b[49m\u001b[43m)\u001b[49m\n",
      "Cell \u001b[1;32mIn[2], line 24\u001b[0m, in \u001b[0;36mHourly_employee.__init__\u001b[1;34m(self, id, name, hours_worked, hourly_rate)\u001b[0m\n\u001b[0;32m     23\u001b[0m \u001b[38;5;28;01mdef\u001b[39;00m \u001b[38;5;21m__init__\u001b[39m(\u001b[38;5;28mself\u001b[39m, \u001b[38;5;28mid\u001b[39m, name, hours_worked, hourly_rate):\n\u001b[1;32m---> 24\u001b[0m     \u001b[38;5;28;43msuper\u001b[39;49m\u001b[43m(\u001b[49m\u001b[43m)\u001b[49m\u001b[38;5;241;43m.\u001b[39;49m\u001b[38;5;21;43m__init__\u001b[39;49m\u001b[43m(\u001b[49m\u001b[38;5;28;43mid\u001b[39;49m\u001b[43m,\u001b[49m\u001b[43m \u001b[49m\u001b[43mname\u001b[49m\u001b[43m)\u001b[49m\n\u001b[0;32m     25\u001b[0m     \u001b[38;5;28mself\u001b[39m\u001b[38;5;241m.\u001b[39mhours_worked \u001b[38;5;241m=\u001b[39m hours_worked\n\u001b[0;32m     26\u001b[0m     \u001b[38;5;28mself\u001b[39m\u001b[38;5;241m.\u001b[39mhourly_rate \u001b[38;5;241m=\u001b[39m hourly_rate\n",
      "\u001b[1;31mTypeError\u001b[0m: __init__() missing 1 required positional argument: 'weekly_salary'"
     ]
    }
   ],
   "source": [
    "temporary_secretary = TemporarySecretary(5, \"Robin Williams\", 40, 9)"
   ]
  },
  {
   "cell_type": "code",
   "execution_count": 11,
   "id": "3332ed86-84ad-4d8d-9932-8a47a9e16cd6",
   "metadata": {},
   "outputs": [
    {
     "data": {
      "text/plain": [
       "(__main__.TemporarySecretary,\n",
       " __main__.Hourly_employee,\n",
       " __main__.Secretary_role,\n",
       " __main__.Salary_employee,\n",
       " __main__.Employee,\n",
       " object)"
      ]
     },
     "execution_count": 11,
     "metadata": {},
     "output_type": "execute_result"
    }
   ],
   "source": [
    "TemporarySecretary.__mro__"
   ]
  },
  {
   "cell_type": "markdown",
   "id": "c8e0b618-d3c5-4ede-adde-818346a978da",
   "metadata": {},
   "source": [
    "iv. Modified the code and Run the code"
   ]
  },
  {
   "cell_type": "code",
   "execution_count": 13,
   "id": "a6868717-4b73-4bc9-ab4b-dd133af09a09",
   "metadata": {},
   "outputs": [],
   "source": [
    "class TemporarySecretary(Secretary_role, Hourly_employee):\n",
    "    def __init__(self, id, name, hours_worked, hourly_rate):\n",
    "        Hourly_employee.__init__(self, id, name, hours_worked, hourly_rate)\n"
   ]
  },
  {
   "cell_type": "code",
   "execution_count": 14,
   "id": "c6a034ea-ccbf-4fab-938b-a3bc4cfef0fe",
   "metadata": {},
   "outputs": [
    {
     "name": "stdout",
     "output_type": "stream",
     "text": [
      "Productivity System Tracking\n",
      "-----------------------------\n",
      "Robin Williams efficiently organizes and manages documents for 40 hours.\n",
      "\n",
      "Calculate Payroll\n",
      "===========================\n",
      "Payroll for: 5 - Robin Williams\n"
     ]
    },
    {
     "ename": "AttributeError",
     "evalue": "'TemporarySecretary' object has no attribute 'weekly_salary'",
     "output_type": "error",
     "traceback": [
      "\u001b[1;31m---------------------------------------------------------------------------\u001b[0m",
      "\u001b[1;31mAttributeError\u001b[0m                            Traceback (most recent call last)",
      "Cell \u001b[1;32mIn[14], line 6\u001b[0m\n\u001b[0;32m      4\u001b[0m productivity_system\u001b[38;5;241m.\u001b[39mTrack(company_employees, \u001b[38;5;241m40\u001b[39m)\n\u001b[0;32m      5\u001b[0m payroll_system \u001b[38;5;241m=\u001b[39m Payroll_system()\n\u001b[1;32m----> 6\u001b[0m \u001b[43mpayroll_system\u001b[49m\u001b[38;5;241;43m.\u001b[39;49m\u001b[43mcalculate_payroll\u001b[49m\u001b[43m(\u001b[49m\u001b[43mcompany_employees\u001b[49m\u001b[43m)\u001b[49m\n",
      "Cell \u001b[1;32mIn[2], line 7\u001b[0m, in \u001b[0;36mPayroll_system.calculate_payroll\u001b[1;34m(self, employees)\u001b[0m\n\u001b[0;32m      5\u001b[0m \u001b[38;5;28;01mfor\u001b[39;00m employee \u001b[38;5;129;01min\u001b[39;00m employees:\n\u001b[0;32m      6\u001b[0m     \u001b[38;5;28mprint\u001b[39m(\u001b[38;5;124mf\u001b[39m\u001b[38;5;124m\"\u001b[39m\u001b[38;5;124mPayroll for: \u001b[39m\u001b[38;5;132;01m{\u001b[39;00memployee\u001b[38;5;241m.\u001b[39mid\u001b[38;5;132;01m}\u001b[39;00m\u001b[38;5;124m - \u001b[39m\u001b[38;5;132;01m{\u001b[39;00memployee\u001b[38;5;241m.\u001b[39mname\u001b[38;5;132;01m}\u001b[39;00m\u001b[38;5;124m\"\u001b[39m)\n\u001b[1;32m----> 7\u001b[0m     \u001b[38;5;28mprint\u001b[39m(\u001b[38;5;124mf\u001b[39m\u001b[38;5;124m\"\u001b[39m\u001b[38;5;124m- Check amount: \u001b[39m\u001b[38;5;132;01m{\u001b[39;00memployee\u001b[38;5;241m.\u001b[39mcalculate_payroll()\u001b[38;5;132;01m}\u001b[39;00m\u001b[38;5;124m\"\u001b[39m)\n\u001b[0;32m      8\u001b[0m     \u001b[38;5;28mprint\u001b[39m()\n",
      "Cell \u001b[1;32mIn[2], line 20\u001b[0m, in \u001b[0;36mSalary_employee.calculate_payroll\u001b[1;34m(self)\u001b[0m\n\u001b[0;32m     19\u001b[0m \u001b[38;5;28;01mdef\u001b[39;00m \u001b[38;5;21mcalculate_payroll\u001b[39m(\u001b[38;5;28mself\u001b[39m):\n\u001b[1;32m---> 20\u001b[0m     \u001b[38;5;28;01mreturn\u001b[39;00m \u001b[38;5;28;43mself\u001b[39;49m\u001b[38;5;241;43m.\u001b[39;49m\u001b[43mweekly_salary\u001b[49m\n",
      "\u001b[1;31mAttributeError\u001b[0m: 'TemporarySecretary' object has no attribute 'weekly_salary'"
     ]
    }
   ],
   "source": [
    "temporary_secretary = TemporarySecretary(5, \"Robin Williams\", 40, 9)\n",
    "company_employees = [temporary_secretary]\n",
    "productivity_system = Productivity_system()\n",
    "productivity_system.Track(company_employees, 40)\n",
    "payroll_system = Payroll_system()\n",
    "payroll_system.calculate_payroll(company_employees)\n"
   ]
  },
  {
   "cell_type": "code",
   "execution_count": 15,
   "id": "17973207-4de5-4bbb-97aa-273f2db7e542",
   "metadata": {},
   "outputs": [
    {
     "data": {
      "text/plain": [
       "(__main__.TemporarySecretary,\n",
       " __main__.Secretary_role,\n",
       " __main__.Salary_employee,\n",
       " __main__.Hourly_employee,\n",
       " __main__.Employee,\n",
       " object)"
      ]
     },
     "execution_count": 15,
     "metadata": {},
     "output_type": "execute_result"
    }
   ],
   "source": [
    "TemporarySecretary.__mro__"
   ]
  },
  {
   "cell_type": "markdown",
   "id": "83baf7eb-c599-4f54-aa30-624872e6c605",
   "metadata": {},
   "source": [
    "iv. Modified the code and Run the code"
   ]
  },
  {
   "cell_type": "code",
   "execution_count": 18,
   "id": "1fc1f659-3063-496a-9bea-1206285a1d0f",
   "metadata": {},
   "outputs": [],
   "source": [
    "class TemporarySecretary(Secretary_role, Hourly_employee):\n",
    "    def __init__(self, id, name, hours_worked, hourly_rate):\n",
    "        Hourly_employee.__init__(self, id, name, hours_worked, hourly_rate)\n",
    "    def calculate_payroll(self):\n",
    "        return Hourly_employee.calculate_payroll(self)"
   ]
  },
  {
   "cell_type": "code",
   "execution_count": 19,
   "id": "191c1be5-4b32-49df-8b44-f1a4b4b5dc4a",
   "metadata": {},
   "outputs": [
    {
     "name": "stdout",
     "output_type": "stream",
     "text": [
      "Productivity System Tracking\n",
      "-----------------------------\n",
      "Robin Williams efficiently organizes and manages documents for 40 hours.\n",
      "\n",
      "Calculate Payroll\n",
      "===========================\n",
      "Payroll for: 5 - Robin Williams\n",
      "- Check amount: 360\n",
      "\n"
     ]
    }
   ],
   "source": [
    "temporary_secretary = TemporarySecretary(5, \"Robin Williams\", 40, 9)\n",
    "company_employees = [temporary_secretary]\n",
    "productivity_system = Productivity_system()\n",
    "productivity_system.Track(company_employees, 40)\n",
    "payroll_system = Payroll_system()\n",
    "payroll_system.calculate_payroll(company_employees)\n"
   ]
  },
  {
   "cell_type": "code",
   "execution_count": 20,
   "id": "68acf6e0-e3cd-46d2-9bf6-e4da4fd21451",
   "metadata": {},
   "outputs": [
    {
     "data": {
      "text/plain": [
       "(__main__.TemporarySecretary,\n",
       " __main__.Secretary_role,\n",
       " __main__.Salary_employee,\n",
       " __main__.Hourly_employee,\n",
       " __main__.Employee,\n",
       " object)"
      ]
     },
     "execution_count": 20,
     "metadata": {},
     "output_type": "execute_result"
    }
   ],
   "source": [
    "TemporarySecretary.__mro__"
   ]
  },
  {
   "cell_type": "code",
   "execution_count": null,
   "id": "0465f09b-5e13-416e-8862-0f606b182ea0",
   "metadata": {},
   "outputs": [],
   "source": []
  }
 ],
 "metadata": {
  "kernelspec": {
   "display_name": "Python 3 (ipykernel)",
   "language": "python",
   "name": "python3"
  },
  "language_info": {
   "codemirror_mode": {
    "name": "ipython",
    "version": 3
   },
   "file_extension": ".py",
   "mimetype": "text/x-python",
   "name": "python",
   "nbconvert_exporter": "python",
   "pygments_lexer": "ipython3",
   "version": "3.9.20"
  }
 },
 "nbformat": 4,
 "nbformat_minor": 5
}
