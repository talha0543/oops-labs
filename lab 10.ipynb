{
 "cells": [
  {
   "cell_type": "markdown",
   "id": "db553223-4ba8-417f-af05-585a6e6b9689",
   "metadata": {},
   "source": [
    "<p style=\"color:blue ; font-size:35px; font-family: Algerian ; text-align:center;\">Lab 10: Modules and Package"
   ]
  },
  {
   "cell_type": "markdown",
   "id": "87e12499-21c7-4ed2-a835-9595430407a9",
   "metadata": {},
   "source": [
    "<p style=\"color:teal ; font-size:35px; font-family: Algerian ; text-align:center;\">Lab Title: EE-271 “OOP & Data Structures Lab”"
   ]
  },
  {
   "cell_type": "markdown",
   "id": "42f6b705-caab-4385-ae4e-ce12d3725143",
   "metadata": {},
   "source": [
    "<p style=\"color:teal ; font-size:25px; font-family: Algerian ; text-align:center;\">Lab Work tasks:"
   ]
  },
  {
   "cell_type": "markdown",
   "id": "4f5c3d8c-4fdf-4a6b-a364-b6c81ad8308b",
   "metadata": {},
   "source": [
    "<p style=\"color:blue ; font-size:25px; font-family: Algerian ; text-align:left;\">2"
   ]
  },
  {
   "cell_type": "code",
   "execution_count": 4,
   "id": "6e1dfbd8-9b55-4629-94cd-11b83c5d914b",
   "metadata": {},
   "outputs": [],
   "source": [
    "from add import add"
   ]
  },
  {
   "cell_type": "code",
   "execution_count": 5,
   "id": "684908cc-9724-45c2-ade9-968862c8fff9",
   "metadata": {},
   "outputs": [],
   "source": [
    "x=10\n",
    "y=5"
   ]
  },
  {
   "cell_type": "code",
   "execution_count": 6,
   "id": "09e56221-6a44-4d70-9e87-9b48dd7dfe64",
   "metadata": {},
   "outputs": [
    {
     "name": "stdout",
     "output_type": "stream",
     "text": [
      "Addition:15\n"
     ]
    }
   ],
   "source": [
    "print(f\"Addition:{add(x,y)}\")"
   ]
  },
  {
   "cell_type": "code",
   "execution_count": 7,
   "id": "3bf86a8b-a690-4718-a09b-c112aefcd6e1",
   "metadata": {},
   "outputs": [],
   "source": [
    "from sub import sub"
   ]
  },
  {
   "cell_type": "code",
   "execution_count": 8,
   "id": "4f1048d5-67be-45a0-955d-7d4746318eb8",
   "metadata": {},
   "outputs": [],
   "source": [
    "x=10\n",
    "y=5"
   ]
  },
  {
   "cell_type": "code",
   "execution_count": 9,
   "id": "14acca7a-9787-44e6-bb96-3aee83047379",
   "metadata": {},
   "outputs": [
    {
     "name": "stdout",
     "output_type": "stream",
     "text": [
      "sub:5\n"
     ]
    }
   ],
   "source": [
    "print(f\"sub:{sub(x,y)}\")"
   ]
  },
  {
   "cell_type": "code",
   "execution_count": 10,
   "id": "b05c1d0e-3a2d-4a7b-abe4-8f87a0a3495f",
   "metadata": {},
   "outputs": [],
   "source": [
    "from mul import mul"
   ]
  },
  {
   "cell_type": "code",
   "execution_count": 11,
   "id": "b67324d1-91a3-44d3-88b0-420184adc082",
   "metadata": {},
   "outputs": [],
   "source": [
    "x=10\n",
    "y=5"
   ]
  },
  {
   "cell_type": "code",
   "execution_count": 12,
   "id": "4a39ea1a-ce36-4006-b798-d74d033647e2",
   "metadata": {},
   "outputs": [
    {
     "name": "stdout",
     "output_type": "stream",
     "text": [
      "mul:50\n"
     ]
    }
   ],
   "source": [
    "print(f\"mul:{mul(x,y)}\")"
   ]
  },
  {
   "cell_type": "code",
   "execution_count": 13,
   "id": "66f58b5c-4df2-4ba4-8c79-69515cc18a3f",
   "metadata": {},
   "outputs": [],
   "source": [
    "from divide import divide"
   ]
  },
  {
   "cell_type": "code",
   "execution_count": 14,
   "id": "460ecbfe-d4c9-4d36-8220-bd1fd5e51a0f",
   "metadata": {},
   "outputs": [],
   "source": [
    "x=10\n",
    "y=5"
   ]
  },
  {
   "cell_type": "code",
   "execution_count": 15,
   "id": "7063aa48-a79f-4eb4-b643-a75dbffa568f",
   "metadata": {},
   "outputs": [
    {
     "name": "stdout",
     "output_type": "stream",
     "text": [
      "division:2.0\n"
     ]
    }
   ],
   "source": [
    "print(f\"division:{divide(x,y)}\")"
   ]
  },
  {
   "cell_type": "markdown",
   "id": "0e84f746-8040-4086-9668-112421c3953c",
   "metadata": {},
   "source": [
    "<p style=\"color:teal ; font-size:25px; font-family: Algerian ; text-align:left;\">3.Creating Modules"
   ]
  },
  {
   "cell_type": "markdown",
   "id": "15bfaf77-82e6-4332-bf9e-7d5cf2239a3b",
   "metadata": {},
   "source": [
    "<p style=\"color:blue ; font-size:25px; font-family: Algerian ; text-left:center;\">a"
   ]
  },
  {
   "cell_type": "code",
   "execution_count": 18,
   "id": "49c6ed29-4cdd-42fa-b3b7-513a59dd5023",
   "metadata": {},
   "outputs": [],
   "source": [
    "import add"
   ]
  },
  {
   "cell_type": "code",
   "execution_count": 21,
   "id": "9e05a104-e1d1-4d31-8276-0794cfe34379",
   "metadata": {},
   "outputs": [
    {
     "name": "stdout",
     "output_type": "stream",
     "text": [
      "4\n"
     ]
    }
   ],
   "source": [
    "value = add.add(2,2)\n",
    "print(value)"
   ]
  },
  {
   "cell_type": "markdown",
   "id": "1c8f5970-2764-46e8-bf22-df9e1769383f",
   "metadata": {},
   "source": [
    "<p style=\"color:blue ; font-size:25px; font-family: Algerian ; text-align:left;\">b"
   ]
  },
  {
   "cell_type": "code",
   "execution_count": 35,
   "id": "622429db-0e35-412e-88aa-1f8a05468743",
   "metadata": {},
   "outputs": [
    {
     "name": "stdout",
     "output_type": "stream",
     "text": [
      "8\n"
     ]
    }
   ],
   "source": [
    "import add\n",
    "value = add.add(2, 2)  \n",
    "double_value = add.double(value)  \n",
    "print(double_value)\n"
   ]
  },
  {
   "cell_type": "markdown",
   "id": "4fd8ca53-d16d-4d29-aa61-2e6519e7c7bc",
   "metadata": {},
   "source": [
    "<p style=\"color:blue ; font-size:25px; font-family: Algerian ; text-align:left;\">c"
   ]
  },
  {
   "cell_type": "code",
   "execution_count": 38,
   "id": "9cf67ae9-2369-45f3-8ef5-10783a1688e9",
   "metadata": {},
   "outputs": [
    {
     "name": "stdout",
     "output_type": "stream",
     "text": [
      "8\n"
     ]
    }
   ],
   "source": [
    "import add as a\n",
    "value = add.add(2, 2)\n",
    "double_value = add.double(value)\n",
    "print(double_value)"
   ]
  },
  {
   "cell_type": "code",
   "execution_count": 40,
   "id": "15caefe6-4dfc-4c83-b9e9-b17b36a3bba2",
   "metadata": {},
   "outputs": [
    {
     "name": "stdout",
     "output_type": "stream",
     "text": [
      "8\n"
     ]
    }
   ],
   "source": [
    "import add as a\n",
    "value = a.add(2, 2)\n",
    "double_value = a.double(value)\n",
    "print(double_value)"
   ]
  },
  {
   "cell_type": "markdown",
   "id": "fb7c38cb-ea0c-4ba7-97ea-7395a72d6585",
   "metadata": {},
   "source": [
    "<p style=\"color:blue ; font-size:25px; font-family: Algerian ; text-align:center;\">D"
   ]
  },
  {
   "cell_type": "code",
   "execution_count": 42,
   "id": "3f7f118a-bb4c-43a7-8b02-efe2ac7a3ae4",
   "metadata": {},
   "outputs": [
    {
     "name": "stdout",
     "output_type": "stream",
     "text": [
      "4\n"
     ]
    }
   ],
   "source": [
    "from add import add\n",
    "value = add(2, 2)\n",
    "print(value)"
   ]
  },
  {
   "cell_type": "code",
   "execution_count": 44,
   "id": "2268fd69-3159-4346-9482-0b52fb5e7c47",
   "metadata": {},
   "outputs": [
    {
     "name": "stdout",
     "output_type": "stream",
     "text": [
      "8\n"
     ]
    }
   ],
   "source": [
    "from add import add, double\n",
    "value = add(2, 2)\n",
    "double_value = double(value)\n",
    "print(double_value)"
   ]
  },
  {
   "cell_type": "markdown",
   "id": "8ee7ba51-31b5-464e-8c5b-d45550a8fe3b",
   "metadata": {},
   "source": [
    "# a."
   ]
  },
  {
   "cell_type": "code",
   "execution_count": 46,
   "id": "3432c69b-5f1b-408a-b5eb-f056131a46e8",
   "metadata": {},
   "outputs": [
    {
     "data": {
      "text/plain": [
       "datetime.datetime(2020, 2, 2, 0, 0)"
      ]
     },
     "execution_count": 46,
     "metadata": {},
     "output_type": "execute_result"
    }
   ],
   "source": [
    "import datetime\n",
    "datetime.datetime(2020, 2, 2)"
   ]
  },
  {
   "cell_type": "markdown",
   "id": "8cbc9fc7-15af-4ea2-9a5d-7e4ab9cee9ae",
   "metadata": {},
   "source": [
    "# b."
   ]
  },
  {
   "cell_type": "code",
   "execution_count": 48,
   "id": "19980c1a-bea1-43e5-a802-b25d0b635cd0",
   "metadata": {},
   "outputs": [
    {
     "data": {
      "text/plain": [
       "datetime.datetime(2020, 2, 2, 0, 0)"
      ]
     },
     "execution_count": 48,
     "metadata": {},
     "output_type": "execute_result"
    }
   ],
   "source": [
    "import datetime as dt\n",
    "dt.datetime(2020, 2, 2)"
   ]
  },
  {
   "cell_type": "markdown",
   "id": "f2d375fa-086f-4d35-a27b-f94da3ff0c06",
   "metadata": {},
   "source": [
    "# c."
   ]
  },
  {
   "cell_type": "code",
   "execution_count": 50,
   "id": "b24e0864-c71a-4ac3-ba4c-adfd91915725",
   "metadata": {},
   "outputs": [
    {
     "data": {
      "text/plain": [
       "datetime.datetime(2020, 2, 2, 0, 0)"
      ]
     },
     "execution_count": 50,
     "metadata": {},
     "output_type": "execute_result"
    }
   ],
   "source": [
    "from datetime import datetime\n",
    "datetime(2020, 2, 2)"
   ]
  },
  {
   "cell_type": "markdown",
   "id": "fdca68a3-2585-4089-a6eb-1d34b3ea4ab9",
   "metadata": {},
   "source": [
    "# 9.Creating Packages"
   ]
  },
  {
   "cell_type": "code",
   "execution_count": 70,
   "id": "f11d7bd1-e386-4036-adcf-5c942bf0d701",
   "metadata": {},
   "outputs": [],
   "source": [
    "import module1\n",
    "import module2"
   ]
  },
  {
   "cell_type": "code",
   "execution_count": 72,
   "id": "3750f36c-d704-4558-a099-6216ead88d00",
   "metadata": {},
   "outputs": [
    {
     "name": "stdout",
     "output_type": "stream",
     "text": [
      "Hello, Pythonista!\n",
      "Goodbye, Pythonista!\n"
     ]
    }
   ],
   "source": [
    "module1.greet(\"Pythonista\")\n",
    "module2.depart(\"Pythonista\")"
   ]
  },
  {
   "cell_type": "code",
   "execution_count": 80,
   "id": "f73d5ede-72f5-44cc-855c-b7beba982cb6",
   "metadata": {},
   "outputs": [
    {
     "name": "stdout",
     "output_type": "stream",
     "text": [
      "Hello, Pythonista!\n",
      "Goodbye, Pythonista!\n"
     ]
    }
   ],
   "source": [
    "import module1\n",
    "module1.greet(\"Pythonista\")\n",
    "module2.depart(\"Pythonista\")"
   ]
  },
  {
   "cell_type": "code",
   "execution_count": 84,
   "id": "220efd4c-412e-4553-a9a1-1a2decff82db",
   "metadata": {},
   "outputs": [
    {
     "name": "stdout",
     "output_type": "stream",
     "text": [
      "Hello, Pythonista!\n",
      "Goodbye, Pythonista!\n"
     ]
    }
   ],
   "source": [
    "import module1\n",
    "import module2\n",
    "module1.greet(\"Pythonista\")\n",
    "module2.depart(\"Pythonista\")"
   ]
  },
  {
   "cell_type": "code",
   "execution_count": 88,
   "id": "f5fb14a4-a838-4d83-bde5-d2a0176a21e6",
   "metadata": {},
   "outputs": [
    {
     "name": "stdout",
     "output_type": "stream",
     "text": [
      "Hello, Pythonista!\n",
      "Goodbye, Pythonista!\n"
     ]
    }
   ],
   "source": [
    "import module1 as m1, module2 as m2\n",
    "m1.greet(\"Pythonista\")\n",
    "m2.depart(\"Pythonista\")"
   ]
  },
  {
   "cell_type": "code",
   "execution_count": 96,
   "id": "b6922593-327a-4475-9a51-922e6523383c",
   "metadata": {},
   "outputs": [
    {
     "name": "stdout",
     "output_type": "stream",
     "text": [
      "Hello, Pythonista!\n",
      "Goodbye, Pythonista!\n"
     ]
    }
   ],
   "source": [
    "from module1 import greet\n",
    "from module2 import depart\n",
    "greet(\"Pythonista\")\n",
    "depart(\"Pythonista\")"
   ]
  },
  {
   "cell_type": "markdown",
   "id": "4d66e48e-7459-4e81-a725-d240644b9d44",
   "metadata": {},
   "source": [
    "# LAB: 10 COMPLETED By NAME: SHEHWAR MUHAMMAD REG NO: 23JZELE0505 SECTI0N: A"
   ]
  }
 ],
 "metadata": {
  "kernelspec": {
   "display_name": "Python 3 (ipykernel)",
   "language": "python",
   "name": "python3"
  },
  "language_info": {
   "codemirror_mode": {
    "name": "ipython",
    "version": 3
   },
   "file_extension": ".py",
   "mimetype": "text/x-python",
   "name": "python",
   "nbconvert_exporter": "python",
   "pygments_lexer": "ipython3",
   "version": "3.9.20"
  }
 },
 "nbformat": 4,
 "nbformat_minor": 5
}
