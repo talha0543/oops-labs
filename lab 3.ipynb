{
 "cells": [
  {
   "cell_type": "markdown",
   "id": "2d318046-bd99-474e-86fa-c4974e6b3aa7",
   "metadata": {},
   "source": [
    "# ***Name : Muhammad Talha***\n",
    "# ***Req No : 23jzele0543***\n",
    "# **Lab : 03**"
   ]
  },
  {
   "cell_type": "markdown",
   "id": "42de64a4-46e0-4d3c-826a-fe804a5069c1",
   "metadata": {},
   "source": [
    "# Lab Report"
   ]
  },
  {
   "cell_type": "markdown",
   "id": "a008eea9-fe53-4af6-a532-519898379795",
   "metadata": {},
   "source": [
    "1. Make a list that contains the student name, the last four digits of the registration number as\n",
    "an integer, the CGPA as a float, and a list that contains GPA of all semesters. (Nested List)"
   ]
  },
  {
   "cell_type": "code",
   "execution_count": null,
   "id": "c55e0d7f-16aa-4778-a5b2-42e900d679a0",
   "metadata": {},
   "outputs": [],
   "source": [
    "# list cantain student name, reg no and cgpa and all samester GPA\n",
    "student_info = ['Muhammad Talha',0543,3.4,[3.5,3.3]]"
   ]
  },
  {
   "cell_type": "code",
   "execution_count": null,
   "id": "ef3551eb-b9b8-4050-b07d-d0765e5d125f",
   "metadata": {},
   "outputs": [],
   "source": [
    "print(student_info)"
   ]
  },
  {
   "cell_type": "markdown",
   "id": "135f774d-02bb-4ad0-99fc-09b753399504",
   "metadata": {},
   "source": [
    "Use list inducing in the following nested list and access each and every element.\n",
    "x = [\"a\", [\"bb\", [\"ccc\", \"ddd\"], \"ee\", \"ff\"], \"g\", [\"hh\", \"ii\"], \"j\"]"
   ]
  },
  {
   "cell_type": "code",
   "execution_count": null,
   "id": "58b2b638-5ed8-438d-8131-3b787b93cb8f",
   "metadata": {},
   "outputs": [],
   "source": [
    "x = [\"a\", [\"bb\", [\"ccc\", \"ddd\"], \"ee\", \"ff\"], \"g\", [\"hh\", \"ii\"], \"j\"]"
   ]
  },
  {
   "cell_type": "code",
   "execution_count": null,
   "id": "d42a21fe-39f7-4aef-8a62-a177573dbc30",
   "metadata": {},
   "outputs": [],
   "source": [
    "x[0]"
   ]
  },
  {
   "cell_type": "code",
   "execution_count": null,
   "id": "543397f7-ee9c-4c31-9603-cb47a9ac2570",
   "metadata": {},
   "outputs": [],
   "source": [
    "x[1][0]"
   ]
  },
  {
   "cell_type": "code",
   "execution_count": null,
   "id": "9c177b22-0637-4a33-b988-283f712d7b33",
   "metadata": {},
   "outputs": [],
   "source": [
    "x[1][1][0]"
   ]
  },
  {
   "cell_type": "code",
   "execution_count": null,
   "id": "018e529f-0311-4d4a-949a-86e3a9183bd6",
   "metadata": {},
   "outputs": [],
   "source": [
    "x[1][1][1]"
   ]
  },
  {
   "cell_type": "code",
   "execution_count": null,
   "id": "6009d389-c7b3-48f9-a887-0311f78ee0be",
   "metadata": {},
   "outputs": [],
   "source": [
    "x[1][2]"
   ]
  },
  {
   "cell_type": "code",
   "execution_count": null,
   "id": "8a026f2c-d9c0-467a-9e19-1dccfb83a7b1",
   "metadata": {},
   "outputs": [],
   "source": [
    "x[1][3]"
   ]
  },
  {
   "cell_type": "code",
   "execution_count": null,
   "id": "24ec6053-2108-407f-b4a8-24cc28b6ca3d",
   "metadata": {},
   "outputs": [],
   "source": [
    "x[2]"
   ]
  },
  {
   "cell_type": "code",
   "execution_count": null,
   "id": "9888fb14-ff0d-4111-881e-eb8f0f41883b",
   "metadata": {},
   "outputs": [],
   "source": [
    "x[3][0]"
   ]
  },
  {
   "cell_type": "code",
   "execution_count": null,
   "id": "1cec20f3-b675-420a-891d-9e233a72cd84",
   "metadata": {},
   "outputs": [],
   "source": [
    "x[3][1]"
   ]
  },
  {
   "cell_type": "code",
   "execution_count": null,
   "id": "e45be077-e2c7-4429-b32c-1237db064b76",
   "metadata": {},
   "outputs": [],
   "source": [
    "x[4]"
   ]
  },
  {
   "cell_type": "markdown",
   "id": "3293b3a6-5fd7-4f88-8e35-c045581b59bb",
   "metadata": {},
   "source": [
    "# Lab Practice"
   ]
  },
  {
   "cell_type": "markdown",
   "id": "63026889-50e5-44ef-b4d0-eecaaff52aef",
   "metadata": {},
   "source": [
    "## **List**"
   ]
  },
  {
   "cell_type": "markdown",
   "id": "df6fe2ba-49f4-4c87-bb94-96489c0b037e",
   "metadata": {},
   "source": [
    "1. Make a list of 5 any integers."
   ]
  },
  {
   "cell_type": "code",
   "execution_count": null,
   "id": "4842d13d-19cc-4236-b6ed-956304ed7906",
   "metadata": {},
   "outputs": [],
   "source": [
    "lst1 = [1,2,3,4,5]\n",
    "print(lst1)"
   ]
  },
  {
   "cell_type": "markdown",
   "id": "997398f2-7997-41c3-9d5d-4335a46dfdad",
   "metadata": {},
   "source": [
    "Make a list that contains the student's name, the last four digits of the registration number as an integer, CGPA as a float, and a list that contains the GPA of all semesters. (Nested List)"
   ]
  },
  {
   "cell_type": "code",
   "execution_count": null,
   "id": "daac73ba-4342-4daa-b5ed-8b0e0d9ac4be",
   "metadata": {},
   "outputs": [],
   "source": [
    "student = ['Muhammad Talha', 0543, 3.4, [3.5,3.3]]\n",
    "print(student)"
   ]
  },
  {
   "cell_type": "code",
   "execution_count": null,
   "id": "1e16bd7a-a910-4e25-9b23-ba4ded0c389c",
   "metadata": {},
   "outputs": [],
   "source": [
    "print(student[2])"
   ]
  },
  {
   "cell_type": "markdown",
   "id": "77bf51d3-6034-48d9-bfb5-117ca7566da2",
   "metadata": {},
   "source": [
    "Print the list elements using the while loop and use the length function. (len)"
   ]
  },
  {
   "cell_type": "code",
   "execution_count": null,
   "id": "12470362-d5b2-499f-8d27-7d46e7b2b98b",
   "metadata": {},
   "outputs": [],
   "source": [
    "i = 0\n",
    "while i < len(student):\n",
    "    print(student[i])\n",
    "    i += 1"
   ]
  },
  {
   "cell_type": "code",
   "execution_count": null,
   "id": "453c2433-4c19-4a91-9080-50c82a282f09",
   "metadata": {},
   "outputs": [],
   "source": [
    "print(student)"
   ]
  },
  {
   "cell_type": "markdown",
   "id": "fa3358a6-a8ec-4d31-9aa5-d2bbbd9ee2eb",
   "metadata": {},
   "source": [
    "Access the list of all semester GPAs using negative indexing."
   ]
  },
  {
   "cell_type": "code",
   "execution_count": null,
   "id": "eecc3dbf-a608-4b2a-8c8f-ab3b7f5d6f5f",
   "metadata": {},
   "outputs": [],
   "source": [
    "student[-1]"
   ]
  },
  {
   "cell_type": "markdown",
   "id": "d4b0f3ff-5b35-4b01-aac9-2e1ea3d0f627",
   "metadata": {},
   "source": [
    "Make a list of the first 20 integers using the range function."
   ]
  },
  {
   "cell_type": "code",
   "execution_count": null,
   "id": "07c7fca6-33ca-498b-aae3-6cd0f252f22f",
   "metadata": {},
   "outputs": [],
   "source": [
    "lst2 = [x for x in range(1,21)]\n",
    "print(lst2)"
   ]
  },
  {
   "cell_type": "markdown",
   "id": "69bb335e-172e-46e8-8fc4-ed36526121d2",
   "metadata": {},
   "source": [
    "Make a list of odd integers from 20 to 40 using the range function."
   ]
  },
  {
   "cell_type": "code",
   "execution_count": null,
   "id": "40fab90a-23fd-454d-a8bf-e3fa46b928f7",
   "metadata": {},
   "outputs": [],
   "source": [
    "lst3 = [x for x in range(20,40) if x % 2 != 0]\n",
    "print(lst3)"
   ]
  },
  {
   "cell_type": "markdown",
   "id": "32926c00-8df8-4332-869d-aaabafcfa9a6",
   "metadata": {},
   "source": [
    "Consider the student list. *Student = [Ibrahim, Husain, Irfan, Ayub, Usman]* Use in and not in operators to ensure that the student is in the list or not."
   ]
  },
  {
   "cell_type": "code",
   "execution_count": null,
   "id": "eaf42c2d-4ab4-4457-ad14-768c16a82d07",
   "metadata": {},
   "outputs": [],
   "source": [
    "Students = ['Ibrahim', 'Husain', 'Irfan', 'Ayub', 'Usman']"
   ]
  },
  {
   "cell_type": "code",
   "execution_count": null,
   "id": "5ea9713c-0b6f-4056-9285-9a1ba6573991",
   "metadata": {},
   "outputs": [],
   "source": [
    "print('Ibrahim1' in Students)\n",
    "print('yahya' not in Students)\n",
    "print('Ayub' in Students)\n",
    "print('usman' not in Students)"
   ]
  },
  {
   "cell_type": "markdown",
   "id": "2c7c1ca6-7d81-4d8f-8688-9284c3c25186",
   "metadata": {},
   "source": [
    "Print all the student lists in task 8 using the for loop"
   ]
  },
  {
   "cell_type": "code",
   "execution_count": null,
   "id": "a655bd41-a27b-4a4b-98fc-60ef73b28b82",
   "metadata": {},
   "outputs": [],
   "source": [
    "for i in Students:\n",
    "    print(i)"
   ]
  },
  {
   "cell_type": "markdown",
   "id": "a296dfd9-c13a-4dfe-9959-6fd0e59e45c6",
   "metadata": {},
   "source": [
    "Observe what is print, what is the first thing print, what the last thing print. Consider task 8 for the student list.\n",
    "Student [1:3] and student [2:4]"
   ]
  },
  {
   "cell_type": "code",
   "execution_count": null,
   "id": "a61ed0bd-2407-4007-b997-40f529bf0aff",
   "metadata": {},
   "outputs": [],
   "source": [
    "Students [1:3]"
   ]
  },
  {
   "cell_type": "code",
   "execution_count": null,
   "id": "a4fa12e2-96fe-43f0-b96a-bf8273aeb79b",
   "metadata": {},
   "outputs": [],
   "source": [
    "Students [2:4]"
   ]
  },
  {
   "cell_type": "markdown",
   "id": "a61be7ad-c42f-43c6-8c3f-7bdf6fba8388",
   "metadata": {},
   "source": [
    "Make an appropriate list and use and demonstrate the use of the following mutator Methods.\n",
    "* append(obj)\n",
    "* extend(iterable)\n",
    "* insert(index, obj)\n",
    "* remove(obj)\n",
    "* pop([index=-1])"
   ]
  },
  {
   "cell_type": "code",
   "execution_count": null,
   "id": "7168536e-489f-4c9f-b032-b82a0ddc130d",
   "metadata": {},
   "outputs": [],
   "source": [
    "lst5 = ['a','b','c','d','e','f']\n",
    "lst5"
   ]
  },
  {
   "cell_type": "code",
   "execution_count": null,
   "id": "aaa12a18-371f-4ea2-8cd3-31350d7d0f20",
   "metadata": {},
   "outputs": [],
   "source": [
    "lst5.append('g')\n",
    "lst5"
   ]
  },
  {
   "cell_type": "code",
   "execution_count": null,
   "id": "69bf522a-e70c-4cef-897a-fb315e10eac1",
   "metadata": {},
   "outputs": [],
   "source": [
    "lst5.extend('h')\n",
    "lst5"
   ]
  },
  {
   "cell_type": "code",
   "execution_count": null,
   "id": "930822e6-5fc3-4563-a5e9-8c157356bc6a",
   "metadata": {},
   "outputs": [],
   "source": [
    "lst5.remove('x')\n",
    "lst5"
   ]
  },
  {
   "cell_type": "code",
   "execution_count": null,
   "id": "998a73c0-87f1-4a95-8172-7925b2e1f18d",
   "metadata": {},
   "outputs": [],
   "source": [
    "lst5.insert(2, 'x')\n",
    "lst5"
   ]
  },
  {
   "cell_type": "code",
   "execution_count": null,
   "id": "c42d3f23-b78e-4ca9-82ef-87d6d861f18a",
   "metadata": {},
   "outputs": [],
   "source": [
    "lst5.pop(-1)"
   ]
  },
  {
   "cell_type": "markdown",
   "id": "f67f1bdf-fe14-4e4d-a8ce-3a1ad2354c65",
   "metadata": {},
   "source": [
    "Use list inducing in the following nested list and access each and every element.\n",
    "x = [\"a\", [\"bb\", [\"ccc\", \"ddd\"], \"ee\", \"ff\"], \"g\", [\"hh\", \"ii\"], \"j\"]"
   ]
  },
  {
   "cell_type": "code",
   "execution_count": null,
   "id": "36c36717-cdd1-4fb7-b75e-b342317f613b",
   "metadata": {},
   "outputs": [],
   "source": [
    "x = [\"a\", [\"bb\", [\"ccc\", \"ddd\"], \"ee\", \"ff\"], \"g\", [\"hh\", \"ii\"], \"j\"]"
   ]
  },
  {
   "cell_type": "code",
   "execution_count": null,
   "id": "bf2da2cc-4d26-4c2b-941b-5e5fd6fb65a0",
   "metadata": {},
   "outputs": [],
   "source": [
    "print(x[0])"
   ]
  },
  {
   "cell_type": "code",
   "execution_count": null,
   "id": "f6b6eb80-8077-4c90-b4c8-468330cb4066",
   "metadata": {},
   "outputs": [],
   "source": [
    "print(x[1][0])"
   ]
  },
  {
   "cell_type": "code",
   "execution_count": null,
   "id": "a92c6790-2bb3-4c19-a627-e5cc3914f6b7",
   "metadata": {},
   "outputs": [],
   "source": [
    "print(x[1][1][0])"
   ]
  },
  {
   "cell_type": "code",
   "execution_count": null,
   "id": "84746c0d-accb-473a-a761-c1277a294199",
   "metadata": {},
   "outputs": [],
   "source": [
    "print(x[1][1][1])"
   ]
  },
  {
   "cell_type": "code",
   "execution_count": null,
   "id": "9764e7a0-1f32-4aad-af91-3ddde0f30878",
   "metadata": {},
   "outputs": [],
   "source": [
    "print(x[1][2])"
   ]
  },
  {
   "cell_type": "code",
   "execution_count": null,
   "id": "917ec839-8ff2-4b0b-a3a5-6e008e9184a4",
   "metadata": {},
   "outputs": [],
   "source": [
    "print(x[1][3])"
   ]
  },
  {
   "cell_type": "code",
   "execution_count": null,
   "id": "b56f3abe-0cef-456a-b112-ebc157563263",
   "metadata": {},
   "outputs": [],
   "source": [
    "print(x[2])"
   ]
  },
  {
   "cell_type": "code",
   "execution_count": null,
   "id": "560c64bc-fbbe-49e6-aaf8-fffb08156d1a",
   "metadata": {},
   "outputs": [],
   "source": [
    "print(x[3][0])"
   ]
  },
  {
   "cell_type": "code",
   "execution_count": null,
   "id": "91ed9902-2d99-407a-8159-5af9ec479db7",
   "metadata": {},
   "outputs": [],
   "source": [
    "print(x[3][1])"
   ]
  },
  {
   "cell_type": "code",
   "execution_count": null,
   "id": "a8b044b6-958c-47f1-8a8c-78f034cd935c",
   "metadata": {},
   "outputs": [],
   "source": [
    "print(x[4])"
   ]
  },
  {
   "cell_type": "markdown",
   "id": "171936d0-9969-4fd4-bd40-3d2fb4fbcd1c",
   "metadata": {},
   "source": [
    "# **Tuple**"
   ]
  },
  {
   "cell_type": "markdown",
   "id": "19670846-4768-42fa-83fc-6824f858cbd6",
   "metadata": {},
   "source": [
    "1. Make a tuple containing first five letters of English. (definition)"
   ]
  },
  {
   "cell_type": "code",
   "execution_count": null,
   "id": "6b8e0c7d-d5ef-415e-bb83-f6486c84f55b",
   "metadata": {},
   "outputs": [],
   "source": [
    "tpl1 = ('a','b','c','d','e')"
   ]
  },
  {
   "cell_type": "code",
   "execution_count": null,
   "id": "ade9e193-2bd5-44ac-bf2f-dfd9d4816e41",
   "metadata": {},
   "outputs": [],
   "source": [
    "tpl1"
   ]
  },
  {
   "cell_type": "markdown",
   "id": "2ee67915-b5d9-448c-978f-df66710de584",
   "metadata": {},
   "source": [
    "Use the index to access the third and last element."
   ]
  },
  {
   "cell_type": "code",
   "execution_count": null,
   "id": "2c37b0d2-9a9f-433e-bf89-513426200e75",
   "metadata": {},
   "outputs": [],
   "source": [
    "tpl1[2]"
   ]
  },
  {
   "cell_type": "code",
   "execution_count": null,
   "id": "755c32da-6eaa-448e-b41a-85c336fb2c5b",
   "metadata": {},
   "outputs": [],
   "source": [
    "tpl1[4]"
   ]
  },
  {
   "cell_type": "markdown",
   "id": "47af2a6b-8d76-4656-b481-4dc4b5052be5",
   "metadata": {},
   "source": [
    "Make an appropriate list and tuple and use different operations that will show that list is mutable and tuple is immutable."
   ]
  },
  {
   "cell_type": "code",
   "execution_count": null,
   "id": "b16b430a-d9fd-4576-9ea2-8c7fa274e1c3",
   "metadata": {},
   "outputs": [],
   "source": [
    "lst1 = ['a', 'b', 'c', 'd', 'e']"
   ]
  },
  {
   "cell_type": "code",
   "execution_count": null,
   "id": "177417fb-8b2d-4c80-bdf7-9c8818b87f69",
   "metadata": {},
   "outputs": [],
   "source": [
    "lst1"
   ]
  },
  {
   "cell_type": "code",
   "execution_count": null,
   "id": "8b24f136-4568-4035-a2af-66041fbe6034",
   "metadata": {},
   "outputs": [],
   "source": [
    "lst1.append('f')    \n",
    "print(lst1)"
   ]
  },
  {
   "cell_type": "code",
   "execution_count": null,
   "id": "77d06b3a-7d63-40e4-ba2e-8c74b538509d",
   "metadata": {},
   "outputs": [],
   "source": [
    "# .append()\n",
    "tpl1.append('f')    # tuple is immutable and show error just after running\n",
    "print(tpl1)"
   ]
  },
  {
   "cell_type": "code",
   "execution_count": null,
   "id": "ec17237f-e246-40f6-a185-bf1e0c8c2792",
   "metadata": {},
   "outputs": [],
   "source": [
    "lst1[2] = 'e'   # mutable\n",
    "lst1"
   ]
  },
  {
   "cell_type": "code",
   "execution_count": null,
   "id": "bf91670e-0e0d-4986-ad93-00fd8dd620b1",
   "metadata": {},
   "outputs": [],
   "source": [
    "tpl1[0] = 'x'   # immutable it shwo an error juct after running\n",
    "tpl1"
   ]
  },
  {
   "cell_type": "markdown",
   "id": "6d6ebabc-76c1-4924-8f86-1d6c7f2cd673",
   "metadata": {},
   "source": [
    "Make a tuple num = (1, 2, 3, 4). a. Observe the output num[2] = 9"
   ]
  },
  {
   "cell_type": "code",
   "execution_count": null,
   "id": "2802a1c0-9754-47d9-a601-0a9014b35e64",
   "metadata": {},
   "outputs": [],
   "source": [
    "num[2] = 9  # i abserb that tuple is immutable"
   ]
  },
  {
   "cell_type": "markdown",
   "id": "29888dc1-82c9-4e7b-a99c-c7f62a4c14ff",
   "metadata": {},
   "source": [
    "# **Dictionary**"
   ]
  },
  {
   "cell_type": "markdown",
   "id": "33050920-992a-487f-a43a-133299fbdae8",
   "metadata": {},
   "source": [
    "consider the following structure and observe. Fd= { ‘one’: ‘aik’, , ‘three’: ‘teen’, ‘ten’ : ‘das’, ‘fifteen’ : ‘pandra’}\n",
    "Bracket type\n",
    "* Print Fd\n",
    "* Fd[‘one’]\n",
    "* Fd[‘ten’]\n",
    "* del Fd[‘three’] and then print Fd.\n",
    "* Len(Fd).\n",
    "* Use the key method and print the list of keys.\n",
    "* Use the value function to print the list of values.\n",
    "* Observe the output of Fd.items().\n",
    "* Observe the output Fd.has_key(‘one) and Fd.has_key(‘two’) and think where such type of output will help and required.\n",
    "* To copy the dictionary, one may use one of the following. Verify by printing copy and alias.\n",
    "* copy = Fd.copy()\n",
    "* alias = Fd\n",
    "* Now let alias[‘three’] = ‘3’, now print alias and observe the result.\n",
    "* Also let copy[‘three’] = ‘3’, now print copy and observe the result."
   ]
  },
  {
   "cell_type": "code",
   "execution_count": null,
   "id": "bf961873-a146-4d63-ae3b-e4d783a333f4",
   "metadata": {},
   "outputs": [],
   "source": [
    "fd= { 'one': 'aik', 'three': 'teen', 'ten' : 'das', 'fifteen' : 'pandra'}\n",
    "print(type({}))"
   ]
  },
  {
   "cell_type": "code",
   "execution_count": null,
   "id": "ff2fe1ee-70f0-47cf-bd18-5c40a04a7b6d",
   "metadata": {},
   "outputs": [],
   "source": [
    "print(fd)"
   ]
  },
  {
   "cell_type": "code",
   "execution_count": null,
   "id": "3e6af4c7-3ce7-4631-999e-cfb0f9aad558",
   "metadata": {},
   "outputs": [],
   "source": [
    "fd['one']"
   ]
  },
  {
   "cell_type": "code",
   "execution_count": null,
   "id": "0370e35c-4683-43df-ba25-1738c073fffd",
   "metadata": {},
   "outputs": [],
   "source": [
    "fd['ten']"
   ]
  },
  {
   "cell_type": "code",
   "execution_count": null,
   "id": "4dc66695-4319-458c-aed2-6276ef870b61",
   "metadata": {},
   "outputs": [],
   "source": [
    "del fd['three']\n",
    "print(fd)"
   ]
  },
  {
   "cell_type": "code",
   "execution_count": null,
   "id": "2af59688-1b50-4f3d-ab82-7e349d4c8d90",
   "metadata": {},
   "outputs": [],
   "source": [
    "len(fd)"
   ]
  },
  {
   "cell_type": "code",
   "execution_count": null,
   "id": "55fb3968-0394-4e84-86c1-28dc6031dd79",
   "metadata": {},
   "outputs": [],
   "source": [
    "fd.keys()"
   ]
  },
  {
   "cell_type": "code",
   "execution_count": null,
   "id": "b513df3c-63d4-4529-99f1-1322111bdc56",
   "metadata": {},
   "outputs": [],
   "source": [
    "fd.values()"
   ]
  },
  {
   "cell_type": "code",
   "execution_count": null,
   "id": "051c95f8-c366-433d-ac3f-af9c54ef497b",
   "metadata": {},
   "outputs": [],
   "source": [
    "fd.items()"
   ]
  },
  {
   "cell_type": "code",
   "execution_count": null,
   "id": "9c8c5efb-7261-453b-94ac-0af81a666cb9",
   "metadata": {},
   "outputs": [],
   "source": [
    "fd.has_key('one')   # in ptython 3 .has_key methode were remove after running it show error"
   ]
  },
  {
   "cell_type": "markdown",
   "id": "40cb670c-11e5-4cd0-87b5-d967ad55f65d",
   "metadata": {},
   "source": [
    " Observe the output Fd.has_key(‘one) and Fd.has_key(‘two’) and think where such type of output will help and required"
   ]
  },
  {
   "cell_type": "markdown",
   "id": "59dfb024-ebd1-4eb1-b0ca-2998b30cec9a",
   "metadata": {},
   "source": [
    "To copy the dictionary, one may use one of the following. Verify by printing copy and alias.\n",
    "* copy = Fd.copy()\n",
    "* alias = Fd\n",
    "* Now let alias[‘three’] = ‘3’, now print alias and observe the result.\n",
    "* Also let copy[‘three’] = ‘3’, now print copy and observe the result."
   ]
  },
  {
   "cell_type": "code",
   "execution_count": null,
   "id": "32bc6ffe-ed84-4862-80d5-b0851dc9e747",
   "metadata": {},
   "outputs": [],
   "source": [
    "copy = fd.copy()"
   ]
  },
  {
   "cell_type": "code",
   "execution_count": null,
   "id": "c57b7df7-a820-4181-9ef0-8ed34111d553",
   "metadata": {},
   "outputs": [],
   "source": [
    "alias = copy"
   ]
  },
  {
   "cell_type": "code",
   "execution_count": null,
   "id": "9a75a15c-7820-4e9f-904b-b7c0a0adfe2c",
   "metadata": {},
   "outputs": [],
   "source": [
    "alias['three'] = '3'\n",
    "alias"
   ]
  },
  {
   "cell_type": "code",
   "execution_count": null,
   "id": "458784de-167c-4a1b-8e1f-f8662ecb7688",
   "metadata": {},
   "outputs": [],
   "source": [
    "copy['three'] = '3'\n",
    "copy"
   ]
  },
  {
   "cell_type": "markdown",
   "id": "f14c3d96-01e4-455a-a0f2-72b7d5e1303b",
   "metadata": {},
   "source": [
    "Make an appropriate dictionary and use the following built-in function and observe the\n",
    "result.\n",
    "* .clear()\n",
    "* .get()\n",
    "* .item()\n",
    "* .keys()\n",
    "* .vallues()"
   ]
  },
  {
   "cell_type": "code",
   "execution_count": null,
   "id": "80316dde-e070-4da2-9870-a83b3b9ee71b",
   "metadata": {},
   "outputs": [],
   "source": [
    "dict1 = {'a': 1, 'b': 2, 'c': 3, 'd': 4, 'f':5}\n",
    "dict1"
   ]
  },
  {
   "cell_type": "code",
   "execution_count": null,
   "id": "d49a76e4-bdcd-4623-87aa-4da267cf9865",
   "metadata": {},
   "outputs": [],
   "source": [
    "dict1.get('b')    #.get()"
   ]
  },
  {
   "cell_type": "code",
   "execution_count": null,
   "id": "40cd3f76-064e-48a7-b5bf-4d575f778d35",
   "metadata": {},
   "outputs": [],
   "source": [
    "dict1.get('f')  # .get()"
   ]
  },
  {
   "cell_type": "code",
   "execution_count": null,
   "id": "526ccc8f-e34d-4038-a364-c3d9f5cecd92",
   "metadata": {},
   "outputs": [],
   "source": [
    "dict1.items()     #  .items()"
   ]
  },
  {
   "cell_type": "code",
   "execution_count": null,
   "id": "05f7297a-98a5-45f1-8c25-a06a6681ba8e",
   "metadata": {},
   "outputs": [],
   "source": [
    "dict1.keys()     # .keys()"
   ]
  },
  {
   "cell_type": "code",
   "execution_count": null,
   "id": "64c42e2c-943f-4e60-b60e-b1e22ca3926c",
   "metadata": {},
   "outputs": [],
   "source": [
    "dict1.values()       # .values()"
   ]
  },
  {
   "cell_type": "code",
   "execution_count": null,
   "id": "d9e0c950-8290-4172-8fca-13b92f70cc32",
   "metadata": {},
   "outputs": [],
   "source": [
    "dict1.clear()          # .clear()"
   ]
  },
  {
   "cell_type": "code",
   "execution_count": null,
   "id": "4eb58a7b-cda7-43c8-95b6-e757825bce91",
   "metadata": {},
   "outputs": [],
   "source": [
    "dict1"
   ]
  },
  {
   "cell_type": "markdown",
   "id": "def2bed6-df0a-479e-9896-f595328544ff",
   "metadata": {},
   "source": [
    "# **List comprehension:**"
   ]
  },
  {
   "cell_type": "markdown",
   "id": "1014ee99-ead9-4809-a335-99b96eddd203",
   "metadata": {},
   "source": [
    "a. Consider the following code and print the square."
   ]
  },
  {
   "cell_type": "code",
   "execution_count": null,
   "id": "1ab101d5-a586-43ea-8670-a7a165850a7c",
   "metadata": {},
   "outputs": [],
   "source": [
    "squares = []   # this simple way to print squares of number  from 1 to 10\n",
    "for x in range(10):\n",
    " squares.append(x * x)\n",
    "squares"
   ]
  },
  {
   "cell_type": "markdown",
   "id": "2988bf0c-4298-47a9-9abf-3fe2a3bb10f0",
   "metadata": {},
   "source": [
    "Replace the above code with the following. Print the square. This sample one-line code is called list comprehension."
   ]
  },
  {
   "cell_type": "code",
   "execution_count": null,
   "id": "90848c19-eb4e-460d-b148-1f6bb2d215e8",
   "metadata": {},
   "outputs": [],
   "source": [
    "squares = [x * x for x in range(10)]  # this list comprehension way to print squares of number  from 1 to 10\n",
    "squares"
   ]
  },
  {
   "cell_type": "markdown",
   "id": "94f78e72-2dac-42ef-b400-1338f0cf5ecc",
   "metadata": {},
   "source": [
    "Change x*x by any function of x and observe the resulting list."
   ]
  },
  {
   "cell_type": "code",
   "execution_count": null,
   "id": "63be7491-7063-439e-b35c-9f2eb3a97ab7",
   "metadata": {},
   "outputs": [],
   "source": [
    "squares = [x for x in range(10)] \n",
    "squares"
   ]
  },
  {
   "cell_type": "markdown",
   "id": "22d372c2-39ff-4fdf-8f67-47168f83f75b",
   "metadata": {},
   "source": [
    "List comprehensions can filter values based on some arbitrary condition that decides whether or not the resulting value becomes a part of the output list."
   ]
  },
  {
   "cell_type": "code",
   "execution_count": null,
   "id": "ab9c9360-5b04-46c5-ae05-4bc75a5be7ed",
   "metadata": {},
   "outputs": [],
   "source": [
    "even_squares = [x * x for x in range(10) if x % 2 == 0]   # list  comperhension\n",
    "even_squares"
   ]
  },
  {
   "cell_type": "markdown",
   "id": "b359202e-319a-4c35-9f1b-0ffc455fefbd",
   "metadata": {},
   "source": [
    "The generalized syntax: values = [expression for item in collection if condition]\n",
    "This new list comprehension can be transformed into an equivalent for-loop:"
   ]
  },
  {
   "cell_type": "code",
   "execution_count": null,
   "id": "f9be23fe-97f0-4637-b92f-6844f01ef0eb",
   "metadata": {},
   "outputs": [],
   "source": [
    "even_squares = []           #  simple form to print number with for loop\n",
    "for x in range(10):\n",
    "    if x % 2 == 0:\n",
    "        even_squares.append(x * x)\n",
    "even_squares"
   ]
  },
  {
   "cell_type": "markdown",
   "id": "e0d74308-8b4e-4fc2-b185-ffecb269105f",
   "metadata": {},
   "source": [
    "# **Dictionary comprehension:**"
   ]
  },
  {
   "cell_type": "markdown",
   "id": "213ef74d-dce0-46a0-91e1-c1aef69ba9ce",
   "metadata": {},
   "source": [
    "a. { x: x * x for x in range(5) }"
   ]
  },
  {
   "cell_type": "code",
   "execution_count": 2,
   "id": "79a7813b-e9bc-4171-88a8-d34374ece9f4",
   "metadata": {},
   "outputs": [],
   "source": [
    "a = { x: x * x for x in range(5) }"
   ]
  },
  {
   "cell_type": "code",
   "execution_count": 3,
   "id": "ca4ecec7-6afb-43b5-bfdd-0b73724a340a",
   "metadata": {},
   "outputs": [
    {
     "data": {
      "text/plain": [
       "{0: 0, 1: 1, 2: 4, 3: 9, 4: 16}"
      ]
     },
     "execution_count": 3,
     "metadata": {},
     "output_type": "execute_result"
    }
   ],
   "source": [
    "a"
   ]
  }
 ],
 "metadata": {
  "kernelspec": {
   "display_name": "Python 3 (ipykernel)",
   "language": "python",
   "name": "python3"
  },
  "language_info": {
   "codemirror_mode": {
    "name": "ipython",
    "version": 3
   },
   "file_extension": ".py",
   "mimetype": "text/x-python",
   "name": "python",
   "nbconvert_exporter": "python",
   "pygments_lexer": "ipython3",
   "version": "3.12.4"
  }
 },
 "nbformat": 4,
 "nbformat_minor": 5
}
