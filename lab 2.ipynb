{
 "cells": [
  {
   "cell_type": "markdown",
   "id": "160e0160-aba3-4dc4-9527-2fff32b81f00",
   "metadata": {},
   "source": [
    "# ***Name : Muhammad Talha***\n",
    "# ***Req No : 23jzele0543***\n",
    "# **Lab : 02**"
   ]
  },
  {
   "cell_type": "markdown",
   "id": "a70b51cd-5455-4335-b131-2813216e8cf8",
   "metadata": {},
   "source": [
    "# Lab Report"
   ]
  },
  {
   "cell_type": "code",
   "execution_count": 4,
   "id": "92e557fd-b59e-4a1d-9959-9010e83f0577",
   "metadata": {},
   "outputs": [
    {
     "name": "stdout",
     "output_type": "stream",
     "text": [
      "30\n"
     ]
    }
   ],
   "source": [
    "def voltage(current,resistance):   # define function\n",
    "    volt = current * resistance\n",
    "    return volt\n",
    "# argument passing by positional argument\n",
    "current_p = 3\n",
    "resistance_p = 10\n",
    "volt1 = voltage(current_p,resistance_p)  # call the function \n",
    "print(volt1)"
   ]
  },
  {
   "cell_type": "code",
   "execution_count": 5,
   "id": "a0190532-ffea-402e-9182-e9210204bcdc",
   "metadata": {},
   "outputs": [
    {
     "name": "stdout",
     "output_type": "stream",
     "text": [
      "30\n"
     ]
    }
   ],
   "source": [
    "# argument passing by keyword argumnet\n",
    "volt2 = voltage(current = current_p, resistance = resistance_p) # call the function \n",
    "print(volt2)"
   ]
  },
  {
   "cell_type": "code",
   "execution_count": 14,
   "id": "0f0f82be-3b20-404c-af4d-eef502749684",
   "metadata": {},
   "outputs": [
    {
     "name": "stdout",
     "output_type": "stream",
     "text": [
      "8\n"
     ]
    }
   ],
   "source": [
    "# argument passing with a defult value\n",
    "def voltage2(current,resistance=2): # define function\n",
    "    volt = current * resistance\n",
    "    return volt\n",
    "currnet_ = 4\n",
    "volt = voltage2(currnet_)   # call the function \n",
    "print(volt)"
   ]
  },
  {
   "cell_type": "code",
   "execution_count": null,
   "id": "4ca6fc04-0bd1-44ca-a616-0fe4e872542f",
   "metadata": {},
   "outputs": [],
   "source": [
    "# give less number of argument in to function\n",
    "def voltage3(current,resistance):  # define function\n",
    "    volt = current * resistance\n",
    "    return volt\n",
    "volt1 = voltage3(5) # it show error beacuse one argument is missing in the positionol arguments\n",
    "print(volt1)"
   ]
  },
  {
   "cell_type": "code",
   "execution_count": null,
   "id": "b28b774d-c507-420f-837a-f19cffbe3a4f",
   "metadata": {},
   "outputs": [],
   "source": [
    "def voltage3(current,resistance):\n",
    "    volt = current * resistance\n",
    "    return volt\n",
    "current_p = 3\n",
    "resistance_p = 7\n",
    "volt = voltage(current=current_p,resistance) # it show error that positional argument follows keyword argument "
   ]
  },
  {
   "cell_type": "markdown",
   "id": "a35bddeb-3041-4d3f-9cbd-9f7df6cb8ea7",
   "metadata": {},
   "source": [
    "# Lab practice"
   ]
  },
  {
   "cell_type": "markdown",
   "id": "f5c9581f-810c-48f4-a7a0-e25ce6cda0a7",
   "metadata": {},
   "source": [
    "# String Formatting\r\n",
    "\r\n",
    "### Objective:\r\n",
    "Understand and observe the output of string formatting techniques in Python.\r\n",
    "\r\n",
    "---\r\n",
    "\r\n",
    "### Task:\r\n",
    "Observe the output of the following code snippets:"
   ]
  },
  {
   "cell_type": "code",
   "execution_count": 16,
   "id": "5be74af2-ba46-4b71-82a2-094a3d9e4387",
   "metadata": {},
   "outputs": [
    {
     "name": "stdout",
     "output_type": "stream",
     "text": [
      "Hello, bob\n",
      "Hey bob, there is a 0xbadc0ffee error!\n"
     ]
    }
   ],
   "source": [
    "errno = 50159747054\n",
    "name = 'bob'\n",
    "print('Hello, %s' % name)\n",
    "print('Hey %s, there is a 0x%x error!' % (name, errno))\n"
   ]
  },
  {
   "cell_type": "code",
   "execution_count": 17,
   "id": "039d2b5e-218f-486e-b1f9-8d5964f19b88",
   "metadata": {},
   "outputs": [
    {
     "name": "stdout",
     "output_type": "stream",
     "text": [
      "Hey bob, there is a 0xbadc0ffee error!\n"
     ]
    }
   ],
   "source": [
    "print('Hey %(name)s, there is a 0x%(errno)x error!' % { \"name\": name, \"errno\": errno })"
   ]
  },
  {
   "cell_type": "markdown",
   "id": "8b2ca282-ed76-48f9-b319-ed93488e80ce",
   "metadata": {},
   "source": [
    "2. Observe the output of: (Mostly used)"
   ]
  },
  {
   "cell_type": "code",
   "execution_count": 18,
   "id": "ffa19205-288f-404a-be85-d22b5250150d",
   "metadata": {},
   "outputs": [
    {
     "name": "stdout",
     "output_type": "stream",
     "text": [
      "Hello, bob\n"
     ]
    }
   ],
   "source": [
    "print('Hello, {}'.format(name))"
   ]
  },
  {
   "cell_type": "markdown",
   "id": "3a62ad36-0e77-4353-b8db-c51eb38cdf14",
   "metadata": {},
   "source": [
    "3. Observe the output of: (Recommended for Python 3.6+)"
   ]
  },
  {
   "cell_type": "code",
   "execution_count": 19,
   "id": "e1f05d64-90e7-4134-81cf-6e551dae561b",
   "metadata": {},
   "outputs": [
    {
     "name": "stdout",
     "output_type": "stream",
     "text": [
      "Hello, bob!\n"
     ]
    }
   ],
   "source": [
    "print(f'Hello, {name}!')"
   ]
  },
  {
   "cell_type": "markdown",
   "id": "ac49d76b-77a5-48b6-8e2c-b4744d87a1cf",
   "metadata": {},
   "source": [
    "4. Observe the output of:"
   ]
  },
  {
   "cell_type": "code",
   "execution_count": 20,
   "id": "57c5b88c-29db-404d-9ebf-d519ce098cd1",
   "metadata": {},
   "outputs": [
    {
     "data": {
      "text/plain": [
       "'Hey, bob!'"
      ]
     },
     "execution_count": 20,
     "metadata": {},
     "output_type": "execute_result"
    }
   ],
   "source": [
    "# a:\n",
    "from string import Template\n",
    "2\n",
    "t = Template('Hey, $name!')\n",
    "t.substitute(name=name)"
   ]
  },
  {
   "cell_type": "code",
   "execution_count": 21,
   "id": "d540c288-f829-425c-81b2-2a729dc09a38",
   "metadata": {},
   "outputs": [
    {
     "data": {
      "text/plain": [
       "'Hey bob, there is a 0xbadc0ffee error!'"
      ]
     },
     "execution_count": 21,
     "metadata": {},
     "output_type": "execute_result"
    }
   ],
   "source": [
    "# b:\n",
    "templ_string = 'Hey $name, there is a $error error!'\n",
    "Template(templ_string).substitute(name=name, error=hex(errno))"
   ]
  },
  {
   "cell_type": "markdown",
   "id": "836d8bf2-6600-4e39-8553-14d7c5256e7b",
   "metadata": {},
   "source": [
    "# Built-in Function:"
   ]
  },
  {
   "cell_type": "markdown",
   "id": "9816804e-04af-4964-a7bd-2adf400f2c17",
   "metadata": {},
   "source": [
    "1. Use len() and find the length of three lists and two strings. "
   ]
  },
  {
   "cell_type": "code",
   "execution_count": 22,
   "id": "94d99f80-7f0a-4573-ab96-d5263b94c614",
   "metadata": {},
   "outputs": [
    {
     "name": "stdout",
     "output_type": "stream",
     "text": [
      "7\n",
      "7\n",
      "4\n"
     ]
    }
   ],
   "source": [
    "l1 = [2,4,5,6,7,8,9]\n",
    "l2 = ['a','b','u','hello', 3.6,8,99.8]\n",
    "l3 = ['i','am','Muhammad','talha']\n",
    "print(len(l1))\n",
    "print(len(l2))\n",
    "print(len(l3))"
   ]
  },
  {
   "cell_type": "markdown",
   "id": "73cf424a-29ba-4263-b613-ed650e27763f",
   "metadata": {},
   "source": [
    "2. Use len() and find the length of three lists and two strings. "
   ]
  },
  {
   "cell_type": "code",
   "execution_count": 23,
   "id": "6a033dfc-8601-41f3-b939-69ce49d8db90",
   "metadata": {},
   "outputs": [
    {
     "name": "stdout",
     "output_type": "stream",
     "text": [
      "15\n",
      "16\n"
     ]
    }
   ],
   "source": [
    "str1 = 'who are you bro'\n",
    "str2 = 'I am yahya ahmad'\n",
    "print(len(str1))\n",
    "print(len(str2))"
   ]
  },
  {
   "cell_type": "markdown",
   "id": "08f6f18d-5561-4781-8356-b02a9ab08026",
   "metadata": {},
   "source": [
    "3. Use for three example .is_integer()."
   ]
  },
  {
   "cell_type": "code",
   "execution_count": 25,
   "id": "c002e000-383a-4bb6-823e-5ca6b7b9ed72",
   "metadata": {},
   "outputs": [
    {
     "data": {
      "text/plain": [
       "True"
      ]
     },
     "execution_count": 25,
     "metadata": {},
     "output_type": "execute_result"
    }
   ],
   "source": [
    "a = 5.1\n",
    "a.is_integer()\n",
    "b = 22.1\n",
    "b.is_integer()\n",
    "c=400.0\n",
    "c.is_integer()"
   ]
  },
  {
   "cell_type": "markdown",
   "id": "1b677f4a-6924-4331-99cf-fa27a7d7da42",
   "metadata": {},
   "source": [
    "iii. Use for three example .conjugate()"
   ]
  },
  {
   "cell_type": "code",
   "execution_count": 26,
   "id": "9eb39612-011a-4f48-af76-6843f4fbd464",
   "metadata": {},
   "outputs": [
    {
     "name": "stdout",
     "output_type": "stream",
     "text": [
      "(9-9j)\n",
      "(3-12j)\n"
     ]
    }
   ],
   "source": [
    "c = 9 + 9j\n",
    "d = 3 + 12j\n",
    "print(c.conjugate())\n",
    "print(d.conjugate())"
   ]
  },
  {
   "cell_type": "markdown",
   "id": "0a0ba26a-6140-4d99-b18f-e0ff381a57eb",
   "metadata": {},
   "source": [
    "**Function**"
   ]
  },
  {
   "cell_type": "markdown",
   "id": "10476ddb-4d87-475f-bcbd-ea72c023b094",
   "metadata": {},
   "source": [
    "# Task No 01"
   ]
  },
  {
   "cell_type": "markdown",
   "id": "db0ab23d-02b3-4afb-a206-25424c688434",
   "metadata": {},
   "source": [
    "Define a **function** that will take the name and registration number of a student and print it.\n",
    "Include appropriate docstrings.\n",
    "* The argument pass will like positional arguments.\n",
    "* The arguments passing will like keyword arguments.\n",
    "* The arguments passing will like default arguments.\n",
    "* Pass the arguments of one style to the other.\n",
    "* Passing less number of arguments and check the error message.\n",
    "* Verify that whether positional argument follows keyword argument"
   ]
  },
  {
   "cell_type": "code",
   "execution_count": 27,
   "id": "4a6632ec-f923-406e-a734-aa88a93661d0",
   "metadata": {},
   "outputs": [],
   "source": [
    "def student():  \n",
    "    pass"
   ]
  },
  {
   "cell_type": "code",
   "execution_count": 33,
   "id": "ef0ff17b-6137-471c-95ba-184f8d96cb17",
   "metadata": {},
   "outputs": [
    {
     "name": "stdout",
     "output_type": "stream",
     "text": [
      "None\n"
     ]
    }
   ],
   "source": [
    "def student(name=\"Enter Name\",reg_no=\"Enter Reg No\"):  \n",
    "    student = name,reg_no\n",
    "    return student\n",
    "print(student.__doc__)"
   ]
  },
  {
   "cell_type": "code",
   "execution_count": 34,
   "id": "450c4b30-9e1d-40eb-894d-b5457ca0a641",
   "metadata": {},
   "outputs": [
    {
     "name": "stdout",
     "output_type": "stream",
     "text": [
      "('Muhammad Talha', '23jzele0543')\n"
     ]
    }
   ],
   "source": [
    "print(student('Muhammad Talha','23jzele0543')) #positional argument"
   ]
  },
  {
   "cell_type": "code",
   "execution_count": 35,
   "id": "70133800-d8e3-493d-8308-29fc16f78e45",
   "metadata": {},
   "outputs": [
    {
     "name": "stdout",
     "output_type": "stream",
     "text": [
      "('Muhammad Talha', '23jzele0543')\n"
     ]
    }
   ],
   "source": [
    "print(student(name='Muhammad Talha',reg_no='23jzele0543')) # keyword argument"
   ]
  },
  {
   "cell_type": "code",
   "execution_count": 36,
   "id": "577e98cc-f0c1-4e6a-9e5d-ebd5a7747a39",
   "metadata": {},
   "outputs": [
    {
     "name": "stdout",
     "output_type": "stream",
     "text": [
      "('Enter Name', 'Enter Reg No')\n"
     ]
    }
   ],
   "source": [
    "print(student()) # default parameter"
   ]
  },
  {
   "cell_type": "code",
   "execution_count": 37,
   "id": "4ecb65fd-d3aa-4dec-92f5-dddc1f1d9fa7",
   "metadata": {},
   "outputs": [
    {
     "name": "stdout",
     "output_type": "stream",
     "text": [
      "('Muhammad Talha', '23jzele0543')\n"
     ]
    }
   ],
   "source": [
    "def student(name,reg_no='0000'):  # function with one default parameter\n",
    "    student = name,reg_no\n",
    "    return student\n",
    "print(student(name='Muhammad Talha',reg_no='23jzele0543'))  # argument pass of one style to another style"
   ]
  },
  {
   "cell_type": "code",
   "execution_count": 38,
   "id": "ba51445d-f3c8-4ac0-a012-e6c61bf540a3",
   "metadata": {},
   "outputs": [],
   "source": [
    "def student(name,reg_no):  # function with no default parameter\n",
    "    student = name,reg_no\n",
    "    return student"
   ]
  },
  {
   "cell_type": "code",
   "execution_count": null,
   "id": "44be08fa-1a51-4269-bb30-ed4b909638ce",
   "metadata": {},
   "outputs": [],
   "source": [
    "print(student('Muhammad'))  # student() missing 1 required positional argument: 'reg_no'"
   ]
  },
  {
   "cell_type": "code",
   "execution_count": null,
   "id": "3436f5e9-807c-4e57-9858-3adf8f4de9c6",
   "metadata": {},
   "outputs": [],
   "source": [
    "print(student(name='Yahya','23jze;e0528')) # error: positional argument follows keyword argument"
   ]
  },
  {
   "cell_type": "markdown",
   "id": "242551ad-ce4b-4b49-a18f-52110f97b8b4",
   "metadata": {},
   "source": [
    " # Task No  02"
   ]
  },
  {
   "cell_type": "markdown",
   "id": "6edd8850-3637-40b8-97b3-1209cfbf146d",
   "metadata": {},
   "source": [
    "Define a function that will take the parameters as current and resistance and will output the\n",
    "voltage across the resistance. Include appropriate docstrings.\n",
    "* The argument pass will like positional arguments.\n",
    "* The arguments passing will like keyword arguments.\n",
    "* The arguments passing will like default arguments.\n",
    "* Pass the arguments of one style to the other.\n",
    "* Passing less number of arguments and check the error message.\n",
    "* Verify that whether positional argument follows keyword argument."
   ]
  },
  {
   "cell_type": "code",
   "execution_count": null,
   "id": "1fe6c499-6f26-4d74-ae42-9b0fe81db9f5",
   "metadata": {},
   "outputs": [],
   "source": [
    "def voltage():\n",
    "    pass"
   ]
  },
  {
   "cell_type": "code",
   "execution_count": null,
   "id": "2e003457-446e-4177-8be4-21070e5aa000",
   "metadata": {},
   "outputs": [],
   "source": [
    "def voltage(current=1,resistance=1):\n",
    "    \"\"\"\n",
    "    Calculate the voltage across a resistor using Ohm's Law.\n",
    "    Parameters:\n",
    "    current (float): \n",
    "    resistance (float)\n",
    "    Returns:\n",
    "    The voltage across the resistor (in volts).\n",
    "    \"\"\"\n",
    "    voltage = current * resistance\n",
    "    return voltage\n",
    "print(voltage.__doc__)"
   ]
  },
  {
   "cell_type": "code",
   "execution_count": null,
   "id": "218d1660-c3c1-448e-a1bf-cd3b2e9cd054",
   "metadata": {},
   "outputs": [],
   "source": [
    "print(voltage(4,8)) # positional argument"
   ]
  },
  {
   "cell_type": "code",
   "execution_count": null,
   "id": "733b649f-cce6-4ba2-a0b4-67f5872f8eeb",
   "metadata": {},
   "outputs": [],
   "source": [
    "print(voltage(current=6,resistance=4)) # keyword argument"
   ]
  },
  {
   "cell_type": "code",
   "execution_count": null,
   "id": "d865f081-8b75-4be9-989c-3e67643cdb92",
   "metadata": {},
   "outputs": [],
   "source": [
    "def voltage(current=1,resistance=1):   # function with one default parameter\n",
    "    voltage = current * resistance\n",
    "    return voltage   # argument pass of one style to another style "
   ]
  },
  {
   "cell_type": "code",
   "execution_count": 41,
   "id": "01cdbb46-88ef-415b-b4b8-53c7c60833aa",
   "metadata": {},
   "outputs": [
    {
     "name": "stdout",
     "output_type": "stream",
     "text": [
      "440\n"
     ]
    }
   ],
   "source": [
    "print(voltage(current=8,resistance=55))"
   ]
  },
  {
   "cell_type": "code",
   "execution_count": 42,
   "id": "51185c0b-ede0-45b7-8a3e-61e3b02bfea6",
   "metadata": {},
   "outputs": [],
   "source": [
    "def voltage(current,resistance):   # function without default parameter\n",
    "    voltage = current * resistance\n",
    "    return voltage"
   ]
  },
  {
   "cell_type": "code",
   "execution_count": null,
   "id": "991667a4-5e54-47b7-9ac7-a8ef66b43482",
   "metadata": {},
   "outputs": [],
   "source": [
    "print(voltage(5)) # voltage() missing 1 required positional argument: 'resistance'"
   ]
  },
  {
   "cell_type": "code",
   "execution_count": null,
   "id": "997baf89-58b4-4118-bacc-3cf896278178",
   "metadata": {},
   "outputs": [],
   "source": [
    "print(voltage(current=8,29) # positional argument follows keyword argument"
   ]
  },
  {
   "cell_type": "markdown",
   "id": "ef8697c8-f344-4891-9f3d-6e777e2dba7b",
   "metadata": {},
   "source": [
    "# Task No 03"
   ]
  },
  {
   "cell_type": "markdown",
   "id": "a7e70582-bfe9-464b-921b-5a92c8bd85f9",
   "metadata": {},
   "source": [
    "Define a function with *name charge_from_solar* and pass the state of charge (SOC) to the\n",
    "function. If SOC is less than 20% display charging if it is above 90% do nothing and return and if it\n",
    "is in between display that battery will be charge and there is --- % of charge in the battery. Include\n",
    "3 appropriate docstrings. Print the doc string. Also add annotation to the function parameters and\n",
    "return type. "
   ]
  },
  {
   "cell_type": "code",
   "execution_count": 44,
   "id": "72019422-8058-4f0b-b907-562164cb093b",
   "metadata": {},
   "outputs": [],
   "source": [
    "def charge_from_solar():   # define function\n",
    "    pass"
   ]
  },
  {
   "cell_type": "code",
   "execution_count": 45,
   "id": "b256cff6-0d96-49d3-86b2-8c6bc3112beb",
   "metadata": {},
   "outputs": [
    {
     "name": "stdout",
     "output_type": "stream",
     "text": [
      "Determines the charging status of a battery based on its state of charge (SOC).\n",
      "    Parameters:\n",
      "               SOC (float): \n",
      "    Returns:\n",
      "            None:\n",
      "    Behavior:\n",
      "            -> If SOC < 20%, the function displays \"Charging\"\n",
      "            -> If SOC > 90%, the function does nothing and returns.\n",
      "            -> If 20% <= SOC <= 90%, the function displays \"Battery will be charged\" along with the current SOC.\n",
      "    \n"
     ]
    }
   ],
   "source": [
    "def charge_from_solar(SOC: float) -> None:   # gives arguments to function\n",
    "    \"\"\"Determines the charging status of a battery based on its state of charge (SOC).\n",
    "    Parameters:\n",
    "               SOC (float): \n",
    "    Returns:\n",
    "            None:\n",
    "    Behavior:\n",
    "            -> If SOC < 20%, the function displays \"Charging\"\n",
    "            -> If SOC > 90%, the function does nothing and returns.\n",
    "            -> If 20% <= SOC <= 90%, the function displays \"Battery will be charged\" along with the current SOC.\n",
    "    \"\"\"\n",
    "    \n",
    "print(charge_from_solar.__doc__)  # print docstring"
   ]
  },
  {
   "cell_type": "code",
   "execution_count": 47,
   "id": "9bfdd646-4f8c-447a-a32e-6dd35f13d81d",
   "metadata": {},
   "outputs": [],
   "source": [
    "def charge_from_solar(SOC: float) -> None:\n",
    "    if SOC < 20:  \n",
    "        print(\"Charging\")\n",
    "    elif SOC > 90:\n",
    "        return\n",
    "    else:\n",
    "        print(f\"Battery will charge and there is {SOC}% of charging\")    "
   ]
  },
  {
   "cell_type": "code",
   "execution_count": 48,
   "id": "aed9a71a-1ca3-4db2-9a5a-bb007e25ebf5",
   "metadata": {},
   "outputs": [
    {
     "name": "stdout",
     "output_type": "stream",
     "text": [
      "Battery will charge and there is 45% of charging\n",
      "None\n"
     ]
    }
   ],
   "source": [
    "print(charge_from_solar(45))     # calling fucntion"
   ]
  },
  {
   "cell_type": "code",
   "execution_count": 49,
   "id": "b65a88f6-6df2-4464-a6e3-a1745f5f4137",
   "metadata": {},
   "outputs": [
    {
     "name": "stdout",
     "output_type": "stream",
     "text": [
      "{'SOC': <class 'float'>, 'return': None}\n"
     ]
    }
   ],
   "source": [
    "print(charge_from_solar.__annotations__)  # show the annotation of the function"
   ]
  },
  {
   "cell_type": "markdown",
   "id": "5f10da27-137b-4198-8520-76b19bd84c5b",
   "metadata": {},
   "source": [
    "# Task No 04"
   ]
  },
  {
   "cell_type": "markdown",
   "id": "02089164-f8e7-46f4-9923-acffd8d980d9",
   "metadata": {},
   "source": [
    "Define three function. Function one name is resistance which will return a list of five resistances.\n",
    "The second function name is voltage which will return a list of voltage across each of these\n",
    "resisters. Include appropriate docstrings. Print the doc string. Also add annotation to the function\n",
    "parameters and return type.\n",
    "* Pass these two lists to a third function name current which will calculate the current\n",
    "flowing through each resister and will return that list to the main program. The main\n",
    "program will print all the three lists in well formatting.\n",
    "* In part a return the data in tuple.\n",
    "* Return the data from current function as dictionary with keys current_1 to current_5. "
   ]
  },
  {
   "cell_type": "code",
   "execution_count": 50,
   "id": "4447355d-4465-4412-ab41-f29bbfa0b8a5",
   "metadata": {},
   "outputs": [
    {
     "name": "stdout",
     "output_type": "stream",
     "text": [
      "retrun  a list of resisatance\n",
      "    the list is float\n",
      "retrun  a list of voltage\n",
      "    the list is float\n"
     ]
    }
   ],
   "source": [
    "from typing import List, Tuple, Dict \n",
    "def resistance() -> list[float]:       # function\n",
    "    \"\"\"retrun  a list of resisatance\n",
    "    the list is float\"\"\"\n",
    "    return [10,20,30,40,50]\n",
    "def voltage() -> list[float]:         # function\n",
    "    \"\"\"retrun  a list of voltage\n",
    "    the list is float\"\"\"\n",
    "    return [100,20,300,400,500]\n",
    "print(resistance.__doc__)     # print docstring\n",
    "print(voltage.__doc__)        # print docstring"
   ]
  },
  {
   "cell_type": "code",
   "execution_count": null,
   "id": "f5a2e74a-d1c6-4d63-9c61-455bcf218e0c",
   "metadata": {},
   "outputs": [],
   "source": [
    "resistance()     # calling fucntion"
   ]
  },
  {
   "cell_type": "code",
   "execution_count": null,
   "id": "2cb4b7a3-fb56-410c-b238-8e9473605514",
   "metadata": {},
   "outputs": [],
   "source": [
    "voltage()      # calling fucntion"
   ]
  },
  {
   "cell_type": "code",
   "execution_count": null,
   "id": "a2ee92b1-b6a8-4fa6-8178-723d25a00d01",
   "metadata": {},
   "outputs": [],
   "source": [
    "def current(resistance: list[float],voltage: list[float]) -> Tuple[list[float],Dict[str,float]]:  \n",
    "    \"\"\"\n",
    "    Calculates the current flowing through each resistor using Ohm's law (I = V/R).    \n",
    "    Parameters: \n",
    "    List of resistances in ohms.\n",
    "    List of voltages across each resistor in volts. \n",
    "    Returns:tuple[List[float], Dict[str, float]]: A tuple containing:\n",
    "        - A list of currents through each resistor in amperes.\n",
    "        - A dictionary where the keys are 'current_1' to 'current_5' and the values are the currents.\n",
    "    \"\"\"\n",
    "    currents=[v/r for v,r in zip(voltage,resistance)]\n",
    "    current_dict = {f'current_{i+1}': currents[i] for i in range(len(currents))}\n",
    "    return currents, current_dict\n",
    "print(current.__doc__)     # print docstring\n",
    "\n",
    "resistances = resistance()\n",
    "voltages = voltage()\n",
    "currents,current_dict = current(voltages,resistances)"
   ]
  },
  {
   "cell_type": "code",
   "execution_count": null,
   "id": "5074d512-eb00-469c-81dd-966cecc23425",
   "metadata": {},
   "outputs": [],
   "source": [
    "print(currents,)        # calling fucntion \n",
    "print(current_dict,)    # calling fucntion"
   ]
  },
  {
   "cell_type": "code",
   "execution_count": null,
   "id": "392188ef-e538-4cc7-a2f8-9a6479d31ad9",
   "metadata": {},
   "outputs": [],
   "source": [
    "print(resistance.__annotations__)      # show the annotation of the function\n",
    "print(voltage.__annotations__)         # show the annotation of the function"
   ]
  },
  {
   "cell_type": "markdown",
   "id": "ab55a7f6-8f1c-4e3f-902d-3eec32fa1515",
   "metadata": {},
   "source": [
    "# Task NO 05"
   ]
  },
  {
   "cell_type": "markdown",
   "id": "e57fa8e4-c05c-49a0-868f-fa28a525c938",
   "metadata": {},
   "source": [
    "Define a function with name series. The function will take a list or tuple of resisters. The function\n",
    "will return the net resistance. Note that your function must be capable for any number of\n",
    "resisters. Note: Use elegant approach. Include appropriate docstrings. Print the doc string. Also\n",
    "add annotation to the function parameters and return type. In addition, display annotation using\n",
    "special dunder attribute of the function called *__annotations__.*"
   ]
  },
  {
   "cell_type": "code",
   "execution_count": null,
   "id": "22b97fab-594b-4c85-aa40-1dd08fc9cb7a",
   "metadata": {},
   "outputs": [],
   "source": [
    "def series():\n",
    "    pass"
   ]
  },
  {
   "cell_type": "code",
   "execution_count": 53,
   "id": "a6a58706-faa2-46e2-a2e3-df5bd761c62b",
   "metadata": {},
   "outputs": [
    {
     "name": "stdout",
     "output_type": "stream",
     "text": [
      " function which retrun  net resistance\n",
      "    paramter are resistance in the form of list\n",
      "    retrun net resistance\n",
      "    \n"
     ]
    }
   ],
   "source": [
    "def series(lst1=[]):     # define function\n",
    "    \"\"\" function which retrun  net resistance\n",
    "    paramter are resistance in the form of list\n",
    "    retrun net resistance\n",
    "    \"\"\"\n",
    "    return sum(lst1)\n",
    "print(series.__doc__)    # print docstring"
   ]
  },
  {
   "cell_type": "code",
   "execution_count": 54,
   "id": "fcdf4ece-cdce-48b4-9684-acf7fc6eaf50",
   "metadata": {},
   "outputs": [
    {
     "data": {
      "text/plain": [
       "6"
      ]
     },
     "execution_count": 54,
     "metadata": {},
     "output_type": "execute_result"
    }
   ],
   "source": [
    "series([3,3])       # calling fucntion"
   ]
  },
  {
   "cell_type": "code",
   "execution_count": 55,
   "id": "d87a040f-00ee-4413-a214-7e9c58bef68a",
   "metadata": {},
   "outputs": [
    {
     "data": {
      "text/plain": [
       "25"
      ]
     },
     "execution_count": 55,
     "metadata": {},
     "output_type": "execute_result"
    }
   ],
   "source": [
    "series([3,4,5,6,7])   # calling fucntion"
   ]
  },
  {
   "cell_type": "code",
   "execution_count": 56,
   "id": "95819ba2-9dd2-4a28-aad5-bacc1d950f61",
   "metadata": {},
   "outputs": [
    {
     "name": "stdout",
     "output_type": "stream",
     "text": [
      "{}\n"
     ]
    }
   ],
   "source": [
    "print(series.__annotations__)     # show the annotation of the function"
   ]
  },
  {
   "cell_type": "markdown",
   "id": "5d7a76bd-969c-45ea-877a-8e1df1d0d4db",
   "metadata": {},
   "source": [
    "# Task no 6"
   ]
  },
  {
   "cell_type": "markdown",
   "id": "930e198b-ae83-4e3a-954b-b0bc511f2648",
   "metadata": {},
   "source": [
    "Define a function with name parallel. The function will take a list or tuple of resisters. The function\n",
    "will return the net resistance. Note that your function must be capable for any number of\n",
    "resisters. Note: Use elegant approach. Include appropriate docstrings. Print the doc string. Also\n",
    "add annotation to the function parameters and return type. In addition, display annotation using\n",
    "special dunder attribute of the function called __annotations__Define a function with name parallel. The function will take a list or tuple of resisters. The function\n",
    "will return the net resistance. Note that your function must be capable for any number of\n",
    "resisters. Note: Use elegant approach. Include appropriate docstrings. Print the doc string. Also\n",
    "add annotation to the function parameters and return type. In addition, display annotation using\n",
    "special dunder attribute of the function called __annotations__"
   ]
  },
  {
   "cell_type": "code",
   "execution_count": 57,
   "id": "54363202-bc3a-4c38-811e-767237809344",
   "metadata": {},
   "outputs": [],
   "source": [
    "def parallal(list1=[]):       # define function\n",
    "    pass"
   ]
  },
  {
   "cell_type": "code",
   "execution_count": 60,
   "id": "e7b57aae-51c3-475e-8dc9-abe26f945e89",
   "metadata": {},
   "outputs": [
    {
     "name": "stdout",
     "output_type": "stream",
     "text": [
      " function calculate net resistance\n",
      "    paramter is resistances in the form of list\n",
      "    retrun net resistance in pararllal\n",
      "    \n"
     ]
    }
   ],
   "source": [
    "def parallal(list1=[]):\n",
    "    \"\"\" function calculate net resistance\n",
    "    paramter is resistances in the form of list\n",
    "    retrun net resistance in pararllal\n",
    "    \"\"\"\n",
    "    return 1 / sum(1/x for x in list1) \n",
    "print(parallal.__doc__)     # print docstring"
   ]
  },
  {
   "cell_type": "code",
   "execution_count": 61,
   "id": "6e02ecf1-57a8-4dee-80c1-7dc1783d14e1",
   "metadata": {},
   "outputs": [
    {
     "name": "stdout",
     "output_type": "stream",
     "text": [
      "2.0\n"
     ]
    }
   ],
   "source": [
    "print(parallal([4,4]))           # calling fucntion"
   ]
  },
  {
   "cell_type": "code",
   "execution_count": 62,
   "id": "67acd6f2-431d-4c2f-9dff-be5cee588b81",
   "metadata": {},
   "outputs": [
    {
     "name": "stdout",
     "output_type": "stream",
     "text": [
      "1.12\n"
     ]
    }
   ],
   "source": [
    "print(parallal([3,4,6,7]))      # calling fucntion"
   ]
  },
  {
   "cell_type": "markdown",
   "id": "4b43b284-896e-497a-8288-c8c86c764b8c",
   "metadata": {},
   "source": [
    "# Task No 07"
   ]
  },
  {
   "cell_type": "markdown",
   "id": "ed799661-0eec-4d75-9050-61ad8f36c024",
   "metadata": {},
   "source": [
    "Define a function with name series. The function will take resisters values and use *args for tuple\n",
    "packing. The function will return the net resistance. Note that your function must be capable for\n",
    "any number of resisters. Note: Use elegant approach. Include appropriate docstrings. Also add\n",
    "annotation to the function parameters and return type. In addition, display annotation using\n",
    "special dunder attribute of the function called __annotations__."
   ]
  },
  {
   "cell_type": "code",
   "execution_count": 64,
   "id": "66ad66d1-0f97-42a9-b334-c44b2cef1d96",
   "metadata": {},
   "outputs": [],
   "source": [
    "def series():    # define function\n",
    "    pass"
   ]
  },
  {
   "cell_type": "code",
   "execution_count": 66,
   "id": "b40c0257-143f-45c5-90a2-fa355005ba7d",
   "metadata": {},
   "outputs": [
    {
     "name": "stdout",
     "output_type": "stream",
     "text": [
      "function calculate net resistance\n",
      "parameter is resistances in the form of tuple\n",
      "retrun net resistance in pararllal\n",
      "    \n"
     ]
    }
   ],
   "source": [
    "def series(*resistance: float) -> float:\n",
    "    \"\"\"function calculate net resistance\n",
    "parameter is resistances in the form of tuple\n",
    "retrun net resistance in pararllal\n",
    "    \"\"\"\n",
    "    return sum(resistance)\n",
    "print(series.__doc__)      # print docstring"
   ]
  },
  {
   "cell_type": "code",
   "execution_count": 67,
   "id": "f43cc703-b27f-49d8-94cc-c3ee955db344",
   "metadata": {},
   "outputs": [
    {
     "name": "stdout",
     "output_type": "stream",
     "text": [
      "7\n"
     ]
    }
   ],
   "source": [
    "print(series(2,5))        # calling fucntion"
   ]
  },
  {
   "cell_type": "code",
   "execution_count": 68,
   "id": "61fc2379-3c20-4f89-901e-56aa4274349c",
   "metadata": {},
   "outputs": [
    {
     "name": "stdout",
     "output_type": "stream",
     "text": [
      "39\n"
     ]
    }
   ],
   "source": [
    "print(series(4,5,7,2,8,9,4))   # calling fucntion"
   ]
  },
  {
   "cell_type": "code",
   "execution_count": 69,
   "id": "506b029c-cf91-4b6b-ae6e-0ee3c9f78989",
   "metadata": {},
   "outputs": [
    {
     "name": "stdout",
     "output_type": "stream",
     "text": [
      "{'resistance': <class 'float'>, 'return': <class 'float'>}\n"
     ]
    }
   ],
   "source": [
    "print(series.__annotations__)      # show the annotation of the function"
   ]
  },
  {
   "cell_type": "markdown",
   "id": "11f8b14a-66e1-4735-a861-97380f18b672",
   "metadata": {},
   "source": [
    "# Task No 08"
   ]
  },
  {
   "cell_type": "markdown",
   "id": "e43ed0db-6d0d-47be-a861-e9a7dbe5825f",
   "metadata": {},
   "source": [
    "Define a function with name parallel. The function will take resisters values and use *argsfor tuple\n",
    "packing. The function will return the net resistance. Note that your function must be capable for\n",
    "any number of resisters. Note: Use elegant approach. Include appropriate docstrings. Print the\n",
    "doc string. Also add annotation to the function parameters and return type. In addition, display\n",
    "annotation using special dunder attribute of the function called __annotations__."
   ]
  },
  {
   "cell_type": "code",
   "execution_count": 70,
   "id": "26720920-d21b-45ab-924b-df2b5b99d7aa",
   "metadata": {},
   "outputs": [],
   "source": [
    "def parallal():       # define function\n",
    "    pass"
   ]
  },
  {
   "cell_type": "code",
   "execution_count": 71,
   "id": "acd9a91c-d9cd-47b5-a780-2c35b29b63f4",
   "metadata": {},
   "outputs": [
    {
     "name": "stdout",
     "output_type": "stream",
     "text": [
      "function calculate net resistance\n",
      "parameter is resistances in the form of tuple\n",
      "retrun net resistance in pararllal\n",
      "    \n"
     ]
    }
   ],
   "source": [
    "def parallal(*resistance: float) -> float:\n",
    "    \"\"\"function calculate net resistance\n",
    "parameter is resistances in the form of tuple\n",
    "retrun net resistance in pararllal\n",
    "    \"\"\"\n",
    "    return 1 / sum(1/x for x in resistance)\n",
    "print(parallal.__doc__)    # print docstring"
   ]
  },
  {
   "cell_type": "code",
   "execution_count": 72,
   "id": "ca490d3c-75ff-4bc0-8aa7-c3675cb1a785",
   "metadata": {},
   "outputs": [
    {
     "name": "stdout",
     "output_type": "stream",
     "text": [
      "3.0\n"
     ]
    }
   ],
   "source": [
    "print(parallal(6,6))   # calling fucntion"
   ]
  },
  {
   "cell_type": "code",
   "execution_count": 73,
   "id": "840d326d-918d-4e57-830b-03c581c9dba8",
   "metadata": {},
   "outputs": [
    {
     "name": "stdout",
     "output_type": "stream",
     "text": [
      "0.49084534476042074\n"
     ]
    }
   ],
   "source": [
    "print(parallal(2,3,4,5,6,7,3,9))     # calling fucntion"
   ]
  },
  {
   "cell_type": "code",
   "execution_count": 74,
   "id": "79faffc5-4377-4d6a-a429-d7d621b1efc3",
   "metadata": {},
   "outputs": [
    {
     "name": "stdout",
     "output_type": "stream",
     "text": [
      "{'resistance': <class 'float'>, 'return': <class 'float'>}\n"
     ]
    }
   ],
   "source": [
    "print(parallal.__annotations__)    # show the annotation of the function"
   ]
  },
  {
   "cell_type": "markdown",
   "id": "a74bfea7-5aae-42c3-811a-45c4460c3477",
   "metadata": {},
   "source": [
    "# Task NO 09"
   ]
  },
  {
   "cell_type": "markdown",
   "id": "d1fbc6d8-2ebc-4d86-a772-9351cf304c4e",
   "metadata": {},
   "source": [
    "Consider a scenario in which you receive the data of battery SOC (% age), solar generation (Kw)\n",
    "and market price (per unit in rupees) from a hybrid solar inverter that are connected with green\n",
    "meter in a list or tuple like [60, 2, 60] or (60, 2, 60). Design a function that will print these values\n",
    "in a well format. Note use the tuple or list unpacking. Include appropriate docstrings. Print the\n",
    "doc string. Also add annotation to the function parameters and return type. In addition, display\n",
    "annotation using special dunder attribute of the function called __annotations__."
   ]
  },
  {
   "cell_type": "code",
   "execution_count": 76,
   "id": "1e312b1f-0d5f-4ce4-91d6-82514fdafeb5",
   "metadata": {},
   "outputs": [],
   "source": [
    "def display_inverter_data():      # define function\r\n",
    "    pass"
   ]
  },
  {
   "cell_type": "code",
   "execution_count": 77,
   "id": "d208e82d-1612-4bfb-80fa-7dbe83a40cc3",
   "metadata": {},
   "outputs": [
    {
     "name": "stdout",
     "output_type": "stream",
     "text": [
      "Function that takes the data as tuple\n",
      "    it show the data or display it in well format:\n",
      "    return:\n",
      "           None\n",
      "            battery SOC(% age)\n",
      "            solar generation (kw)\n",
      "            market price (per unit in rupees)\n",
      "    \n"
     ]
    }
   ],
   "source": [
    "from typing import Tuple,List,Dict\n",
    "def display_inverter_data(data: Tuple) -> None:\n",
    "    \"\"\"Function that takes the data as tuple\n",
    "    it show the data or display it in well format:\n",
    "    return:\n",
    "           None\n",
    "            battery SOC(% age)\n",
    "            solar generation (kw)\n",
    "            market price (per unit in rupees)\n",
    "    \"\"\"\n",
    "     # unpacking the tuple\n",
    "    battery_soc, solar_genr, market_price = data \n",
    "    # In well_formating data\n",
    "    print(f\"Batter_SOC = {battery_soc}%\")        \n",
    "    print(f\"Solar_Generation = {solar_genr} kw\")\n",
    "    print(f\"Market_price = {market_price} Rs/unit\")\n",
    "print(display_inverter_data.__doc__)     # print docstring"
   ]
  },
  {
   "cell_type": "code",
   "execution_count": 78,
   "id": "fc552670-b0ed-4bb2-93e4-33ccd4b2d637",
   "metadata": {},
   "outputs": [
    {
     "name": "stdout",
     "output_type": "stream",
     "text": [
      "Batter_SOC = 90%\n",
      "Solar_Generation = 2.5 kw\n",
      "Market_price = 45 Rs/unit\n"
     ]
    }
   ],
   "source": [
    "inverter_data = (90,2.5,45)\n",
    "display_inverter_data(inverter_data)    # calling fucntion"
   ]
  },
  {
   "cell_type": "code",
   "execution_count": 79,
   "id": "f5db85a6-a120-4725-938e-8f2596e199b1",
   "metadata": {},
   "outputs": [
    {
     "name": "stdout",
     "output_type": "stream",
     "text": [
      "{'data': typing.Tuple, 'return': None}\n"
     ]
    }
   ],
   "source": [
    "print(display_inverter_data.__annotations__)    # show the annotation of the function"
   ]
  },
  {
   "cell_type": "markdown",
   "id": "89a3b837-8a49-4cbb-bef6-d8e908ee569f",
   "metadata": {},
   "source": [
    "# Task NO 10"
   ]
  },
  {
   "cell_type": "markdown",
   "id": "948a69e9-1430-4914-8074-c3c9f204581c",
   "metadata": {},
   "source": [
    "The more elegant approach is to pass dictionary and use dictionary unpacking. Consider a\n",
    "scenario in which you receive the data of battery SOC (% age), solar generation (Kw) and market\n",
    "price (per unit in rupees) from a hybrid solar inverter that are connected with green meter in a\n",
    "dictionary like {‘SOC’: 60, ‘solar generation’: 2, ‘price’: 60}. Design a function that will receive\n",
    "this dictionary and print these values in a well format. Include appropriate docstrings. Also add\n",
    "annotation to the function parameters and return type. In addition, display annotation using\n",
    "special dunder attribute of the function called __annotations__."
   ]
  },
  {
   "cell_type": "code",
   "execution_count": 80,
   "id": "515be958-05ab-47b0-bddc-f2fba6f5204f",
   "metadata": {},
   "outputs": [],
   "source": [
    "def display_inverter_data():  # define function\n",
    "    pass"
   ]
  },
  {
   "cell_type": "code",
   "execution_count": 81,
   "id": "02df5da8-6c2f-4f36-bd96-44cc458849b6",
   "metadata": {},
   "outputs": [
    {
     "name": "stdout",
     "output_type": "stream",
     "text": [
      "Function that pass the data as dictionary and use dictionary unpacking .\n",
      "    return: \n",
      "           None\n",
      "    it show the data or display it in well format:\n",
      "            battery SOC(% age)\n",
      "            solar generation (kw)\n",
      "            market price (per unit in rupees)\n",
      "    \n"
     ]
    }
   ],
   "source": [
    "def display_inverter_data(inverter_data: dict) -> None:\n",
    "    \"\"\"Function that pass the data as dictionary and use dictionary unpacking .\n",
    "    return: \n",
    "           None\n",
    "    it show the data or display it in well format:\n",
    "            battery SOC(% age)\n",
    "            solar generation (kw)\n",
    "            market price (per unit in rupees)\n",
    "    \"\"\"\n",
    "     # unpacking the dictionary\n",
    "    Battery_soc = inverter_data.get('Battery_soc')\n",
    "    solar_genr = inverter_data.get('solar_genr')\n",
    "    market_price = inverter_data.get('market_price')\n",
    "    # In well_formating data\n",
    "    print(f\"Batter SOC: {Battery_soc}%\")\n",
    "    print(f\"Solar Generation: {solar_genr} kw\")\n",
    "    print(f\"Market price: {market_price} Rs/unit\")\n",
    "    \n",
    "print(display_inverter_data.__doc__)    # print docstring"
   ]
  },
  {
   "cell_type": "code",
   "execution_count": 82,
   "id": "559ac5eb-732d-4be4-9d13-04afb7816442",
   "metadata": {},
   "outputs": [
    {
     "name": "stdout",
     "output_type": "stream",
     "text": [
      "Batter SOC: 59%\n",
      "Solar Generation: 3 kw\n",
      "Market price: 33 Rs/unit\n"
     ]
    }
   ],
   "source": [
    "data = {'Battery_soc': 59, 'solar_genr': 3, 'market_price': 33}\n",
    "display_inverter_data(data)    # calling function"
   ]
  },
  {
   "cell_type": "code",
   "execution_count": 83,
   "id": "5bb14b78-2a37-4743-bcc2-9b46f784f3ab",
   "metadata": {},
   "outputs": [
    {
     "name": "stdout",
     "output_type": "stream",
     "text": [
      "{'inverter_data': <class 'dict'>, 'return': None}\n"
     ]
    }
   ],
   "source": [
    "print(display_inverter_data.__annotations__)      # show the annotation of the function"
   ]
  },
  {
   "cell_type": "markdown",
   "id": "d7f63606-8ab1-4f06-a5fd-defcfb465c30",
   "metadata": {},
   "source": [
    "# Task No 11"
   ]
  },
  {
   "cell_type": "markdown",
   "id": "34a7c384-0a85-4994-a0e4-17ab6221de6c",
   "metadata": {},
   "source": [
    "Change the scenario while keep the more elegant approach of pass dictionary and use dictionary\n",
    "packing. Consider a scenario in which you receive the data of battery SOC (% age), solar\n",
    "generation (Kw) and market price (per unit in rupees) from a hybrid solar inverter that are\n",
    "connected with green meter in a dictionary like {‘SOC’: 60, ‘solar generation’: 2, ‘price’: 60}. Let\n",
    "you pass these value in a function call like solar (SOC = 60, solar generation = 2, price = 60).\n",
    "Design a function that will receive these argument as a dictionary and print these values in a\n",
    "well format. Include appropriate docstrings. Also add annotation to the function parameters and\n",
    "return type. In addition, display annotation using special dunder attribute of the function\n",
    "called __annotations__."
   ]
  },
  {
   "cell_type": "code",
   "execution_count": 84,
   "id": "b1eaac16-bcd7-40de-8824-787a6fd97e90",
   "metadata": {},
   "outputs": [],
   "source": [
    "def solar():      # define function\n",
    "    pass"
   ]
  },
  {
   "cell_type": "code",
   "execution_count": null,
   "id": "1e50fc65-405d-4d51-a862-2570e0c34981",
   "metadata": {},
   "outputs": [],
   "source": [
    "def solar(**data: dict) -> None:\n",
    "    \"\"\"Function that pass the data as dictionary and use dictionary unpacking but you can pass these\n",
    "    value in a function call.\n",
    "    return: \n",
    "           None\n",
    "    it show the data or display it in well format:\n",
    "            battery SOC(% age)\n",
    "            solar generation (kw)\n",
    "            market price (per unit in rupees)\n",
    "    \"\"\"\n",
    "     # unpacking the dictionary\n",
    "    SOC = data.get('SOC')\n",
    "    Generation = data.get('Generation')\n",
    "    Price = data.get('Price')\n",
    "    # In well_formating data\n",
    "    print(f\"SOC: {SOC}%\")\n",
    "    print(f\"Solar Generation: {Generation} kw\")\n",
    "    print(f\"Price: {Price} Rs/unit\")\n",
    "    \n",
    "print(solar.__doc__)     # print docstring"
   ]
  },
  {
   "cell_type": "code",
   "execution_count": null,
   "id": "cd1a20d0-7d7e-44c3-a402-c034719a4568",
   "metadata": {},
   "outputs": [],
   "source": [
    "Data={'SOC': 90, 'Generation': 1.5, 'Price': 55}\n",
    "print(solar(**Data))  # calling function with unpacking dictionary"
   ]
  },
  {
   "cell_type": "code",
   "execution_count": null,
   "id": "5e8c9ac1-0aae-4bbd-ab44-87769201dd03",
   "metadata": {},
   "outputs": [],
   "source": [
    "print(solar.__annotations__)        # show the annotation of the function"
   ]
  },
  {
   "cell_type": "markdown",
   "id": "89f36856-a71c-4372-964c-8648315b3d77",
   "metadata": {},
   "source": [
    "xii. Understand the functions given below by run, modify and also design different scenarios. "
   ]
  },
  {
   "cell_type": "code",
   "execution_count": null,
   "id": "57ee35a3-a58e-46bd-a2bb-96eb4cab9fc1",
   "metadata": {},
   "outputs": [],
   "source": [
    "def f(a, b, *args, **kwargs):\n",
    " print(F'a = {a}')\n",
    " print(F'b = {b}')\n",
    " print(F'args = {args}')\n",
    " print(F'kwargs = {kwargs}')\n",
    "f(1, 2, 'foo', 'bar', 'baz', 'qux', x=100, y=200, z=300)"
   ]
  },
  {
   "cell_type": "code",
   "execution_count": null,
   "id": "38502991-9de7-4fa5-b0cb-1a715e4f5a14",
   "metadata": {},
   "outputs": [],
   "source": [
    "def f(*args):\n",
    "    for i in args:\n",
    "        print(i)\n",
    "a = [1, 2, 3]\n",
    "t = (4, 5, 6)\n",
    "s = {7, 8, 9}\n",
    "f(*a, *t, *s)"
   ]
  },
  {
   "cell_type": "code",
   "execution_count": null,
   "id": "24f11b0d-b0ea-4868-af1a-a8d0e72678e8",
   "metadata": {},
   "outputs": [],
   "source": [
    "def f(**kwargs):\n",
    "    for k, v in kwargs.items():\n",
    "        print(k, '->', v)\n",
    "d1 = {'a': 1, 'b': 2}\n",
    "d2 = {'x': 3, 'y': 4}\n",
    "f(**d1, **d2)"
   ]
  },
  {
   "cell_type": "code",
   "execution_count": null,
   "id": "a0589b5e-d837-478d-ab02-53f189f8bd8a",
   "metadata": {},
   "outputs": [],
   "source": [
    "def f(*args):\n",
    "    for i in args:\n",
    "        print(i)\n",
    "f(*[1, 2, 3], *[4, 5, 6])"
   ]
  },
  {
   "cell_type": "code",
   "execution_count": null,
   "id": "8562c8b7-efb3-4d71-a1d1-d72d35a561ed",
   "metadata": {},
   "outputs": [],
   "source": [
    "def f(**kwargs):\n",
    "    for k, v in kwargs.items():\n",
    "        print(k, '->', v)\n",
    "f(**{'a': 1, 'b': 2}, **{'x': 3, 'y': 4})"
   ]
  },
  {
   "cell_type": "code",
   "execution_count": null,
   "id": "221fe52d-e7ff-45e1-baa2-4afe76149eaa",
   "metadata": {},
   "outputs": [],
   "source": [
    "def f(a: int, b: str) -> float:\n",
    "    print(a, b)\n",
    "    return(3.5)\n",
    "    f(1, 'foo')\n",
    "f.__annotations__\n"
   ]
  },
  {
   "cell_type": "markdown",
   "id": "30c6631f-491c-4848-811e-affc73f4767e",
   "metadata": {},
   "source": [
    "If you want to assign a default value to a parameter that has an annotation,\n",
    "then the default value goes after the annotation:"
   ]
  },
  {
   "cell_type": "code",
   "execution_count": null,
   "id": "ec5c4ed9-65f9-4459-b228-fb3950984b6c",
   "metadata": {},
   "outputs": [],
   "source": [
    "def f(a: int = 12, b: str = 'baz') -> float:\n",
    "    print(a, b)\n",
    "    return(3.5)\n",
    "f.__annotations__\n",
    "f()"
   ]
  },
  {
   "cell_type": "markdown",
   "id": "a6abad25-cfdd-4489-8797-a8f44c578529",
   "metadata": {},
   "source": [
    "Annotations don’t impose any semantic restrictions on the code\n",
    "whatsoever.\n",
    "What’s going on here? The annotations for f() indicate that the first\n",
    "argument is int, the second argument str, and the return value float. But the\n",
    "subsequent call to f() breaks all the rules! The arguments are str and float,\n",
    "respectively, and the return value is a tuple. Yet the interpreter lets it all slide\n",
    "with no complaint at all."
   ]
  },
  {
   "cell_type": "code",
   "execution_count": null,
   "id": "4b463965-b544-4720-879c-46fe3f89b75f",
   "metadata": {},
   "outputs": [],
   "source": [
    "def f(a: int, b: str) -> float:\n",
    " print(a, b)\n",
    " return 1, 2, 3\n",
    "f('foo', 2.5)"
   ]
  },
  {
   "cell_type": "markdown",
   "id": "a1aa53d5-1f20-4133-b9da-8e8cf96961bc",
   "metadata": {},
   "source": [
    "# **String:**"
   ]
  },
  {
   "cell_type": "markdown",
   "id": "8986c61e-001e-449a-86f8-e8672bd79ff7",
   "metadata": {},
   "source": [
    "Use F-String for three string formatting."
   ]
  },
  {
   "cell_type": "code",
   "execution_count": 85,
   "id": "23fddbbf-bc64-43ae-a9a4-c41d7cc220ed",
   "metadata": {},
   "outputs": [
    {
     "name": "stdout",
     "output_type": "stream",
     "text": [
      "My name is Muhammad Talha, and my Reg No is 23jze0543\n"
     ]
    }
   ],
   "source": [
    "# f-string\n",
    "name = 'Muhammad Talha'\n",
    "Reg_No = '23jze0543'\n",
    "student=f\"My name is {name}, and my Reg No is {Reg_No}\"\n",
    "print(student)"
   ]
  },
  {
   "cell_type": "markdown",
   "id": "da0bd6be-9af9-4666-afc5-de7e2bcb1fb5",
   "metadata": {},
   "source": [
    "Use .capitalize() for three examples. "
   ]
  },
  {
   "cell_type": "code",
   "execution_count": null,
   "id": "f1611c37-3268-4d7d-bd9d-0907b43db38a",
   "metadata": {},
   "outputs": [],
   "source": [
    "name = 'yahya'\n",
    "department = 'electrical'\n",
    "section = 'power'\n",
    "print(name.capitalize())\n",
    "print(department.capitalize())\n",
    "print(section.capitalize())"
   ]
  },
  {
   "cell_type": "markdown",
   "id": "1807cea8-de39-4d52-95ec-cf6b282b1d09",
   "metadata": {},
   "source": [
    "Use .format(*args, **kwargs) for five example formatting."
   ]
  },
  {
   "cell_type": "code",
   "execution_count": null,
   "id": "9dfdb3a8-c1bd-4783-bc82-cfe8f872ba6a",
   "metadata": {},
   "outputs": [],
   "source": [
    "# .format ()\n",
    "student=\"I am {0} and my reg no is {1}\"\n",
    "print(student.format('Yahya','23jzele0528'))\n",
    "room = \"In our room {} bad, and also contain {} table\"\n",
    "print(room.format(3,1))\n",
    "my_bag=\"i have {} pen, {} book, and {} copies\"\n",
    "print(my_bag.format(4,1,8))"
   ]
  },
  {
   "cell_type": "markdown",
   "id": "4812f604-6161-47a6-9990-9fbe914f610c",
   "metadata": {},
   "source": [
    "Use .lower() for three examples."
   ]
  },
  {
   "cell_type": "markdown",
   "id": "0d632197-dae3-4222-99b7-194634a90522",
   "metadata": {},
   "source": [
    "Some method on string return true false and they are frequently use in different applications.\n",
    "Use .isdigit(),.islower(), and .isnumeric() in two example. I"
   ]
  },
  {
   "cell_type": "code",
   "execution_count": 86,
   "id": "b902c113-62a8-4541-aca7-efa5dec045fd",
   "metadata": {},
   "outputs": [
    {
     "name": "stdout",
     "output_type": "stream",
     "text": [
      "True\n",
      "False\n"
     ]
    }
   ],
   "source": [
    "name = \"talha\"\n",
    "name1 = \"TALHA\"\n",
    "print(name.islower())\n",
    "print(name1.islower())"
   ]
  },
  {
   "cell_type": "code",
   "execution_count": 87,
   "id": "47b4846f-ba00-4766-b5ae-27effdb065a3",
   "metadata": {},
   "outputs": [
    {
     "name": "stdout",
     "output_type": "stream",
     "text": [
      "True\n",
      "False\n"
     ]
    }
   ],
   "source": [
    "b = \"944239\"\n",
    "d = \"hello\"\n",
    "print(b.isnumeric())\n",
    "print(d.isnumeric())"
   ]
  },
  {
   "cell_type": "markdown",
   "id": "d1244e4e-0ce4-4008-8dea-0bc5113aaa98",
   "metadata": {},
   "source": [
    "Some other string operation required other methods. Use .split() for two example. "
   ]
  },
  {
   "cell_type": "code",
   "execution_count": 88,
   "id": "14b8d28d-8c59-41c7-886c-80733ec415ad",
   "metadata": {},
   "outputs": [
    {
     "name": "stdout",
     "output_type": "stream",
     "text": [
      "['I', 'am', 'Muhammad', 'Talha']\n",
      "['how', 'are', 'you', 'I', 'am', 'Muhammad', 'Talha']\n"
     ]
    }
   ],
   "source": [
    "name =\"I am Muhammad Talha\"\n",
    "hey = f\"how are you {name}\"\n",
    "print(name.split())\n",
    "print(hey.split())"
   ]
  }
 ],
 "metadata": {
  "kernelspec": {
   "display_name": "Python 3 (ipykernel)",
   "language": "python",
   "name": "python3"
  },
  "language_info": {
   "codemirror_mode": {
    "name": "ipython",
    "version": 3
   },
   "file_extension": ".py",
   "mimetype": "text/x-python",
   "name": "python",
   "nbconvert_exporter": "python",
   "pygments_lexer": "ipython3",
   "version": "3.12.4"
  }
 },
 "nbformat": 4,
 "nbformat_minor": 5
}
