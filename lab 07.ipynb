{
 "cells": [
  {
   "cell_type": "markdown",
   "id": "2cd0131a",
   "metadata": {},
   "source": [
    "# ***Name : Muhammad Talha***\n",
    "# ***Reg No : 23jzele0543***\n",
    "# ***Section : B***"
   ]
  },
  {
   "cell_type": "markdown",
   "id": "ef7b0331",
   "metadata": {},
   "source": [
    "# *Lab Practice*"
   ]
  },
  {
   "cell_type": "markdown",
   "id": "a3b058fc",
   "metadata": {},
   "source": [
    "**Problem No 01**\n",
    "**Square -> Cube**"
   ]
  },
  {
   "cell_type": "markdown",
   "id": "05e80dfc",
   "metadata": {},
   "source": [
    "*  Take the example of the square class in the last lab and inherit a cube class with its own volume and surface area instance method. \n",
    "* Create two instances of the cube class and call both the instance methods.\n"
   ]
  },
  {
   "cell_type": "code",
   "execution_count": 1,
   "id": "90fab912",
   "metadata": {},
   "outputs": [],
   "source": [
    "class Square:\n",
    "    def __init__(self, side_length) -> None:\n",
    "        self.side_length = side_length\n",
    "    @property\n",
    "    def side_length(self) -> float:\n",
    "        return self._side_length\n",
    "    @side_length.setter\n",
    "    def side_length(self, value: float) -> None:\n",
    "        self._side_length = value\n",
    "    def area(self) -> float:\n",
    "        return self.side_length ** 2\n",
    "    @property\n",
    "    def perimeter(self) -> float:\n",
    "        return 4 * self.side_length\n",
    "    def __repr__(self) -> str:\n",
    "        return f\"{type(self).__name__}({self.side_length})\"\n",
    "    def __str__(self) -> str:\n",
    "        return f\"Square with side length: {self.side_length}\"\n",
    "\n",
    "\n",
    "class Cube(Square):\n",
    "    def __init__(self, side_length):\n",
    "        super().__init__(side_length)\n",
    "    \n",
    "    def volume(self):\n",
    "        return  self.side_length ** 3\n",
    "    def surface_area(self):\n",
    "        return 6 * self.side_length ** 2"
   ]
  },
  {
   "cell_type": "code",
   "execution_count": 2,
   "id": "d92d05e2",
   "metadata": {},
   "outputs": [],
   "source": [
    "cube1 = Cube(5)"
   ]
  },
  {
   "cell_type": "code",
   "execution_count": 3,
   "id": "9899a531",
   "metadata": {},
   "outputs": [
    {
     "data": {
      "text/plain": [
       "125"
      ]
     },
     "execution_count": 3,
     "metadata": {},
     "output_type": "execute_result"
    }
   ],
   "source": [
    "cube1.volume()"
   ]
  },
  {
   "cell_type": "code",
   "execution_count": 4,
   "id": "30783e1a",
   "metadata": {},
   "outputs": [
    {
     "data": {
      "text/plain": [
       "150"
      ]
     },
     "execution_count": 4,
     "metadata": {},
     "output_type": "execute_result"
    }
   ],
   "source": [
    "cube1.surface_area()"
   ]
  },
  {
   "cell_type": "markdown",
   "id": "ddd367a5",
   "metadata": {},
   "source": [
    "**Problem No  02**\n",
    "**Point2D -> Point3D**"
   ]
  },
  {
   "cell_type": "markdown",
   "id": "147168c5",
   "metadata": {},
   "source": [
    "* Take the example of the Point2D class in the last lab and inherit a Point 3D class with its own distance_from_origin instance methods. \n",
    "* Create two instances and call the instance methods.\n"
   ]
  },
  {
   "cell_type": "code",
   "execution_count": 5,
   "id": "106ba86f",
   "metadata": {},
   "outputs": [],
   "source": [
    "import math\n",
    "\n",
    "class Point:\n",
    "    \"\"\"\n",
    "    A class to represent a point in a 2D coordinate system.\n",
    "    \"\"\"\n",
    "    def __init__(self, x: float = 0.0, y: float = 0.0):\n",
    "        \"\"\"\n",
    "        Initializes a new point at the given coordinates.\n",
    "        \n",
    "        x: x-coordinate (default is 0.0)\n",
    "        y: y-coordinate (default is 0.0)\n",
    "        \"\"\"\n",
    "        self._x = x\n",
    "        self._y = y\n",
    "\n",
    "    @property\n",
    "    def x(self) -> float:\n",
    "        \"\"\"Gets the x-coordinate.\"\"\"\n",
    "        return self._x\n",
    "\n",
    "    @x.setter\n",
    "    def x(self, value: float) -> None:\n",
    "        \"\"\"Sets the x-coordinate.\"\"\"\n",
    "        self._x = value\n",
    "\n",
    "    @property\n",
    "    def y(self) -> float:\n",
    "        \"\"\"Gets the y-coordinate.\"\"\"\n",
    "        return self._y\n",
    "\n",
    "    @y.setter\n",
    "    def y(self, value: float) -> None:\n",
    "        \"\"\"Sets the y-coordinate.\"\"\"\n",
    "        self._y = value\n",
    "\n",
    "    def distance_to(self, other: 'Point') -> float:\n",
    "        \"\"\"\n",
    "        Calculates the distance between this point and another point.\n",
    "        \n",
    "        :param other: Another point in the 2D coordinate system.\n",
    "        :return: The distance between the two points.\n",
    "        \"\"\"\n",
    "        return math.sqrt((self.x - other.x) ** 2 + (self.y - other.y) ** 2)\n",
    "\n",
    "    def distance_from_origin(self) -> float:\n",
    "        \"\"\"\n",
    "        Calculates the distance from the origin (0, 0) to this point.\n",
    "        \n",
    "        :return: The distance from the origin to this point.\n",
    "        \"\"\"\n",
    "        return math.sqrt(self.x ** 2 + self.y ** 2)\n",
    "\n",
    "    def __repr__(self):\n",
    "        \"\"\"Return a string representation of the Point instance.\"\"\"\n",
    "        return f'{type(self).__name__} ({self.x},{self.y})'\n",
    "\n",
    "\n",
    "class Point3D(Point):\n",
    "    \"\"\"\n",
    "    A class to represent a point in a 3D coordinate system, inheriting from Point.\n",
    "    \"\"\"\n",
    "    def __init__(self, x: float = 0.0, y: float = 0.0, z: float = 0.0):\n",
    "        \"\"\"\n",
    "        Initializes a new point in a 3D coordinate system.\n",
    "        \n",
    "        x: x-coordinate (default is 0.0)\n",
    "        y: y-coordinate (default is 0.0)\n",
    "        z: z-coordinate (default is 0.0)\n",
    "        \"\"\"\n",
    "        super().__init__(x, y)\n",
    "        self._z = z\n",
    "\n",
    "    @property\n",
    "    def z(self) -> float:\n",
    "        \"\"\"Gets the z-coordinate.\"\"\"\n",
    "        return self._z\n",
    "\n",
    "    @z.setter\n",
    "    def z(self, value: float) -> None:\n",
    "        \"\"\"Sets the z-coordinate.\"\"\"\n",
    "        self._z = value\n",
    "\n",
    "    def distance_from_origin(self) -> float:\n",
    "        \"\"\"\n",
    "        Calculates the distance from the origin (0, 0, 0) to this point.\n",
    "        \n",
    "        :return: The distance from the origin to this point.\n",
    "        \"\"\"\n",
    "        return math.sqrt(self.x ** 2 + self.y ** 2 + self.z ** 2)\n",
    "\n",
    "    def distance_to(self, other: 'Point3D') -> float:\n",
    "        \"\"\"\n",
    "        Calculates the distance between this point and another 3D point.\n",
    "        \n",
    "        :param other: Another point in the 3D coordinate system.\n",
    "        :return: The distance between the two points.\n",
    "        \"\"\"\n",
    "        return math.sqrt((self.x - other.x) ** 2 + \n",
    "                         (self.y - other.y) ** 2 + \n",
    "                         (self.z - other.z) ** 2)\n",
    "\n",
    "    def __repr__(self):\n",
    "        \"\"\"Return a string representation of the Point3D instance.\"\"\"\n",
    "        return f'{type(self).__name__} ({self.x}, {self.y}, {self.z})'\n"
   ]
  },
  {
   "cell_type": "code",
   "execution_count": 6,
   "id": "1b8b44ef",
   "metadata": {},
   "outputs": [],
   "source": [
    "point1 = Point3D(2, 4, 6)\n",
    "point2 = Point3D(8, 10, 14)"
   ]
  },
  {
   "cell_type": "code",
   "execution_count": 7,
   "id": "896bbeff",
   "metadata": {},
   "outputs": [
    {
     "name": "stdout",
     "output_type": "stream",
     "text": [
      "Point1: Point3D (2, 4, 6), Distance from origin: 7.483314773547883\n",
      "Point2: Point3D (8, 10, 14), Distance from origin: <bound method Point3D.distance_from_origin of Point3D (8, 10, 14)>\n",
      "Distance between Point1 and Point2: 11.661903789690601\n"
     ]
    }
   ],
   "source": [
    "print(f\"Point1: {point1}, Distance from origin: {point1.distance_from_origin()}\")\n",
    "print(f\"Point2: {point2}, Distance from origin: {point2.distance_from_origin}\")\n",
    "print(f\"Distance between Point1 and Point2: {point1.distance_to(point2)}\")"
   ]
  },
  {
   "cell_type": "markdown",
   "id": "24975e1d",
   "metadata": {},
   "source": [
    "**Problem No 03**\n",
    "**Rectangle -> Square**"
   ]
  },
  {
   "cell_type": "markdown",
   "id": "58f6ae3a",
   "metadata": {},
   "source": [
    "* Take the example of the rectangle class in the last lab and inherit a square class. \n",
    "* Create two instances of the rectangle class and call the instance methods."
   ]
  },
  {
   "cell_type": "code",
   "execution_count": 8,
   "id": "1f817398",
   "metadata": {},
   "outputs": [],
   "source": [
    "class Rectangle:\n",
    "    \"\"\"\n",
    "    A class to represent a rectangle.\n",
    "    \"\"\"\n",
    "    def __init__(self, width: float, height: float) -> None:\n",
    "        self.width = width\n",
    "        self.height = height\n",
    "\n",
    "    @property\n",
    "    def width(self) -> float:\n",
    "        \"\"\"Gets the width of the rectangle.\"\"\"\n",
    "        return self._width\n",
    "\n",
    "    @width.setter\n",
    "    def width(self, value: float) -> None:\n",
    "        \"\"\"Sets the width of the rectangle.\"\"\"\n",
    "        self._width = value\n",
    "\n",
    "    @property\n",
    "    def height(self) -> float:\n",
    "        \"\"\"Gets the height of the rectangle.\"\"\"\n",
    "        return self._height\n",
    "\n",
    "    @height.setter\n",
    "    def height(self, value: float) -> None:\n",
    "        \"\"\"Sets the height of the rectangle.\"\"\"\n",
    "        self._height = value\n",
    "\n",
    "    @property\n",
    "    def area(self) -> float:\n",
    "        \"\"\"Calculates the area of the rectangle.\"\"\"\n",
    "        return self.width * self.height\n",
    "\n",
    "    @property\n",
    "    def perimeter(self) -> float:\n",
    "        \"\"\"Calculates the perimeter of the rectangle.\"\"\"\n",
    "        return 2 * (self.width + self.height)\n",
    "\n",
    "    def __repr__(self) -> str:\n",
    "        \"\"\"String representation of the rectangle.\"\"\"\n",
    "        return f'Rectangle(width={self.width}, height={self.height})'\n",
    "\n",
    "\n",
    "class Square(Rectangle):\n",
    "    \"\"\"\n",
    "    A class to represent a square, inheriting from Rectangle.\n",
    "    \"\"\"\n",
    "    def __init__(self, side: float) -> None:\n",
    "        super().__init__(side, side)\n",
    "\n",
    "    @property\n",
    "    def side(self) -> float:\n",
    "        \"\"\"Gets the side length of the square.\"\"\"\n",
    "        return self.width\n",
    "\n",
    "    @side.setter\n",
    "    def side(self, value: float) -> None:\n",
    "        \"\"\"Sets the side length of the square.\"\"\"\n",
    "        self.width = value\n",
    "        self.height = value\n",
    "\n",
    "    def __repr__(self) -> str:\n",
    "        \"\"\"String representation of the square.\"\"\"\n",
    "        return f'Square(side={self.side})'"
   ]
  },
  {
   "cell_type": "code",
   "execution_count": 9,
   "id": "f9cd0196",
   "metadata": {},
   "outputs": [],
   "source": [
    "rect1 = Rectangle(8, 12)\n",
    "rect2 = Rectangle(9, 3)"
   ]
  },
  {
   "cell_type": "code",
   "execution_count": 10,
   "id": "a8e6a7d7",
   "metadata": {},
   "outputs": [
    {
     "name": "stdout",
     "output_type": "stream",
     "text": [
      "Rectangle 1: Rectangle(width=8, height=12), Area: 96, Perimeter: 40\n",
      "Rectangle 2: Rectangle(width=9, height=3), Area: 27, Perimeter: 24\n"
     ]
    }
   ],
   "source": [
    "print(f\"Rectangle 1: {rect1}, Area: {rect1.area}, Perimeter: {rect1.perimeter}\")\n",
    "print(f\"Rectangle 2: {rect2}, Area: {rect2.area}, Perimeter: {rect2.perimeter}\")"
   ]
  },
  {
   "cell_type": "code",
   "execution_count": 13,
   "id": "da8f5ee7",
   "metadata": {},
   "outputs": [],
   "source": [
    "square = Square(8)"
   ]
  },
  {
   "cell_type": "code",
   "execution_count": 14,
   "id": "7990706d",
   "metadata": {},
   "outputs": [
    {
     "name": "stdout",
     "output_type": "stream",
     "text": [
      "Square: Square(side=8), Area: 64, Perimeter: 32\n"
     ]
    }
   ],
   "source": [
    "print(f\"Square: {square}, Area: {square.area}, Perimeter: {square.perimeter}\")"
   ]
  },
  {
   "cell_type": "markdown",
   "id": "2bdc7da8",
   "metadata": {},
   "source": [
    "**Problem No 04**\n",
    "**Circle -> Shpare**"
   ]
  },
  {
   "cell_type": "markdown",
   "id": "38ee0f84",
   "metadata": {},
   "source": [
    "* Take the example of the circle class in the last lab and inherit a sphere class with its own volume and surface area instance method. \n",
    "* Create two instances of the cube class and call both the instance methods.\n"
   ]
  },
  {
   "cell_type": "code",
   "execution_count": 15,
   "id": "ed576e48",
   "metadata": {},
   "outputs": [],
   "source": [
    "import math\n",
    "\n",
    "class Circle:\n",
    "    \"\"\"\n",
    "    A class to represent a circle.\n",
    "    \"\"\"\n",
    "    def __init__(self, radius: float):\n",
    "        self.radius = radius\n",
    "\n",
    "    @property\n",
    "    def radius(self) -> float:\n",
    "        return self._radius\n",
    "\n",
    "    @radius.setter\n",
    "    def radius(self, value: float) -> None:\n",
    "        self._radius = value\n",
    "\n",
    "    def volume(self, height: float) -> float:\n",
    "        \"\"\"\n",
    "        Calculates the volume of a cylinder with the circle as its base.\n",
    "        \"\"\"\n",
    "        return self.area * height\n",
    "\n",
    "    @property\n",
    "    def area(self) -> float:\n",
    "        \"\"\"\n",
    "        Calculates the area of the circle.\n",
    "        \"\"\"\n",
    "        return math.pi * (self._radius ** 2)\n",
    "\n",
    "    @property\n",
    "    def circumference(self) -> float:\n",
    "        \"\"\"\n",
    "        Calculates the circumference of the circle.\n",
    "        \"\"\"\n",
    "        return 2 * math.pi * self._radius\n",
    "\n",
    "    @property\n",
    "    def diameter(self) -> float:\n",
    "        \"\"\"\n",
    "        Returns the diameter of the circle.\n",
    "        \"\"\"\n",
    "        return self._radius * 2\n",
    "\n",
    "    @staticmethod\n",
    "    def from_diameter(diameter: float):\n",
    "        \"\"\"\n",
    "        Creates a Circle instance from the given diameter.\n",
    "        \"\"\"\n",
    "        return Circle(diameter / 2)\n",
    "\n",
    "\n",
    "class Sphere(Circle):\n",
    "    \"\"\"\n",
    "    A class to represent a sphere, inheriting from Circle.\n",
    "    \"\"\"\n",
    "    def __init__(self, radius: float):\n",
    "        super().__init__(radius)\n",
    "\n",
    "    @property\n",
    "    def surface_area(self) -> float:\n",
    "        \"\"\"\n",
    "        Calculates the surface area of the sphere.\n",
    "        \"\"\"\n",
    "        return 4 * math.pi * (self.radius ** 2)\n",
    "\n",
    "    @property\n",
    "    def volume(self) -> float:\n",
    "        \"\"\"\n",
    "        Calculates the volume of the sphere.\n",
    "        \"\"\"\n",
    "        return (4/3) * math.pi * (self.radius ** 3)\n",
    "\n",
    "    def __repr__(self) -> str:\n",
    "        return f\"Sphere(radius={self.radius})\""
   ]
  },
  {
   "cell_type": "code",
   "execution_count": 17,
   "id": "e2b45137",
   "metadata": {},
   "outputs": [],
   "source": [
    "sphere = Sphere(9)"
   ]
  },
  {
   "cell_type": "code",
   "execution_count": 18,
   "id": "d11c9e72",
   "metadata": {},
   "outputs": [
    {
     "name": "stdout",
     "output_type": "stream",
     "text": [
      "Sphere: Sphere(radius=9), Surface Area: 1017.88, Volume: 3053.63\n"
     ]
    }
   ],
   "source": [
    "print(f\"Sphere: {sphere}, Surface Area: {sphere.surface_area:.2f}, Volume: {sphere.volume:.2f}\")"
   ]
  },
  {
   "cell_type": "markdown",
   "id": "26298dfb",
   "metadata": {},
   "source": [
    "**Problem No 05**\n",
    "***HR System***"
   ]
  },
  {
   "cell_type": "markdown",
   "id": "2fdd520b",
   "metadata": {},
   "source": [
    "* **The ***HR system*** needs to process payroll for the company’s employees, but there are different types of employees depending on how their payroll is calculated.**\n",
    "1) **Implement a base class, *Employee*, that handles the common interface for every employee.**\n",
    "2.\t**Administrative workers have a fixed salary, so every week they get paid the same amount.**\n",
    "* **You create a derived class, SalaryEmployee, that inherits from Employee. The class initializes with the .id and .name required by the base class, and you use *super()* to initialize the members of the base class.**\n",
    "* **.*SalaryEmployee* also requires a weekly_salary initialization parameter that represents the amount that the employee makes per week.**\n",
    "* **The class provides the required *.calculate_payroll()* method that the HR system uses. The implementation just returns the amount stored in *weekly_salary.*.**\n",
    "3.\t**The company also employs manufacturing workers who are paid by the hour, so you add *HourlyEmployee* to the HR system**\n",
    "* **You create a derived class, HourlyEmployee, that inherits from Employee. The class initializes with the .id and .name required by the base class, and you use *super()* to initialize the members of the base class.**\n",
    "* **HourlyEmployee also requires hours_worked and the hourly_rate required to calculate the payroll.**\n",
    "* **The class provides the required *.calculate_payroll()* method by returning the hours worked times the hourly rate.**\n",
    "4.\t**the company employs sales associates who are paid through a fixed salary plus a commission based on their sales, so you create a CommissionEmployee class**\n",
    "* **Derive CommissionEmployee from *SalaryEmployee* because both classes have a *weekly_salary* to consider. At the same time, you initialize *CommissionEmployee* with a commission value that’s based on the sales for the employee.**\n",
    "* **In *.calculate_payroll()*, you leverage the implementation of the base class to retrieve the fixed salary, and you add the commission value.**\n",
    "5.\t***Implementing a *PayrollSystem* class that processes payroll.***\n",
    "* **PayrollSystem implements a *.calculate_payroll()* method that takes a collection of employees and prints their *.id, .name*, and check amount using the *.calculate_payroll()* method exposed on each employee object.**"
   ]
  },
  {
   "cell_type": "code",
   "execution_count": 19,
   "id": "7ef171f2",
   "metadata": {},
   "outputs": [],
   "source": [
    "class Payroll_system:\n",
    "    def calculate_payroll(self, employees):\n",
    "        print(\"Calculate Payroll\")\n",
    "        print(\"===========================\")\n",
    "        for employee in employees:\n",
    "            print(f\"Payroll for: {employee.id} - {employee.name}\")\n",
    "            print(f\"- Check amount: {employee.calculate_payroll()}\")\n",
    "            print()"
   ]
  },
  {
   "cell_type": "code",
   "execution_count": 20,
   "id": "3853294c",
   "metadata": {},
   "outputs": [],
   "source": [
    "class Employee:\n",
    "    def __init__(self, id, name):\n",
    "        self.id = id\n",
    "        self.name = name"
   ]
  },
  {
   "cell_type": "code",
   "execution_count": 21,
   "id": "29c50ad6",
   "metadata": {},
   "outputs": [],
   "source": [
    "class Salary_employee(Employee):\n",
    "    def __init__(self, id, name, weekly_salary):\n",
    "        super().__init__(id, name)\n",
    "        self.weekly_salary = weekly_salary\n",
    "\n",
    "    def calculate_payroll(self):\n",
    "        return self.weekly_salary"
   ]
  },
  {
   "cell_type": "code",
   "execution_count": 22,
   "id": "751ea291",
   "metadata": {},
   "outputs": [],
   "source": [
    "class Hourly_employee(Employee):\n",
    "    def __init__(self, id, name, hours_worked, hourly_rate):\n",
    "        super().__init__(id, name)\n",
    "        self.hours_worked = hours_worked\n",
    "        self.hourly_rate = hourly_rate\n",
    "\n",
    "    def calculate_payroll(self):\n",
    "        return self.hours_worked * self.hourly_rate"
   ]
  },
  {
   "cell_type": "code",
   "execution_count": 23,
   "id": "dd29dba8",
   "metadata": {},
   "outputs": [],
   "source": [
    "class Commission_employee(Salary_employee):\n",
    "    def __init__(self, id, name, weekly_salary, commission):\n",
    "        super().__init__(id, name, weekly_salary)\n",
    "        self.commission = commission\n",
    "\n",
    "    def calculate_payroll(self):\n",
    "        fixed = super().calculate_payroll()\n",
    "        return fixed + self.commission"
   ]
  },
  {
   "cell_type": "markdown",
   "id": "6644cee0",
   "metadata": {},
   "source": [
    "* Task:  creates the employees and passes them to the payroll system to process payroll"
   ]
  },
  {
   "cell_type": "code",
   "execution_count": 25,
   "id": "f325b376",
   "metadata": {},
   "outputs": [],
   "source": [
    "salary_employee = Salary_employee(551, \"talha\", 1500)\n",
    "hourly_employee = Hourly_employee(529, \"ahmad\", 40, 25)\n",
    "commission_employee = Commission_employee(550, \"anas\", 1000, 250)"
   ]
  },
  {
   "cell_type": "code",
   "execution_count": 26,
   "id": "db01f45a",
   "metadata": {},
   "outputs": [
    {
     "name": "stdout",
     "output_type": "stream",
     "text": [
      "Calculate Payroll\n",
      "===========================\n",
      "Payroll for: 551 - talha\n",
      "- Check amount: 1500\n",
      "\n",
      "Payroll for: 529 - ahmad\n",
      "- Check amount: 1000\n",
      "\n",
      "Payroll for: 550 - anas\n",
      "- Check amount: 1250\n",
      "\n"
     ]
    }
   ],
   "source": [
    "payroll_system = Payroll_system()\n",
    "employees = [salary_employee, hourly_employee, commission_employee]\n",
    "payroll_system.calculate_payroll(employees)"
   ]
  },
  {
   "cell_type": "markdown",
   "id": "98dd24fa",
   "metadata": {},
   "source": [
    "**Problem No 06**\n",
    "***Electrical Department class***"
   ]
  },
  {
   "cell_type": "code",
   "execution_count": 27,
   "id": "9b662e41",
   "metadata": {},
   "outputs": [],
   "source": [
    "class ElectricalEmployee:\n",
    "    def __init__(self, fName, lName, pay, department=\"Electrical Department\"):\n",
    "        self.fName = fName\n",
    "        self.lName = lName\n",
    "        self.email = f\"{self.fName.lower()}{self.lName.lower()}@uet.edu.pk\"\n",
    "        self.pay = pay\n",
    "        self.department = department\n",
    "\n",
    "    def raisePay(self, percentage):\n",
    "        self.pay += self.pay * (percentage / 100)\n",
    "\n",
    "    def __str__(self):\n",
    "        return (\n",
    "            f\"Name: {self.fName} {self.lName}\\n\"\n",
    "            f\"Email: {self.email}\\n\"\n",
    "            f\"Pay: Rs{self.pay:.2f}\\n\"\n",
    "            f\"Department: {self.department}\"\n",
    "        )"
   ]
  },
  {
   "cell_type": "code",
   "execution_count": 28,
   "id": "a24c5d1f",
   "metadata": {},
   "outputs": [],
   "source": [
    "class ElectricalAdminStaff(ElectricalEmployee):\n",
    "    def __init__(self, fName, lName, pay, team=None):\n",
    "        super().__init__(fName, lName, pay)\n",
    "        self.team = team\n",
    "        self.tasks = []\n",
    "\n",
    "    def assignTask(self, task):\n",
    "        self.tasks.append(task)\n",
    "\n",
    "    def __str__(self):\n",
    "        base_info = super().__str__()\n",
    "        team_info = f\"Team: {self.team}\" if self.team else \"Team: None\"\n",
    "        tasks_info = f\"Tasks Assigned: {', '.join(self.tasks) if self.tasks else 'No tasks assigned'}\"\n",
    "        return f\"{base_info}\\n{team_info}\\n{tasks_info}\""
   ]
  },
  {
   "cell_type": "code",
   "execution_count": 29,
   "id": "71931630",
   "metadata": {},
   "outputs": [],
   "source": [
    "class ElectricalInstructor(ElectricalEmployee):\n",
    "    def __init__(self, fName, lName, pay, designation):\n",
    "        super().__init__(fName, lName, pay)\n",
    "        self.designation = designation\n",
    "        self.courses = []\n",
    "\n",
    "    def assignCourse(self, course):\n",
    "        self.courses.append(course)\n",
    "\n",
    "    def __str__(self):\n",
    "        base_info = super().__str__()\n",
    "        designation_info = f\"Designation: {self.designation}\"\n",
    "        courses_info = f\"Courses Assigned: {', '.join(self.courses) if self.courses else 'No courses assigned'}\"\n",
    "        return f\"{base_info}\\n{designation_info}\\n{courses_info}\""
   ]
  },
  {
   "cell_type": "code",
   "execution_count": 31,
   "id": "b439a041",
   "metadata": {},
   "outputs": [],
   "source": [
    "admin_staff = ElectricalAdminStaff(\"Muhammad\", \"Talha\", 4000, \"Team A\")\n",
    "admin_staff.assignTask(\"Manage Electrical Maintenance\")\n",
    "admin_staff.assignTask(\"Prepare Electrical Reports\")"
   ]
  },
  {
   "cell_type": "code",
   "execution_count": 32,
   "id": "c00b5572",
   "metadata": {},
   "outputs": [],
   "source": [
    "instructor = ElectricalInstructor(\"ahmad\", \"khan\", 5000, \"Senior Instructor\")\n",
    "instructor.assignCourse(\"Basic Electrical Engineering\")\n",
    "instructor.assignCourse(\"Advanced Circuit Analysis\")"
   ]
  },
  {
   "cell_type": "code",
   "execution_count": 33,
   "id": "e44656f3",
   "metadata": {},
   "outputs": [
    {
     "name": "stdout",
     "output_type": "stream",
     "text": [
      "Admin Staff Details:\n",
      "Name: Muhammad Talha\n",
      "Email: muhammadtalha@uet.edu.pk\n",
      "Pay: Rs4000.00\n",
      "Department: Electrical Department\n",
      "Team: Team A\n",
      "Tasks Assigned: Manage Electrical Maintenance, Prepare Electrical Reports\n"
     ]
    }
   ],
   "source": [
    "print(\"Admin Staff Details:\")\n",
    "print(admin_staff)"
   ]
  },
  {
   "cell_type": "code",
   "execution_count": 34,
   "id": "bcbf73f1",
   "metadata": {},
   "outputs": [
    {
     "name": "stdout",
     "output_type": "stream",
     "text": [
      "\n",
      "Instructor Details:\n",
      "Name: ahmad khan\n",
      "Email: ahmadkhan@uet.edu.pk\n",
      "Pay: Rs5000.00\n",
      "Department: Electrical Department\n",
      "Designation: Senior Instructor\n",
      "Courses Assigned: Basic Electrical Engineering, Advanced Circuit Analysis\n"
     ]
    }
   ],
   "source": [
    "print(\"\\nInstructor Details:\")\n",
    "print(instructor)"
   ]
  }
 ],
 "metadata": {
  "kernelspec": {
   "display_name": "Python 3 (ipykernel)",
   "language": "python",
   "name": "python3"
  },
  "language_info": {
   "codemirror_mode": {
    "name": "ipython",
    "version": 3
   },
   "file_extension": ".py",
   "mimetype": "text/x-python",
   "name": "python",
   "nbconvert_exporter": "python",
   "pygments_lexer": "ipython3",
   "version": "3.12.4"
  }
 },
 "nbformat": 4,
 "nbformat_minor": 5
}
