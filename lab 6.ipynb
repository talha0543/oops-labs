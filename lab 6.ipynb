{
 "cells": [
  {
   "cell_type": "markdown",
   "id": "74525420",
   "metadata": {},
   "source": [
    "# ***Name : Muhammad Talha***\n",
    "# ***Reg No : 23jzele0543***\n",
    "# ***Section : B***"
   ]
  },
  {
   "cell_type": "markdown",
   "id": "8a706ea8",
   "metadata": {},
   "source": [
    "# *Lab Practice*"
   ]
  },
  {
   "cell_type": "markdown",
   "id": "cbab6224",
   "metadata": {},
   "source": [
    "**Task No 01***"
   ]
  },
  {
   "cell_type": "markdown",
   "id": "b3412803",
   "metadata": {},
   "source": [
    "* Class Definition: Define a class Point in a 2-dimensional coordinate system with the necessary __init__ method.\n",
    "Property Methods:\n",
    "* Implement appropriate property methods using @property and @property.setter.\n",
    "* **Instance Methods:**\n",
    "* Distance Calculation: Add an instance method for calculating the distance between two points.\n",
    "* Distance from Origin: Include another instance method to calculate the distance from the origin (0, 0).\n",
    "* Locate: Add a method named locate to display the coordinates where the point is located.\n",
    "Special Methods:\n",
    "* Implement __repr__ and __str__ methods to provide clear string representations for the class.\n",
    "* Add methods decorated with @staticmethod, @property, and @classmethod if applicable.\n",
    "* Documentation: Ensure proper annotations and docstrings for every class and instance method to enhance readability and maintainabil"
   ]
  },
  {
   "cell_type": "code",
   "execution_count": 1,
   "id": "a05a2415",
   "metadata": {},
   "outputs": [],
   "source": [
    "import math\n",
    "\n",
    "class Point:\n",
    "    \"\"\"\n",
    "    A class to represent a point in a 2D coordinate system.\n",
    "    \"\"\"\n",
    "    def __init__(self, x: float = 0.0, y: float = 0.0):\n",
    "        \"\"\"\n",
    "        Initializes a new point at the given coordinates.\n",
    "        \n",
    "         x: x-coordinate (default is 0.0)\n",
    "         y: y-coordinate (default is 0.0)\n",
    "        \"\"\"\n",
    "        self.x = x\n",
    "        self.y = y\n",
    "\n",
    "    @property\n",
    "    def x(self) -> float:\n",
    "        \"\"\"Gets the x-coordinate.\"\"\"\n",
    "        return self._x\n",
    "\n",
    "    @x.setter\n",
    "    def x(self, value: float) -> None:\n",
    "        \"\"\"Sets the x-coordinate.\"\"\"\n",
    "        self._x = value\n",
    "\n",
    "    @property\n",
    "    def y(self) -> float:\n",
    "        \"\"\"Gets the y-coordinate.\"\"\"\n",
    "        return self._y\n",
    "\n",
    "    @y.setter\n",
    "    def y(self, value: float) -> None:\n",
    "        \"\"\"Sets the y-coordinate.\"\"\"\n",
    "        self._y = value\n",
    "\n",
    "    def distance_to(self, other: 'Point') -> float:\n",
    "        \"\"\"\n",
    "        Calculates the distance between this point and another point.\n",
    "        \n",
    "        :param other: Another point in the 2D coordinate system.\n",
    "        :return: The distance between the two points.\n",
    "        \"\"\"\n",
    "        return math.sqrt((self.x - other.x) ** 2 + (self.y - other.y) ** 2)\n",
    "\n",
    "    def distance_from_origin(self) -> float:\n",
    "        \"\"\"\n",
    "        Calculates the distance from the origin (0, 0) to this point.\n",
    "        \n",
    "        :return: The distance from the origin to this point.\n",
    "        \"\"\"\n",
    "        return math.sqrt(self.x ** 2 + self.y ** 2)\n",
    "\n",
    "    def located(self) -> str:\n",
    "        \"\"\"\n",
    "        Displays the coordinates of the point.\n",
    "        \n",
    "        return: A string representation of the coordinates.\n",
    "        \"\"\"\n",
    "        return f\"Point is located at ({self.x}, {self.y})\"\n",
    "\n",
    "    @staticmethod\n",
    "    def origin() -> 'Point':\n",
    "        \"\"\"\n",
    "        Returns a point at the origin (0, 0).\n",
    "        \n",
    "        return: A Point object representing the origin.\n",
    "        \"\"\"\n",
    "        return Point(0, 0)\n",
    "\n",
    "    @classmethod\n",
    "    def from_coordinates(cls, coordinates: tuple) -> 'Point':\n",
    "        \"\"\"\n",
    "        Creates a Point instance from a tuple of coordinates.\n",
    "        \n",
    "        coordinates: A tuple containing x and y coordinates.\n",
    "        return: An instance of Point.\n",
    "        \"\"\"\n",
    "        return cls(*coordinates)\n",
    "\n",
    "    def __repr__(self):\n",
    "        \"\"\"Return a string representation of the Circle instance.\"\"\"\n",
    "        return f'{type(self).__name__} ({self.x},{self.y})'\n",
    "    def __str__(self):\n",
    "        \"\"\"Return a user-friendly string representation of the Circle.\"\"\"\n",
    "        return f'2D Coordinate system with coordinates ({self.x},{self.y})'"
   ]
  },
  {
   "cell_type": "markdown",
   "id": "78a8a612",
   "metadata": {},
   "source": [
    "* To Define inst_1,inst_2 and pass two numbers"
   ]
  },
  {
   "cell_type": "code",
   "execution_count": 2,
   "id": "4011b63b",
   "metadata": {},
   "outputs": [],
   "source": [
    "inst_1 = Point(5,8)\n",
    "inst_2 = Point(5,9)"
   ]
  },
  {
   "cell_type": "code",
   "execution_count": 3,
   "id": "9a423205",
   "metadata": {},
   "outputs": [
    {
     "name": "stdout",
     "output_type": "stream",
     "text": [
      "2D Coordinate system with coordinates (5,8)\n",
      "2D Coordinate system with coordinates (5,9)\n"
     ]
    }
   ],
   "source": [
    "print(inst_1)\n",
    "print(inst_2)"
   ]
  },
  {
   "cell_type": "code",
   "execution_count": 4,
   "id": "5b650d23",
   "metadata": {},
   "outputs": [
    {
     "name": "stdout",
     "output_type": "stream",
     "text": [
      "9.433981132056603\n"
     ]
    }
   ],
   "source": [
    "print(inst_1.distance_from_origin())"
   ]
  },
  {
   "cell_type": "code",
   "execution_count": 5,
   "id": "0e3bbebb",
   "metadata": {},
   "outputs": [
    {
     "name": "stdout",
     "output_type": "stream",
     "text": [
      "10.295630140987\n"
     ]
    }
   ],
   "source": [
    "print(inst_2.distance_from_origin())"
   ]
  },
  {
   "cell_type": "markdown",
   "id": "2597d13d",
   "metadata": {},
   "source": [
    "* To Print inst_1 and inst_2, for this use the print command and pass the inst_1 and inst_2."
   ]
  },
  {
   "cell_type": "code",
   "execution_count": 6,
   "id": "f61daf25",
   "metadata": {},
   "outputs": [
    {
     "data": {
      "text/plain": [
       "Point (5,8)"
      ]
     },
     "execution_count": 6,
     "metadata": {},
     "output_type": "execute_result"
    }
   ],
   "source": [
    "inst_1"
   ]
  },
  {
   "cell_type": "code",
   "execution_count": 7,
   "id": "89ece5a4",
   "metadata": {},
   "outputs": [
    {
     "data": {
      "text/plain": [
       "Point (5,9)"
      ]
     },
     "execution_count": 7,
     "metadata": {},
     "output_type": "execute_result"
    }
   ],
   "source": [
    "inst_2"
   ]
  },
  {
   "cell_type": "markdown",
   "id": "13cfacc2",
   "metadata": {},
   "source": [
    "* To Calculate the distance between these two pints."
   ]
  },
  {
   "cell_type": "code",
   "execution_count": 8,
   "id": "82d622e0",
   "metadata": {},
   "outputs": [
    {
     "name": "stdout",
     "output_type": "stream",
     "text": [
      "Distance between inst_1 and inst_2 is: 1.00\n"
     ]
    }
   ],
   "source": [
    "distance = inst_1.distance_to(inst_2)\n",
    "print(f\"Distance between inst_1 and inst_2 is: {distance:.2f}\")"
   ]
  },
  {
   "cell_type": "markdown",
   "id": "f9f32ca9",
   "metadata": {},
   "source": [
    "* To Call the __dict__ by the class name"
   ]
  },
  {
   "cell_type": "code",
   "execution_count": 9,
   "id": "6fdd5829",
   "metadata": {},
   "outputs": [
    {
     "name": "stdout",
     "output_type": "stream",
     "text": [
      "mappingproxy({'__dict__': <attribute '__dict__' of 'Point' objects>,\n",
      "              '__doc__': '\\n'\n",
      "                         '    A class to represent a point in a 2D coordinate '\n",
      "                         'system.\\n'\n",
      "                         '    ',\n",
      "              '__init__': <function Point.__init__ at 0x000002451073F060>,\n",
      "              '__module__': '__main__',\n",
      "              '__repr__': <function Point.__repr__ at 0x000002451073FCE0>,\n",
      "              '__str__': <function Point.__str__ at 0x000002451073FD80>,\n",
      "              '__weakref__': <attribute '__weakref__' of 'Point' objects>,\n",
      "              'distance_from_origin': <function Point.distance_from_origin at 0x000002451073FA60>,\n",
      "              'distance_to': <function Point.distance_to at 0x000002451073F9C0>,\n",
      "              'from_coordinates': <classmethod(<function Point.from_coordinates at 0x000002451073FC40>)>,\n",
      "              'located': <function Point.located at 0x000002451073FB00>,\n",
      "              'origin': <staticmethod(<function Point.origin at 0x000002451073FBA0>)>,\n",
      "              'x': <property object at 0x0000024510ACA750>,\n",
      "              'y': <property object at 0x0000024510ACA840>})\n"
     ]
    }
   ],
   "source": [
    "from pprint import pprint\n",
    "pprint(Point.__dict__)"
   ]
  },
  {
   "cell_type": "markdown",
   "id": "3871af11",
   "metadata": {},
   "source": [
    "* Also pass the class name to the vars built-in function."
   ]
  },
  {
   "cell_type": "code",
   "execution_count": 10,
   "id": "19174c53",
   "metadata": {},
   "outputs": [
    {
     "name": "stdout",
     "output_type": "stream",
     "text": [
      "mappingproxy({'__dict__': <attribute '__dict__' of 'Point' objects>,\n",
      "              '__doc__': '\\n'\n",
      "                         '    A class to represent a point in a 2D coordinate '\n",
      "                         'system.\\n'\n",
      "                         '    ',\n",
      "              '__init__': <function Point.__init__ at 0x000002451073F060>,\n",
      "              '__module__': '__main__',\n",
      "              '__repr__': <function Point.__repr__ at 0x000002451073FCE0>,\n",
      "              '__str__': <function Point.__str__ at 0x000002451073FD80>,\n",
      "              '__weakref__': <attribute '__weakref__' of 'Point' objects>,\n",
      "              'distance_from_origin': <function Point.distance_from_origin at 0x000002451073FA60>,\n",
      "              'distance_to': <function Point.distance_to at 0x000002451073F9C0>,\n",
      "              'from_coordinates': <classmethod(<function Point.from_coordinates at 0x000002451073FC40>)>,\n",
      "              'located': <function Point.located at 0x000002451073FB00>,\n",
      "              'origin': <staticmethod(<function Point.origin at 0x000002451073FBA0>)>,\n",
      "              'x': <property object at 0x0000024510ACA750>,\n",
      "              'y': <property object at 0x0000024510ACA840>})\n"
     ]
    }
   ],
   "source": [
    "pprint(vars(Point))"
   ]
  },
  {
   "cell_type": "markdown",
   "id": "3137eac2",
   "metadata": {},
   "source": [
    "*  To Call the __dict__ on the object of the class."
   ]
  },
  {
   "cell_type": "code",
   "execution_count": 11,
   "id": "cd9bee86",
   "metadata": {},
   "outputs": [
    {
     "name": "stdout",
     "output_type": "stream",
     "text": [
      "{'_x': 5, '_y': 8}\n"
     ]
    }
   ],
   "source": [
    "print(inst_1.__dict__)"
   ]
  },
  {
   "cell_type": "markdown",
   "id": "d41f423d",
   "metadata": {},
   "source": [
    "To Pass the class name to help"
   ]
  },
  {
   "cell_type": "code",
   "execution_count": 12,
   "id": "f8d43a06",
   "metadata": {},
   "outputs": [
    {
     "name": "stdout",
     "output_type": "stream",
     "text": [
      "Help on class Point in module __main__:\n",
      "\n",
      "class Point(builtins.object)\n",
      " |  Point(x: float = 0.0, y: float = 0.0)\n",
      " |\n",
      " |  A class to represent a point in a 2D coordinate system.\n",
      " |\n",
      " |  Methods defined here:\n",
      " |\n",
      " |  __init__(self, x: float = 0.0, y: float = 0.0)\n",
      " |      Initializes a new point at the given coordinates.\n",
      " |\n",
      " |       x: x-coordinate (default is 0.0)\n",
      " |       y: y-coordinate (default is 0.0)\n",
      " |\n",
      " |  __repr__(self)\n",
      " |      Return a string representation of the Circle instance.\n",
      " |\n",
      " |  __str__(self)\n",
      " |      Return a user-friendly string representation of the Circle.\n",
      " |\n",
      " |  distance_from_origin(self) -> float\n",
      " |      Calculates the distance from the origin (0, 0) to this point.\n",
      " |\n",
      " |      :return: The distance from the origin to this point.\n",
      " |\n",
      " |  distance_to(self, other: 'Point') -> float\n",
      " |      Calculates the distance between this point and another point.\n",
      " |\n",
      " |      :param other: Another point in the 2D coordinate system.\n",
      " |      :return: The distance between the two points.\n",
      " |\n",
      " |  located(self) -> str\n",
      " |      Displays the coordinates of the point.\n",
      " |\n",
      " |      return: A string representation of the coordinates.\n",
      " |\n",
      " |  ----------------------------------------------------------------------\n",
      " |  Class methods defined here:\n",
      " |\n",
      " |  from_coordinates(coordinates: tuple) -> 'Point'\n",
      " |      Creates a Point instance from a tuple of coordinates.\n",
      " |\n",
      " |      coordinates: A tuple containing x and y coordinates.\n",
      " |      return: An instance of Point.\n",
      " |\n",
      " |  ----------------------------------------------------------------------\n",
      " |  Static methods defined here:\n",
      " |\n",
      " |  origin() -> 'Point'\n",
      " |      Returns a point at the origin (0, 0).\n",
      " |\n",
      " |      return: A Point object representing the origin.\n",
      " |\n",
      " |  ----------------------------------------------------------------------\n",
      " |  Data descriptors defined here:\n",
      " |\n",
      " |  __dict__\n",
      " |      dictionary for instance variables\n",
      " |\n",
      " |  __weakref__\n",
      " |      list of weak references to the object\n",
      " |\n",
      " |  x\n",
      " |      Gets the x-coordinate.\n",
      " |\n",
      " |  y\n",
      " |      Gets the y-coordinate.\n",
      "\n"
     ]
    }
   ],
   "source": [
    "help(Point)"
   ]
  },
  {
   "cell_type": "markdown",
   "id": "f791eda2",
   "metadata": {},
   "source": [
    "* To Print the doc-string and annotations of both the class and each instance method"
   ]
  },
  {
   "cell_type": "code",
   "execution_count": 13,
   "id": "67768a71",
   "metadata": {},
   "outputs": [
    {
     "name": "stdout",
     "output_type": "stream",
     "text": [
      "\n",
      "    A class to represent a point in a 2D coordinate system.\n",
      "    \n",
      "Method: __init__, Docstring: \n",
      "        Initializes a new point at the given coordinates.\n",
      "        \n",
      "         x: x-coordinate (default is 0.0)\n",
      "         y: y-coordinate (default is 0.0)\n",
      "        , Annotations: {'x': <class 'float'>, 'y': <class 'float'>}\n",
      "Method: distance_to, Docstring: \n",
      "        Calculates the distance between this point and another point.\n",
      "        \n",
      "        :param other: Another point in the 2D coordinate system.\n",
      "        :return: The distance between the two points.\n",
      "        , Annotations: {'other': 'Point', 'return': <class 'float'>}\n",
      "Method: distance_from_origin, Docstring: \n",
      "        Calculates the distance from the origin (0, 0) to this point.\n",
      "        \n",
      "        :return: The distance from the origin to this point.\n",
      "        , Annotations: {'return': <class 'float'>}\n",
      "Method: __repr__, Docstring: Return a string representation of the Circle instance., Annotations: {}\n",
      "Method: __str__, Docstring: Return a user-friendly string representation of the Circle., Annotations: {}\n",
      "Method: origin, Docstring: \n",
      "        Returns a point at the origin (0, 0).\n",
      "        \n",
      "        return: A Point object representing the origin.\n",
      "        , Annotations: {'return': 'Point'}\n",
      "Method: from_coordinates, Docstring: \n",
      "        Creates a Point instance from a tuple of coordinates.\n",
      "        \n",
      "        coordinates: A tuple containing x and y coordinates.\n",
      "        return: An instance of Point.\n",
      "        , Annotations: {'coordinates': <class 'tuple'>, 'return': 'Point'}\n"
     ]
    }
   ],
   "source": [
    "print(Point.__doc__)\n",
    "for method in [Point.__init__,\n",
    "               Point.distance_to,\n",
    "               Point.distance_from_origin,\n",
    "               Point.__repr__,\n",
    "               Point.__str__,\n",
    "               Point.origin,\n",
    "               Point.from_coordinates]:\n",
    "    if isinstance(method, property):\n",
    "        print(f\"Method: {method.fget.__name__}, Docstring: {method.__doc__}, Annotations: {method.fget.__annotations__}\")\n",
    "    else:\n",
    "        print(f\"Method: {method.__name__}, Docstring: {method.__doc__}, Annotations: {method.__annotations__}\")"
   ]
  },
  {
   "cell_type": "markdown",
   "id": "8166f242",
   "metadata": {},
   "source": [
    "To Modify the __init__ by by making its parameters default and verify by instances."
   ]
  },
  {
   "cell_type": "code",
   "execution_count": 14,
   "id": "aa5aac4d",
   "metadata": {},
   "outputs": [
    {
     "name": "stdout",
     "output_type": "stream",
     "text": [
      "2D Coordinate system with coordinates (0.0,0.0)\n"
     ]
    }
   ],
   "source": [
    "inst_3 = Point()\n",
    "print(inst_3)"
   ]
  },
  {
   "cell_type": "markdown",
   "id": "e0d99d6e",
   "metadata": {},
   "source": [
    "**Task No 02**"
   ]
  },
  {
   "cell_type": "markdown",
   "id": "e4debafe",
   "metadata": {},
   "source": [
    "* ***Class Definition:*** Define a class Circle with the necessary __init__ method.\n",
    "* **Property Methods:**\n",
    "* Add appropriate property methods using @property and @property.setter for radius.\n",
    "* Add property methods for area, circumference, and diameter.\n",
    "* **Instance Methods:**\n",
    "* ***Volume Calculation:*** Add an instance method for calculating the volume of a cylinder with the given radius.\n",
    "* **Special Methods:**\n",
    "* Implement __repr__ and __str__ methods to provide clear string representations for the class.\n",
    "* Add methods decorated with @staticmethod and @classmethod if applicable.\n",
    "* Documentation: Ensure proper annotations and docstrings for every class and instance method to enhance readability and maintainability."
   ]
  },
  {
   "cell_type": "code",
   "execution_count": 17,
   "id": "3deccc1d",
   "metadata": {},
   "outputs": [],
   "source": [
    "import math\n",
    "class Circle:\n",
    "    \"\"\"A class to represent a circle with given radius and calculate the area, circumference, diameter  and volume\n",
    "    \"\"\"\n",
    "    def __init__(self, radius: float = 1):\n",
    "        \"\"\"\n",
    "        Initialize the Circle with a given radius.\n",
    "\n",
    "        Parameters:\n",
    "        radius (float): The radius of the circle. Default is 1.0.\n",
    "        \"\"\"\n",
    "        self.radius = radius\n",
    "\n",
    "    @property\n",
    "    def radius(self):\n",
    "        \"\"\"Get the radius of the circle.\"\"\"\n",
    "        return self._radius\n",
    "\n",
    "    @radius.setter\n",
    "    def radius(self, value: float) -> None:\n",
    "        \"\"\"Set the radius of the circle.\"\"\"\n",
    "        self._radius = value\n",
    "\n",
    "    def volume(self, height: float) -> None:\n",
    "        \"\"\"\n",
    "        Calculate the volume of a cylinder with the circle as the base.\n",
    "\n",
    "        Parameters:\n",
    "        height (float): The height of the cylinder.\n",
    "\n",
    "        Returns:\n",
    "        float: The volume of the cylinder.\n",
    "        \"\"\"\n",
    "        return self.area * height\n",
    "\n",
    "    @property\n",
    "    def area(self) -> float:\n",
    "        \"\"\"Calculate the area of the circle.\"\"\"\n",
    "        from math import pi\n",
    "        return pi * (self._radius ** 2)\n",
    "    @staticmethod\n",
    "    def volume(height: float) -> float:\n",
    "        return self.area * height\n",
    "\n",
    "    @property\n",
    "    def circumference(self) -> float:\n",
    "        \"\"\"Calculate the circumference of the circle.\"\"\"\n",
    "        from math import pi\n",
    "        return 2 * pi * self._radius\n",
    "\n",
    "    @property\n",
    "    def diameter(self) -> float:\n",
    "        \"\"\"Calculate the diameter of the circle.\"\"\"\n",
    "        return self._radius * 2\n",
    "    @classmethod\n",
    "    def unit_circle(cls) -> 'Circle':\n",
    "        \"\"\"Create a Circle instance with a radius of 1.\"\"\"\n",
    "        return cls(1)\n",
    "    def __repr__(self) -> str:\n",
    "        \"\"\"Return a string representation of the Circle instance.\"\"\"\n",
    "        return f\"Circle(radius={self._radius})\"\n",
    "\n",
    "    def __str__(self) -> str:\n",
    "        \"\"\"Return a user-friendly string representation of the Circle.\"\"\"\n",
    "        return f\"Circle with radius: {self._radius}\""
   ]
  },
  {
   "cell_type": "markdown",
   "id": "ea28d2a1",
   "metadata": {},
   "source": [
    "* To Define inst_1,inst_2"
   ]
  },
  {
   "cell_type": "code",
   "execution_count": 18,
   "id": "d4e825ae",
   "metadata": {},
   "outputs": [],
   "source": [
    "inst_1 = Circle(4)\n",
    "inst_2 = Circle(25)"
   ]
  },
  {
   "cell_type": "markdown",
   "id": "c061ddc2",
   "metadata": {},
   "source": [
    "* To Print inst_1 and inst_2, for this use the print command and pass the inst_1 and inst_2"
   ]
  },
  {
   "cell_type": "code",
   "execution_count": 19,
   "id": "2675daec",
   "metadata": {},
   "outputs": [
    {
     "name": "stdout",
     "output_type": "stream",
     "text": [
      "Circle with radius: 4\n",
      "Circle with radius: 25\n"
     ]
    }
   ],
   "source": [
    "print(inst_1)\n",
    "print(inst_2)"
   ]
  },
  {
   "cell_type": "code",
   "execution_count": 20,
   "id": "fb9301aa",
   "metadata": {},
   "outputs": [
    {
     "data": {
      "text/plain": [
       "Circle(radius=4)"
      ]
     },
     "execution_count": 20,
     "metadata": {},
     "output_type": "execute_result"
    }
   ],
   "source": [
    "inst_1"
   ]
  },
  {
   "cell_type": "code",
   "execution_count": 21,
   "id": "1f8330ce",
   "metadata": {},
   "outputs": [
    {
     "data": {
      "text/plain": [
       "Circle(radius=25)"
      ]
     },
     "execution_count": 21,
     "metadata": {},
     "output_type": "execute_result"
    }
   ],
   "source": [
    "inst_2"
   ]
  },
  {
   "cell_type": "markdown",
   "id": "9ca174cb",
   "metadata": {},
   "source": [
    "* To Demonstrate the property, staticmethod and classmethod methods on the instances"
   ]
  },
  {
   "cell_type": "code",
   "execution_count": 22,
   "id": "fb5ad9e5",
   "metadata": {},
   "outputs": [
    {
     "name": "stdout",
     "output_type": "stream",
     "text": [
      "Area of inst_1: 50.3\n",
      "Circumference of inst_1: 25.1\n",
      "Diameter of inst_1: 8.0\n",
      "\n",
      "Area of inst_2: 1963.5\n",
      "Circumference of inst_2: 157.1\n",
      "Diameter of inst_2: 50.0\n"
     ]
    }
   ],
   "source": [
    "\n",
    "print(f\"Area of inst_1: {inst_1.area:.1f}\")\n",
    "print(f\"Circumference of inst_1: {inst_1.circumference:.1f}\")\n",
    "print(f\"Diameter of inst_1: {inst_1.diameter:.1f}\")\n",
    "print()\n",
    "print(f\"Area of inst_2: {inst_2.area:.1f}\")\n",
    "print(f\"Circumference of inst_2: {inst_2.circumference:.1f}\")\n",
    "print(f\"Diameter of inst_2: {inst_2.diameter:.1f}\")"
   ]
  },
  {
   "cell_type": "markdown",
   "id": "31df6538",
   "metadata": {},
   "source": [
    "* To Call the __dict__ by the class name."
   ]
  },
  {
   "cell_type": "code",
   "execution_count": 23,
   "id": "c5ef1c0b",
   "metadata": {},
   "outputs": [
    {
     "name": "stdout",
     "output_type": "stream",
     "text": [
      "mappingproxy({'__dict__': <attribute '__dict__' of 'Circle' objects>,\n",
      "              '__doc__': 'A class to represent a circle with given radius and '\n",
      "                         'calculate the area, circumference, diameter  and '\n",
      "                         'volume\\n'\n",
      "                         '    ',\n",
      "              '__init__': <function Circle.__init__ at 0x0000024510AE0AE0>,\n",
      "              '__module__': '__main__',\n",
      "              '__repr__': <function Circle.__repr__ at 0x0000024510AE1120>,\n",
      "              '__str__': <function Circle.__str__ at 0x0000024510AE11C0>,\n",
      "              '__weakref__': <attribute '__weakref__' of 'Circle' objects>,\n",
      "              'area': <property object at 0x0000024510AF22F0>,\n",
      "              'circumference': <property object at 0x0000024510AF22A0>,\n",
      "              'diameter': <property object at 0x0000024510AF2200>,\n",
      "              'radius': <property object at 0x0000024510AF2250>,\n",
      "              'unit_circle': <classmethod(<function Circle.unit_circle at 0x0000024510AE1080>)>,\n",
      "              'volume': <staticmethod(<function Circle.volume at 0x0000024510AE0F40>)>})\n"
     ]
    }
   ],
   "source": [
    "from pprint import pprint\n",
    "pprint(Circle.__dict__)"
   ]
  },
  {
   "cell_type": "markdown",
   "id": "9745d195",
   "metadata": {},
   "source": [
    "Also pass the class name to the vars built-in function."
   ]
  },
  {
   "cell_type": "code",
   "execution_count": 24,
   "id": "28569136",
   "metadata": {},
   "outputs": [
    {
     "name": "stdout",
     "output_type": "stream",
     "text": [
      "mappingproxy({'__dict__': <attribute '__dict__' of 'Circle' objects>,\n",
      "              '__doc__': 'A class to represent a circle with given radius and '\n",
      "                         'calculate the area, circumference, diameter  and '\n",
      "                         'volume\\n'\n",
      "                         '    ',\n",
      "              '__init__': <function Circle.__init__ at 0x0000024510AE0AE0>,\n",
      "              '__module__': '__main__',\n",
      "              '__repr__': <function Circle.__repr__ at 0x0000024510AE1120>,\n",
      "              '__str__': <function Circle.__str__ at 0x0000024510AE11C0>,\n",
      "              '__weakref__': <attribute '__weakref__' of 'Circle' objects>,\n",
      "              'area': <property object at 0x0000024510AF22F0>,\n",
      "              'circumference': <property object at 0x0000024510AF22A0>,\n",
      "              'diameter': <property object at 0x0000024510AF2200>,\n",
      "              'radius': <property object at 0x0000024510AF2250>,\n",
      "              'unit_circle': <classmethod(<function Circle.unit_circle at 0x0000024510AE1080>)>,\n",
      "              'volume': <staticmethod(<function Circle.volume at 0x0000024510AE0F40>)>})\n"
     ]
    }
   ],
   "source": [
    "pprint(vars(Circle))"
   ]
  },
  {
   "cell_type": "markdown",
   "id": "45e11ac5",
   "metadata": {},
   "source": [
    "* To Call the __dict__ on the object of the class"
   ]
  },
  {
   "cell_type": "code",
   "execution_count": 25,
   "id": "470eb3da",
   "metadata": {},
   "outputs": [
    {
     "name": "stdout",
     "output_type": "stream",
     "text": [
      "{'_radius': 4}\n"
     ]
    }
   ],
   "source": [
    "print(inst_1.__dict__)"
   ]
  },
  {
   "cell_type": "code",
   "execution_count": 26,
   "id": "67bc994b",
   "metadata": {},
   "outputs": [
    {
     "name": "stdout",
     "output_type": "stream",
     "text": [
      "{'_radius': 25}\n"
     ]
    }
   ],
   "source": [
    "print(inst_2.__dict__)"
   ]
  },
  {
   "cell_type": "markdown",
   "id": "4a52f92e",
   "metadata": {},
   "source": [
    "* To Pass the class name to help"
   ]
  },
  {
   "cell_type": "code",
   "execution_count": 27,
   "id": "99b932ed",
   "metadata": {},
   "outputs": [
    {
     "name": "stdout",
     "output_type": "stream",
     "text": [
      "Help on class Circle in module __main__:\n",
      "\n",
      "class Circle(builtins.object)\n",
      " |  Circle(radius: float = 1)\n",
      " |\n",
      " |  A class to represent a circle with given radius and calculate the area, circumference, diameter  and volume\n",
      " |\n",
      " |  Methods defined here:\n",
      " |\n",
      " |  __init__(self, radius: float = 1)\n",
      " |      Initialize the Circle with a given radius.\n",
      " |\n",
      " |      Parameters:\n",
      " |      radius (float): The radius of the circle. Default is 1.0.\n",
      " |\n",
      " |  __repr__(self) -> str\n",
      " |      Return a string representation of the Circle instance.\n",
      " |\n",
      " |  __str__(self) -> str\n",
      " |      Return a user-friendly string representation of the Circle.\n",
      " |\n",
      " |  ----------------------------------------------------------------------\n",
      " |  Class methods defined here:\n",
      " |\n",
      " |  unit_circle() -> 'Circle'\n",
      " |      Create a Circle instance with a radius of 1.\n",
      " |\n",
      " |  ----------------------------------------------------------------------\n",
      " |  Static methods defined here:\n",
      " |\n",
      " |  volume(height: float) -> float\n",
      " |\n",
      " |  ----------------------------------------------------------------------\n",
      " |  Readonly properties defined here:\n",
      " |\n",
      " |  area\n",
      " |      Calculate the area of the circle.\n",
      " |\n",
      " |  circumference\n",
      " |      Calculate the circumference of the circle.\n",
      " |\n",
      " |  diameter\n",
      " |      Calculate the diameter of the circle.\n",
      " |\n",
      " |  ----------------------------------------------------------------------\n",
      " |  Data descriptors defined here:\n",
      " |\n",
      " |  __dict__\n",
      " |      dictionary for instance variables\n",
      " |\n",
      " |  __weakref__\n",
      " |      list of weak references to the object\n",
      " |\n",
      " |  radius\n",
      " |      Get the radius of the circle.\n",
      "\n"
     ]
    }
   ],
   "source": [
    "help(Circle)"
   ]
  },
  {
   "cell_type": "code",
   "execution_count": 28,
   "id": "9e43bcc4",
   "metadata": {},
   "outputs": [
    {
     "name": "stdout",
     "output_type": "stream",
     "text": [
      "A class to represent a circle with given radius and calculate the area, circumference, diameter  and volume\n",
      "    \n",
      "Method: __init__, Docstring: \n",
      "        Initialize the Circle with a given radius.\n",
      "\n",
      "        Parameters:\n",
      "        radius (float): The radius of the circle. Default is 1.0.\n",
      "        , Annotations: {'radius': <class 'float'>}\n",
      "Method: volume, Docstring: None, Annotations: {'height': <class 'float'>, 'return': <class 'float'>}\n",
      "Method: area, Docstring: Calculate the area of the circle., Annotations: {'return': <class 'float'>}\n",
      "Method: circumference, Docstring: Calculate the circumference of the circle., Annotations: {'return': <class 'float'>}\n",
      "Method: diameter, Docstring: Calculate the diameter of the circle., Annotations: {'return': <class 'float'>}\n",
      "Method: __repr__, Docstring: Return a string representation of the Circle instance., Annotations: {'return': <class 'str'>}\n",
      "Method: __str__, Docstring: Return a user-friendly string representation of the Circle., Annotations: {'return': <class 'str'>}\n",
      "Method: diameter, Docstring: Calculate the diameter of the circle., Annotations: {'return': <class 'float'>}\n",
      "Method: unit_circle, Docstring: Create a Circle instance with a radius of 1., Annotations: {'return': 'Circle'}\n"
     ]
    }
   ],
   "source": [
    "print(Circle.__doc__)\n",
    "for method in [\n",
    "    Circle.__init__,\n",
    "    Circle.volume,\n",
    "    Circle.area,\n",
    "    Circle.circumference,\n",
    "    Circle.diameter,\n",
    "    Circle.__repr__,\n",
    "    Circle.__str__,\n",
    "    Circle.diameter,\n",
    "    Circle.unit_circle,]:\n",
    "    if isinstance(method, property):\n",
    "        print(f\"Method: {method.fget.__name__}, Docstring: {method.__doc__}, Annotations: {method.fget.__annotations__}\")\n",
    "    else:\n",
    "        print(f\"Method: {method.__name__}, Docstring: {method.__doc__}, Annotations: {method.__annotations__}\")"
   ]
  },
  {
   "cell_type": "markdown",
   "id": "bdad00af",
   "metadata": {},
   "source": [
    "* To Modify the __init__ by by making its parameters default and verify by instances"
   ]
  },
  {
   "cell_type": "code",
   "execution_count": 29,
   "id": "63ae511d",
   "metadata": {},
   "outputs": [
    {
     "name": "stdout",
     "output_type": "stream",
     "text": [
      "Circle with radius: 1\n"
     ]
    }
   ],
   "source": [
    "inst_3 = Circle()\n",
    "print(inst_3)"
   ]
  },
  {
   "cell_type": "markdown",
   "id": "23729193",
   "metadata": {},
   "source": [
    " **Task No 03**"
   ]
  },
  {
   "cell_type": "markdown",
   "id": "8756bc1b",
   "metadata": {},
   "source": [
    "* ***Class Definition:*** Define a class RLC with the necessary __init__ method.\n",
    "* **Property Methods:**\n",
    "* Add appropriate property methods using @property and @property.setter for resistance, inductance, and capacitance.\n",
    "*Add property methods for impedance, phase, and power factor.\n",
    "* **Instance Method:**\n",
    "* ***Current Calculation:*** Add an instance method for calculating the current in the circuit with a given input voltage.\n",
    "* **Special Methods:**\n",
    "* Implement __repr__ and __str__ methods to provide clear string representations for the class.\n",
    "* Add methods decorated with @staticmethod and @classmethod if applicable.\n",
    "* Documentation: Ensure proper annotations and docstrings for every class and instance method to enhance readability and maintainability."
   ]
  },
  {
   "cell_type": "code",
   "execution_count": 30,
   "id": "f491266e",
   "metadata": {},
   "outputs": [],
   "source": [
    "import math\n",
    "\n",
    "class RLC:\n",
    "    \"\"\"A class to represent a series RLC circuit.\"\"\"\n",
    "\n",
    "    def __init__(self, resistance: float = 1.0, inductance: float = 1.0, capacitance: float = 1.0):\n",
    "        \"\"\"\n",
    "        Initialize the RLC circuit with given resistance, inductance, and capacitance.\n",
    "\n",
    "        Parameters:\n",
    "        Resistance in ohms. Default is 1.0.\n",
    "        Inductance in henries. Default is 1.0.\n",
    "        Capacitance in farads. Default is 1.0.\n",
    "        \"\"\"\n",
    "        self.resistance = resistance\n",
    "        self.inductance = inductance\n",
    "        self.capacitance = capacitance\n",
    "\n",
    "    @property\n",
    "    def resistance(self) -> float:\n",
    "        \"\"\"Get the resistance of the circuit.\"\"\"\n",
    "        return self._resistance\n",
    "\n",
    "    @resistance.setter\n",
    "    def resistance(self, value: float) -> None:\n",
    "        \"\"\"Set the resistance of the circuit.\"\"\"\n",
    "        self._resistance = value\n",
    "\n",
    "    @property\n",
    "    def inductance(self) -> float:\n",
    "        \"\"\"Get the inductance of the circuit.\"\"\"\n",
    "        return self._inductance\n",
    "\n",
    "    @inductance.setter\n",
    "    def inductance(self, value: float) -> None:\n",
    "        \"\"\"Set the inductance of the circuit.\"\"\"\n",
    "        self._inductance = value\n",
    "\n",
    "    @property\n",
    "    def capacitance(self) -> float:\n",
    "        \"\"\"Get the capacitance of the circuit.\"\"\"\n",
    "        return self._capacitance\n",
    "\n",
    "    @capacitance.setter\n",
    "    def capacitance(self, value: float) -> None:\n",
    "        \"\"\"Set the capacitance of the circuit.\"\"\"\n",
    "        self._capacitance = value\n",
    "    @property\n",
    "    def impedance(self) -> float:\n",
    "        \"\"\"Calculate the impedance of the circuit.\"\"\"\n",
    "        reactance = (self._inductance * 2 * math.pi * 100) - (1 / (self._capacitance * 2 * math.pi * 100))\n",
    "        return math.sqrt(self._resistance ** 2 + reactance**2)\n",
    "\n",
    "    @property\n",
    "    def phase(self) -> float:\n",
    "        \"\"\"Calculate the phase angle of the circuit in radians.\"\"\"\n",
    "        reactance = (self._inductance * 2 * math.pi * 50) - (1 / (self._capacitance * 2 * math.pi * 50)) # here the frequency is 50\n",
    "        return math.atan(reactance / self._resistance)\n",
    "\n",
    "    @property\n",
    "    def power_factor(self) -> float:\n",
    "        \"\"\"Calculate the power factor of the circuit.\"\"\"\n",
    "        return (math.cos(self.phase))\n",
    "\n",
    "    def current(self, voltage: float) -> float:\n",
    "        \"\"\"\n",
    "        Calculate the current in the circuit with a given input voltage.\n",
    "\n",
    "        Parameters:\n",
    "        The input voltage in volts.\n",
    "\n",
    "        Returns:\n",
    "        float: The current in amperes.\n",
    "        \"\"\"\n",
    "        return voltage / self.impedance\n",
    "\n",
    "    @staticmethod\n",
    "    def series_RLC_from_values(resistance: float, inductance: float, capacitance: float):\n",
    "        \"\"\"\n",
    "        Create an RLC instance from resistance, inductance, and capacitance values.\n",
    "        Returns:\n",
    "        RLC: An instance of RLC.\n",
    "        \"\"\"\n",
    "        return RLC(resistance, inductance, capacitance)\n",
    "\n",
    "    @classmethod\n",
    "    def default_RLC(cls):\n",
    "        \"\"\"Create a default RLC instance with default values.\"\"\"\n",
    "        return cls()\n",
    "    def __repr__(self) -> str:\n",
    "        \"\"\"Return a string representation of the RLC instance.\"\"\"\n",
    "        return (f\"{type(self).__name__}({self._resistance} ohm,{self._inductance} H, {self._capacitance} F)\")\n",
    "\n",
    "    def __str__(self) -> str:\n",
    "        \"\"\"Return a user-friendly string representation of the RLC circuit.\"\"\"\n",
    "        return (f\"RLC Circuit with Resistance: {self._resistance} ohm,Inductance: {self._inductance} H, Capacitance: {self._capacitance} F\")"
   ]
  },
  {
   "cell_type": "markdown",
   "id": "2621df4b",
   "metadata": {},
   "source": [
    "* To Define inst_1,inst_2 and pass two numbers"
   ]
  },
  {
   "cell_type": "code",
   "execution_count": 31,
   "id": "96771753",
   "metadata": {},
   "outputs": [],
   "source": [
    "inst_1 = RLC(40, 1.1, 0.005)\n",
    "inst_2 = RLC(120, 6.2, 0.009)"
   ]
  },
  {
   "cell_type": "markdown",
   "id": "58c18270",
   "metadata": {},
   "source": [
    "* To Print inst_1 and inst_2, for this use the print command and pass the inst_1 and inst_2"
   ]
  },
  {
   "cell_type": "code",
   "execution_count": 32,
   "id": "aa094944",
   "metadata": {},
   "outputs": [
    {
     "name": "stdout",
     "output_type": "stream",
     "text": [
      "RLC Circuit with Resistance: 40 ohm,Inductance: 1.1 H, Capacitance: 0.005 F\n",
      "RLC Circuit with Resistance: 120 ohm,Inductance: 6.2 H, Capacitance: 0.009 F\n"
     ]
    }
   ],
   "source": [
    "print(inst_1)\n",
    "print(inst_2)"
   ]
  },
  {
   "cell_type": "code",
   "execution_count": 33,
   "id": "fdc9e742",
   "metadata": {},
   "outputs": [
    {
     "data": {
      "text/plain": [
       "RLC(40 ohm,1.1 H, 0.005 F)"
      ]
     },
     "execution_count": 33,
     "metadata": {},
     "output_type": "execute_result"
    }
   ],
   "source": [
    "inst_1"
   ]
  },
  {
   "cell_type": "code",
   "execution_count": 34,
   "id": "0b9770e5",
   "metadata": {},
   "outputs": [
    {
     "data": {
      "text/plain": [
       "RLC(120 ohm,6.2 H, 0.009 F)"
      ]
     },
     "execution_count": 34,
     "metadata": {},
     "output_type": "execute_result"
    }
   ],
   "source": [
    "inst_2"
   ]
  },
  {
   "cell_type": "markdown",
   "id": "d9b0082b",
   "metadata": {},
   "source": [
    "* To Demonstrate the property, staticmethod and classmethod methods on the instances"
   ]
  },
  {
   "cell_type": "code",
   "execution_count": 35,
   "id": "1625c736",
   "metadata": {},
   "outputs": [
    {
     "name": "stdout",
     "output_type": "stream",
     "text": [
      "Impedance of inst_1: 692.0 ohm\n",
      "Phase of inst_1: 1.5 radians\n",
      "Power Factor of inst_1: 0.115 W\n",
      "\n",
      "Impedance of inst_2: 3897.2 ohm\n",
      "Phase of inst_2: 1.5 radians\n",
      "Power Factor of inst_2: 0.062 W\n"
     ]
    }
   ],
   "source": [
    "print(f\"Impedance of inst_1: {inst_1.impedance:.1f} ohm\")\n",
    "print(f\"Phase of inst_1: {inst_1.phase:.1f} radians\")\n",
    "print(f\"Power Factor of inst_1: {inst_1.power_factor:.3f} W\")\n",
    "print()\n",
    "print(f\"Impedance of inst_2: {inst_2.impedance:.1f} ohm\")\n",
    "print(f\"Phase of inst_2: {inst_2.phase:.1f} radians\")\n",
    "print(f\"Power Factor of inst_2: {inst_2.power_factor:.3f} W\")"
   ]
  },
  {
   "cell_type": "markdown",
   "id": "f5bbc116",
   "metadata": {},
   "source": [
    "* Current with a given voltage"
   ]
  },
  {
   "cell_type": "code",
   "execution_count": 36,
   "id": "d47def67",
   "metadata": {},
   "outputs": [
    {
     "name": "stdout",
     "output_type": "stream",
     "text": [
      "Current through inst_1 with voltage 220V: 0.32A\n",
      "Current through inst_2 with voltage 130V: 0.03A\n"
     ]
    }
   ],
   "source": [
    "print(f\"Current through inst_1 with voltage {220}V: {inst_1.current(220):.2f}A\")\n",
    "print(f\"Current through inst_2 with voltage {130}V: {inst_2.current(130):.2f}A\")"
   ]
  },
  {
   "cell_type": "markdown",
   "id": "dbe80a0d",
   "metadata": {},
   "source": [
    "* Using the class method"
   ]
  },
  {
   "cell_type": "code",
   "execution_count": 37,
   "id": "f5914e41",
   "metadata": {},
   "outputs": [
    {
     "name": "stdout",
     "output_type": "stream",
     "text": [
      "RLC Circuit with Resistance: 1.0 ohm,Inductance: 1.0 H, Capacitance: 1.0 F\n"
     ]
    },
    {
     "data": {
      "text/plain": [
       "RLC(1.0 ohm,1.0 H, 1.0 F)"
      ]
     },
     "execution_count": 37,
     "metadata": {},
     "output_type": "execute_result"
    }
   ],
   "source": [
    "default_RLC = RLC.default_RLC()\n",
    "print(default_RLC)\n",
    "default_RLC"
   ]
  },
  {
   "cell_type": "markdown",
   "id": "e00c4966",
   "metadata": {},
   "source": [
    "* To Call the __dict__ by the class name."
   ]
  },
  {
   "cell_type": "code",
   "execution_count": 38,
   "id": "84afa137",
   "metadata": {},
   "outputs": [
    {
     "name": "stdout",
     "output_type": "stream",
     "text": [
      "mappingproxy({'__dict__': <attribute '__dict__' of 'RLC' objects>,\n",
      "              '__doc__': 'A class to represent a series RLC circuit.',\n",
      "              '__init__': <function RLC.__init__ at 0x0000024510AE14E0>,\n",
      "              '__module__': '__main__',\n",
      "              '__repr__': <function RLC.__repr__ at 0x0000024510AE1620>,\n",
      "              '__str__': <function RLC.__str__ at 0x0000024510AE1580>,\n",
      "              '__weakref__': <attribute '__weakref__' of 'RLC' objects>,\n",
      "              'capacitance': <property object at 0x0000024510AF3330>,\n",
      "              'current': <function RLC.current at 0x0000024510AE04A0>,\n",
      "              'default_RLC': <classmethod(<function RLC.default_RLC at 0x0000024510AE07C0>)>,\n",
      "              'impedance': <property object at 0x0000024510AF3740>,\n",
      "              'inductance': <property object at 0x0000024510AF3B50>,\n",
      "              'phase': <property object at 0x0000024510AF1EE0>,\n",
      "              'power_factor': <property object at 0x0000024510AF3920>,\n",
      "              'resistance': <property object at 0x0000024510AF25C0>,\n",
      "              'series_RLC_from_values': <staticmethod(<function RLC.series_RLC_from_values at 0x0000024510AE0900>)>})\n"
     ]
    }
   ],
   "source": [
    "from pprint import pprint\n",
    "pprint(RLC.__dict__)"
   ]
  },
  {
   "cell_type": "markdown",
   "id": "369482b0",
   "metadata": {},
   "source": [
    "* Also pass the class name to the vars built-in function"
   ]
  },
  {
   "cell_type": "code",
   "execution_count": 39,
   "id": "39bda09f",
   "metadata": {},
   "outputs": [
    {
     "name": "stdout",
     "output_type": "stream",
     "text": [
      "mappingproxy({'__dict__': <attribute '__dict__' of 'RLC' objects>,\n",
      "              '__doc__': 'A class to represent a series RLC circuit.',\n",
      "              '__init__': <function RLC.__init__ at 0x0000024510AE14E0>,\n",
      "              '__module__': '__main__',\n",
      "              '__repr__': <function RLC.__repr__ at 0x0000024510AE1620>,\n",
      "              '__str__': <function RLC.__str__ at 0x0000024510AE1580>,\n",
      "              '__weakref__': <attribute '__weakref__' of 'RLC' objects>,\n",
      "              'capacitance': <property object at 0x0000024510AF3330>,\n",
      "              'current': <function RLC.current at 0x0000024510AE04A0>,\n",
      "              'default_RLC': <classmethod(<function RLC.default_RLC at 0x0000024510AE07C0>)>,\n",
      "              'impedance': <property object at 0x0000024510AF3740>,\n",
      "              'inductance': <property object at 0x0000024510AF3B50>,\n",
      "              'phase': <property object at 0x0000024510AF1EE0>,\n",
      "              'power_factor': <property object at 0x0000024510AF3920>,\n",
      "              'resistance': <property object at 0x0000024510AF25C0>,\n",
      "              'series_RLC_from_values': <staticmethod(<function RLC.series_RLC_from_values at 0x0000024510AE0900>)>})\n"
     ]
    }
   ],
   "source": [
    "pprint(vars(RLC))"
   ]
  },
  {
   "cell_type": "markdown",
   "id": "4754909a",
   "metadata": {},
   "source": [
    "* To Call the __dict__ on the object of the class"
   ]
  },
  {
   "cell_type": "code",
   "execution_count": 40,
   "id": "0ffc3f2e",
   "metadata": {},
   "outputs": [
    {
     "name": "stdout",
     "output_type": "stream",
     "text": [
      "{'_resistance': 40, '_inductance': 1.1, '_capacitance': 0.005}\n",
      "{'_resistance': 120, '_inductance': 6.2, '_capacitance': 0.009}\n"
     ]
    }
   ],
   "source": [
    "print(inst_1.__dict__)\n",
    "print(inst_2.__dict__)"
   ]
  },
  {
   "cell_type": "markdown",
   "id": "85465673",
   "metadata": {},
   "source": [
    "* To Pass the class name to help"
   ]
  },
  {
   "cell_type": "code",
   "execution_count": 41,
   "id": "6ab01caf",
   "metadata": {},
   "outputs": [
    {
     "name": "stdout",
     "output_type": "stream",
     "text": [
      "Help on class RLC in module __main__:\n",
      "\n",
      "class RLC(builtins.object)\n",
      " |  RLC(resistance: float = 1.0, inductance: float = 1.0, capacitance: float = 1.0)\n",
      " |\n",
      " |  A class to represent a series RLC circuit.\n",
      " |\n",
      " |  Methods defined here:\n",
      " |\n",
      " |  __init__(self, resistance: float = 1.0, inductance: float = 1.0, capacitance: float = 1.0)\n",
      " |      Initialize the RLC circuit with given resistance, inductance, and capacitance.\n",
      " |\n",
      " |      Parameters:\n",
      " |      Resistance in ohms. Default is 1.0.\n",
      " |      Inductance in henries. Default is 1.0.\n",
      " |      Capacitance in farads. Default is 1.0.\n",
      " |\n",
      " |  __repr__(self) -> str\n",
      " |      Return a string representation of the RLC instance.\n",
      " |\n",
      " |  __str__(self) -> str\n",
      " |      Return a user-friendly string representation of the RLC circuit.\n",
      " |\n",
      " |  current(self, voltage: float) -> float\n",
      " |      Calculate the current in the circuit with a given input voltage.\n",
      " |\n",
      " |      Parameters:\n",
      " |      The input voltage in volts.\n",
      " |\n",
      " |      Returns:\n",
      " |      float: The current in amperes.\n",
      " |\n",
      " |  ----------------------------------------------------------------------\n",
      " |  Class methods defined here:\n",
      " |\n",
      " |  default_RLC()\n",
      " |      Create a default RLC instance with default values.\n",
      " |\n",
      " |  ----------------------------------------------------------------------\n",
      " |  Static methods defined here:\n",
      " |\n",
      " |  series_RLC_from_values(resistance: float, inductance: float, capacitance: float)\n",
      " |      Create an RLC instance from resistance, inductance, and capacitance values.\n",
      " |      Returns:\n",
      " |      RLC: An instance of RLC.\n",
      " |\n",
      " |  ----------------------------------------------------------------------\n",
      " |  Readonly properties defined here:\n",
      " |\n",
      " |  impedance\n",
      " |      Calculate the impedance of the circuit.\n",
      " |\n",
      " |  phase\n",
      " |      Calculate the phase angle of the circuit in radians.\n",
      " |\n",
      " |  power_factor\n",
      " |      Calculate the power factor of the circuit.\n",
      " |\n",
      " |  ----------------------------------------------------------------------\n",
      " |  Data descriptors defined here:\n",
      " |\n",
      " |  __dict__\n",
      " |      dictionary for instance variables\n",
      " |\n",
      " |  __weakref__\n",
      " |      list of weak references to the object\n",
      " |\n",
      " |  capacitance\n",
      " |      Get the capacitance of the circuit.\n",
      " |\n",
      " |  inductance\n",
      " |      Get the inductance of the circuit.\n",
      " |\n",
      " |  resistance\n",
      " |      Get the resistance of the circuit.\n",
      "\n"
     ]
    }
   ],
   "source": [
    "help(RLC)"
   ]
  },
  {
   "cell_type": "markdown",
   "id": "c82764bf",
   "metadata": {},
   "source": [
    "* To Print the doc-string and annotations of both the class and each instance method."
   ]
  },
  {
   "cell_type": "code",
   "execution_count": 42,
   "id": "65988a5d",
   "metadata": {},
   "outputs": [
    {
     "name": "stdout",
     "output_type": "stream",
     "text": [
      "A class to represent a series RLC circuit.\n",
      "Method: __init__, Docstring: \n",
      "        Initialize the RLC circuit with given resistance, inductance, and capacitance.\n",
      "\n",
      "        Parameters:\n",
      "        Resistance in ohms. Default is 1.0.\n",
      "        Inductance in henries. Default is 1.0.\n",
      "        Capacitance in farads. Default is 1.0.\n",
      "        , Annotations: {'resistance': <class 'float'>, 'inductance': <class 'float'>, 'capacitance': <class 'float'>}\n",
      "Method: impedance, Docstring: Calculate the impedance of the circuit., Annotations: {'return': <class 'float'>}\n",
      "Method: phase, Docstring: Calculate the phase angle of the circuit in radians., Annotations: {'return': <class 'float'>}\n",
      "Method: power_factor, Docstring: Calculate the power factor of the circuit., Annotations: {'return': <class 'float'>}\n",
      "Method: series_RLC_from_values, Docstring: \n",
      "        Create an RLC instance from resistance, inductance, and capacitance values.\n",
      "        Returns:\n",
      "        RLC: An instance of RLC.\n",
      "        , Annotations: {'resistance': <class 'float'>, 'inductance': <class 'float'>, 'capacitance': <class 'float'>}\n",
      "Method: __repr__, Docstring: Return a string representation of the RLC instance., Annotations: {'return': <class 'str'>}\n",
      "Method: __str__, Docstring: Return a user-friendly string representation of the RLC circuit., Annotations: {'return': <class 'str'>}\n",
      "Method: default_RLC, Docstring: Create a default RLC instance with default values., Annotations: {}\n"
     ]
    }
   ],
   "source": [
    "print(RLC.__doc__)\n",
    "for method in [\n",
    "    RLC.__init__,\n",
    "    RLC.impedance,\n",
    "    RLC.phase,\n",
    "    RLC.power_factor,\n",
    "    RLC.series_RLC_from_values,\n",
    "    RLC.__repr__,\n",
    "    RLC.__str__,\n",
    "    RLC.default_RLC,\n",
    "]:\n",
    "    if isinstance(method, property):\n",
    "        print(f\"Method: {method.fget.__name__}, Docstring: {method.__doc__}, Annotations: {method.fget.__annotations__}\")\n",
    "    else:\n",
    "        print(f\"Method: {method.__name__}, Docstring: {method.__doc__}, Annotations: {method.__annotations__}\")"
   ]
  },
  {
   "cell_type": "markdown",
   "id": "73dcd272",
   "metadata": {},
   "source": [
    "* To Modify the __init__3 by by making its parameters default and verify by instances."
   ]
  },
  {
   "cell_type": "code",
   "execution_count": 43,
   "id": "02361576",
   "metadata": {},
   "outputs": [
    {
     "name": "stdout",
     "output_type": "stream",
     "text": [
      "RLC Circuit with Resistance: 1.0 ohm,Inductance: 1.0 H, Capacitance: 1.0 F\n"
     ]
    }
   ],
   "source": [
    "inst_3 = RLC() \n",
    "print(inst_3)"
   ]
  },
  {
   "cell_type": "markdown",
   "id": "d2147a61",
   "metadata": {},
   "source": [
    " **Task No 04**"
   ]
  },
  {
   "cell_type": "markdown",
   "id": "9164b30e",
   "metadata": {},
   "source": [
    "***Note:***  *Please make a class for each of the following using the detail procedure from the above tasks*."
   ]
  },
  {
   "cell_type": "markdown",
   "id": "92902572",
   "metadata": {},
   "source": [
    "**Math:**\n",
    "* **Square:** *A four-sided polygon (quadrilateral) with all sides of equal length and all angles equal to 90 degrees.*\n",
    "* **Rectangle:** *A four-sided polygon where opposite sides are equal in length and all angles are equal to 90 degrees.*\n",
    "* **Triangle:** *A three-sided polygon with three edges and three vertices. Various types include equilateral, isosceles, and scalene.*\n",
    "* **Trapezoid:** *(US) / Trapezium (UK): A four-sided figure with at least one pair of parallel sides.*\n",
    "* **Parallelogram:** *A four-sided shape with opposite sides that are equal in length and parallel.*\n",
    "* **Rhombus:** *A parallelogram where all sides are of equal length, but the angles are not necessarily 90 degrees.*\n",
    "* ***These shapes serve as building blocks for more complex forms in geometry and design.***"
   ]
  },
  {
   "cell_type": "markdown",
   "id": "c00f11ce",
   "metadata": {},
   "source": [
    " **1.** ***Square***"
   ]
  },
  {
   "cell_type": "code",
   "execution_count": 44,
   "id": "1d2975c1",
   "metadata": {},
   "outputs": [],
   "source": [
    "class Square:\n",
    "    \"\"\"A class which represent Square: A four-sided polygon (quadrilateral) with all sides of equal length and all angles equal to 90 degrees.\n",
    "    \"\"\"\n",
    "    def __init__(self, side_length: float = 1.0) -> None:\n",
    "        \"\"\" To initiate the class with parameter side_length in  float an default valur (1.0)\n",
    "        \"\"\"\n",
    "        self.side_length = side_length\n",
    "    @property\n",
    "    def side_length(self) -> float:\n",
    "        \"\"\"To get the side length of square\"\"\"\n",
    "        return self._side_length\n",
    "    @side_length.setter\n",
    "    def side_length(self, value: float) -> None:\n",
    "        \"\"\"To set the side length square\"\"\"\n",
    "        self._side_length = value\n",
    "    @property\n",
    "    def area(self) -> float:\n",
    "        \"\"\"To calculate the  area of the square\"\"\"\n",
    "        return self.side_length ** 2\n",
    "    @property\n",
    "    def perimeter(self) -> float:\n",
    "        \"\"\"To calculate the perimeter of the square\"\"\"\n",
    "        return 4 * self.side_length\n",
    "    def __repr__(self) -> str:\n",
    "        \"\"\"Return a string representation of the Square.\"\"\"\n",
    "        return f\"{type(self).__name__}({self.side_length})\"\n",
    "    def __str__(self) -> str:\n",
    "        \"\"\"Return a user-friendly string representation of the Square.\"\"\"\n",
    "        return f\"Square with side length: {self.side_length}\"\n"
   ]
  },
  {
   "cell_type": "code",
   "execution_count": 49,
   "id": "47f13bcb",
   "metadata": {},
   "outputs": [],
   "source": [
    "s_1 = Square(20)\n",
    "s_2= Square(16)"
   ]
  },
  {
   "cell_type": "code",
   "execution_count": 50,
   "id": "e0284c7a",
   "metadata": {},
   "outputs": [
    {
     "name": "stdout",
     "output_type": "stream",
     "text": [
      "Square with side length: 20\n",
      "Square with side length: 16\n"
     ]
    }
   ],
   "source": [
    "print(s_1)\n",
    "print(s_2)"
   ]
  },
  {
   "cell_type": "code",
   "execution_count": 51,
   "id": "2e689d50",
   "metadata": {},
   "outputs": [
    {
     "data": {
      "text/plain": [
       "Square(20)"
      ]
     },
     "execution_count": 51,
     "metadata": {},
     "output_type": "execute_result"
    }
   ],
   "source": [
    "s_1"
   ]
  },
  {
   "cell_type": "code",
   "execution_count": 52,
   "id": "d18faeaf",
   "metadata": {},
   "outputs": [
    {
     "data": {
      "text/plain": [
       "Square(16)"
      ]
     },
     "execution_count": 52,
     "metadata": {},
     "output_type": "execute_result"
    }
   ],
   "source": [
    "s_2"
   ]
  },
  {
   "cell_type": "code",
   "execution_count": 53,
   "id": "cec64ab9",
   "metadata": {},
   "outputs": [
    {
     "name": "stdout",
     "output_type": "stream",
     "text": [
      "mappingproxy({'__dict__': <attribute '__dict__' of 'Square' objects>,\n",
      "              '__doc__': 'A class which represent Square: A four-sided polygon '\n",
      "                         '(quadrilateral) with all sides of equal length and '\n",
      "                         'all angles equal to 90 degrees.\\n'\n",
      "                         '    ',\n",
      "              '__init__': <function Square.__init__ at 0x0000024510AE1440>,\n",
      "              '__module__': '__main__',\n",
      "              '__repr__': <function Square.__repr__ at 0x0000024510AE1B20>,\n",
      "              '__str__': <function Square.__str__ at 0x0000024510AE1BC0>,\n",
      "              '__weakref__': <attribute '__weakref__' of 'Square' objects>,\n",
      "              'area': <property object at 0x0000024510AF2570>,\n",
      "              'perimeter': <property object at 0x0000024510B12930>,\n",
      "              'side_length': <property object at 0x0000024510B13100>})\n"
     ]
    }
   ],
   "source": [
    "from pprint import pprint\n",
    "pprint(Square.__dict__)"
   ]
  },
  {
   "cell_type": "code",
   "execution_count": 54,
   "id": "4765cc0e",
   "metadata": {},
   "outputs": [
    {
     "name": "stdout",
     "output_type": "stream",
     "text": [
      "mappingproxy({'__dict__': <attribute '__dict__' of 'Square' objects>,\n",
      "              '__doc__': 'A class which represent Square: A four-sided polygon '\n",
      "                         '(quadrilateral) with all sides of equal length and '\n",
      "                         'all angles equal to 90 degrees.\\n'\n",
      "                         '    ',\n",
      "              '__init__': <function Square.__init__ at 0x0000024510AE1440>,\n",
      "              '__module__': '__main__',\n",
      "              '__repr__': <function Square.__repr__ at 0x0000024510AE1B20>,\n",
      "              '__str__': <function Square.__str__ at 0x0000024510AE1BC0>,\n",
      "              '__weakref__': <attribute '__weakref__' of 'Square' objects>,\n",
      "              'area': <property object at 0x0000024510AF2570>,\n",
      "              'perimeter': <property object at 0x0000024510B12930>,\n",
      "              'side_length': <property object at 0x0000024510B13100>})\n"
     ]
    }
   ],
   "source": [
    "pprint(vars(Square))"
   ]
  },
  {
   "cell_type": "code",
   "execution_count": 55,
   "id": "53941de1",
   "metadata": {},
   "outputs": [
    {
     "name": "stdout",
     "output_type": "stream",
     "text": [
      "{'_side_length': 20}\n",
      "{'_side_length': 16}\n"
     ]
    }
   ],
   "source": [
    "print(s_1.__dict__)\n",
    "print(s_2.__dict__)"
   ]
  },
  {
   "cell_type": "code",
   "execution_count": 56,
   "id": "cbf16979",
   "metadata": {},
   "outputs": [
    {
     "name": "stdout",
     "output_type": "stream",
     "text": [
      "Help on class Square in module __main__:\n",
      "\n",
      "class Square(builtins.object)\n",
      " |  Square(side_length: float = 1.0) -> None\n",
      " |\n",
      " |  A class which represent Square: A four-sided polygon (quadrilateral) with all sides of equal length and all angles equal to 90 degrees.\n",
      " |\n",
      " |  Methods defined here:\n",
      " |\n",
      " |  __init__(self, side_length: float = 1.0) -> None\n",
      " |      To initiate the class with parameter side_length in  float an default valur (1.0)\n",
      " |\n",
      " |  __repr__(self) -> str\n",
      " |      Return a string representation of the Square.\n",
      " |\n",
      " |  __str__(self) -> str\n",
      " |      Return a user-friendly string representation of the Square.\n",
      " |\n",
      " |  ----------------------------------------------------------------------\n",
      " |  Readonly properties defined here:\n",
      " |\n",
      " |  area\n",
      " |      To calculate the  area of the square\n",
      " |\n",
      " |  perimeter\n",
      " |      To calculate the perimeter of the square\n",
      " |\n",
      " |  ----------------------------------------------------------------------\n",
      " |  Data descriptors defined here:\n",
      " |\n",
      " |  __dict__\n",
      " |      dictionary for instance variables\n",
      " |\n",
      " |  __weakref__\n",
      " |      list of weak references to the object\n",
      " |\n",
      " |  side_length\n",
      " |      To get the side length of square\n",
      "\n"
     ]
    }
   ],
   "source": [
    "help(Square)"
   ]
  },
  {
   "cell_type": "code",
   "execution_count": 57,
   "id": "90cb6caf",
   "metadata": {},
   "outputs": [
    {
     "name": "stdout",
     "output_type": "stream",
     "text": [
      "A class which represent Square: A four-sided polygon (quadrilateral) with all sides of equal length and all angles equal to 90 degrees.\n",
      "    \n",
      "Method: __init__, Docstring:  To initiate the class with parameter side_length in  float an default valur (1.0)\n",
      "        , Annotations: {'side_length': <class 'float'>, 'return': None}\n",
      "Method: area, Docstring: To calculate the  area of the square, Annotations: {'return': <class 'float'>}\n",
      "Method: perimeter, Docstring: To calculate the perimeter of the square, Annotations: {'return': <class 'float'>}\n",
      "Method: __repr__, Docstring: Return a string representation of the Square., Annotations: {'return': <class 'str'>}\n",
      "Method: __str__, Docstring: Return a user-friendly string representation of the Square., Annotations: {'return': <class 'str'>}\n"
     ]
    }
   ],
   "source": [
    "print(Square.__doc__)\n",
    "for method in [\n",
    "    Square.__init__,\n",
    "    Square.area,\n",
    "    Square.perimeter,\n",
    "    Square.__repr__,\n",
    "    Square.__str__,\n",
    "]:\n",
    "    if isinstance(method, property):\n",
    "        print(f\"Method: {method.fget.__name__}, Docstring: {method.__doc__}, Annotations: {method.fget.__annotations__}\")\n",
    "    else:\n",
    "        print(f\"Method: {method.__name__}, Docstring: {method.__doc__}, Annotations: {method.__annotations__}\")"
   ]
  },
  {
   "cell_type": "code",
   "execution_count": 58,
   "id": "32faacff",
   "metadata": {},
   "outputs": [],
   "source": [
    "s_3 = Square()"
   ]
  },
  {
   "cell_type": "code",
   "execution_count": 59,
   "id": "d66d72e0",
   "metadata": {},
   "outputs": [
    {
     "name": "stdout",
     "output_type": "stream",
     "text": [
      "Square with side length: 1.0\n"
     ]
    },
    {
     "data": {
      "text/plain": [
       "Square(1.0)"
      ]
     },
     "execution_count": 59,
     "metadata": {},
     "output_type": "execute_result"
    }
   ],
   "source": [
    "print(s_3)\n",
    "s_3"
   ]
  },
  {
   "cell_type": "markdown",
   "id": "f2a1181a",
   "metadata": {},
   "source": [
    "**2.** ***Rectangle***"
   ]
  },
  {
   "cell_type": "code",
   "execution_count": 60,
   "id": "9d4443d3",
   "metadata": {},
   "outputs": [],
   "source": [
    "class Rectangle:\n",
    "    \"\"\"A class which represent Rectangle: A four-sided polygon where opposite sides are equal in length and all angles are equal to 90 degrees.\"\"\"\n",
    "    def __init__(self, width: float = 1.0, height: float = 1.0) -> None:\n",
    "        \"\"\"initiate the class with parameters and its default values\"\"\"\n",
    "        self.width = width\n",
    "        self.height = height\n",
    "    @property\n",
    "    def width(self) -> float:\n",
    "        \"\"\"To get the width of the Rectangle\"\"\"\n",
    "        return self._width\n",
    "    @width.setter\n",
    "    def width(self, value: float) -> None:\n",
    "        \"\"\"To set the width of the Rectangle\"\"\"\n",
    "\n",
    "        self._width = value\n",
    "    @property\n",
    "    def height(self) -> float:\n",
    "        \"\"\"To get the heigth of Rectangle\"\"\"\n",
    "        return self._height\n",
    "    @height.setter\n",
    "    def height(self, value: float) -> None:\n",
    "        \"\"\"To get the heigth of Rectangle\"\"\"\n",
    "        self._height = value\n",
    "    @property\n",
    "    def area(self) -> float:\n",
    "        \"\"\"To calculate the area of the Rectangle\"\"\"\n",
    "        return self.width * self.height\n",
    "    @property\n",
    "    def perimeter(self) -> float:\n",
    "        \"\"\"To calculate the perimeter of the square\"\"\"\n",
    "        return 2 * (self.width + self.height)\n",
    "\n",
    "    def __repr__(self) -> str:\n",
    "        \"\"\"Return a string representation of the Square\"\"\"\n",
    "        return f\"{type(self).__name__}({self.width}, height={self.height})\"\n",
    "\n",
    "    def __str__(self) -> str:\n",
    "        \"\"\"Return a use-friendly representation of the Squared\"\"\"\n",
    "        return f\"Rectangle with width: {self.width}, height: {self.height}, area: {self.area}, perimeter: {self.perimeter}\"\n"
   ]
  },
  {
   "cell_type": "code",
   "execution_count": 61,
   "id": "aa78b650",
   "metadata": {},
   "outputs": [],
   "source": [
    "R_1 = Rectangle(10, 2)\n",
    "R_2 = Rectangle(5, 9)"
   ]
  },
  {
   "cell_type": "code",
   "execution_count": 62,
   "id": "5934f708",
   "metadata": {},
   "outputs": [
    {
     "name": "stdout",
     "output_type": "stream",
     "text": [
      "Rectangle with width: 10, height: 2, area: 20, perimeter: 24\n",
      "Rectangle with width: 5, height: 9, area: 45, perimeter: 28\n"
     ]
    }
   ],
   "source": [
    "print(R_1)\n",
    "print(R_2)"
   ]
  },
  {
   "cell_type": "code",
   "execution_count": 63,
   "id": "6f29c2b6",
   "metadata": {},
   "outputs": [
    {
     "data": {
      "text/plain": [
       "Rectangle(10, height=2)"
      ]
     },
     "execution_count": 63,
     "metadata": {},
     "output_type": "execute_result"
    }
   ],
   "source": [
    "R_1"
   ]
  },
  {
   "cell_type": "code",
   "execution_count": 64,
   "id": "0de6d01c",
   "metadata": {},
   "outputs": [
    {
     "data": {
      "text/plain": [
       "Rectangle(5, height=9)"
      ]
     },
     "execution_count": 64,
     "metadata": {},
     "output_type": "execute_result"
    }
   ],
   "source": [
    "R_2"
   ]
  },
  {
   "cell_type": "code",
   "execution_count": 65,
   "id": "5c7e02ee",
   "metadata": {},
   "outputs": [
    {
     "name": "stdout",
     "output_type": "stream",
     "text": [
      "mappingproxy({'__dict__': <attribute '__dict__' of 'Rectangle' objects>,\n",
      "              '__doc__': 'A class which represent Rectangle: A four-sided '\n",
      "                         'polygon where opposite sides are equal in length and '\n",
      "                         'all angles are equal to 90 degrees.',\n",
      "              '__init__': <function Rectangle.__init__ at 0x0000024510AE1F80>,\n",
      "              '__module__': '__main__',\n",
      "              '__repr__': <function Rectangle.__repr__ at 0x0000024510AE2520>,\n",
      "              '__str__': <function Rectangle.__str__ at 0x0000024510AE25C0>,\n",
      "              '__weakref__': <attribute '__weakref__' of 'Rectangle' objects>,\n",
      "              'area': <property object at 0x0000024510B12F70>,\n",
      "              'height': <property object at 0x0000024510B20270>,\n",
      "              'perimeter': <property object at 0x0000024510B12D40>,\n",
      "              'width': <property object at 0x0000024510B11D00>})\n"
     ]
    }
   ],
   "source": [
    "from pprint import pprint\n",
    "pprint(Rectangle.__dict__)"
   ]
  },
  {
   "cell_type": "code",
   "execution_count": 66,
   "id": "f0269aac",
   "metadata": {},
   "outputs": [
    {
     "name": "stdout",
     "output_type": "stream",
     "text": [
      "mappingproxy({'__dict__': <attribute '__dict__' of 'Rectangle' objects>,\n",
      "              '__doc__': 'A class which represent Rectangle: A four-sided '\n",
      "                         'polygon where opposite sides are equal in length and '\n",
      "                         'all angles are equal to 90 degrees.',\n",
      "              '__init__': <function Rectangle.__init__ at 0x0000024510AE1F80>,\n",
      "              '__module__': '__main__',\n",
      "              '__repr__': <function Rectangle.__repr__ at 0x0000024510AE2520>,\n",
      "              '__str__': <function Rectangle.__str__ at 0x0000024510AE25C0>,\n",
      "              '__weakref__': <attribute '__weakref__' of 'Rectangle' objects>,\n",
      "              'area': <property object at 0x0000024510B12F70>,\n",
      "              'height': <property object at 0x0000024510B20270>,\n",
      "              'perimeter': <property object at 0x0000024510B12D40>,\n",
      "              'width': <property object at 0x0000024510B11D00>})\n"
     ]
    }
   ],
   "source": [
    "pprint(vars(Rectangle))"
   ]
  },
  {
   "cell_type": "code",
   "execution_count": 67,
   "id": "6eca0922",
   "metadata": {},
   "outputs": [
    {
     "name": "stdout",
     "output_type": "stream",
     "text": [
      "{'_width': 10, '_height': 2}\n",
      "{'_width': 5, '_height': 9}\n"
     ]
    }
   ],
   "source": [
    "print(R_1.__dict__)\n",
    "print(R_2.__dict__)"
   ]
  },
  {
   "cell_type": "code",
   "execution_count": 68,
   "id": "e4f82f55",
   "metadata": {},
   "outputs": [
    {
     "name": "stdout",
     "output_type": "stream",
     "text": [
      "Help on class Rectangle in module __main__:\n",
      "\n",
      "class Rectangle(builtins.object)\n",
      " |  Rectangle(width: float = 1.0, height: float = 1.0) -> None\n",
      " |\n",
      " |  A class which represent Rectangle: A four-sided polygon where opposite sides are equal in length and all angles are equal to 90 degrees.\n",
      " |\n",
      " |  Methods defined here:\n",
      " |\n",
      " |  __init__(self, width: float = 1.0, height: float = 1.0) -> None\n",
      " |      initiate the class with parameters and its default values\n",
      " |\n",
      " |  __repr__(self) -> str\n",
      " |      Return a string representation of the Square\n",
      " |\n",
      " |  __str__(self) -> str\n",
      " |      Return a use-friendly representation of the Squared\n",
      " |\n",
      " |  ----------------------------------------------------------------------\n",
      " |  Readonly properties defined here:\n",
      " |\n",
      " |  area\n",
      " |      To calculate the area of the Rectangle\n",
      " |\n",
      " |  perimeter\n",
      " |      To calculate the perimeter of the square\n",
      " |\n",
      " |  ----------------------------------------------------------------------\n",
      " |  Data descriptors defined here:\n",
      " |\n",
      " |  __dict__\n",
      " |      dictionary for instance variables\n",
      " |\n",
      " |  __weakref__\n",
      " |      list of weak references to the object\n",
      " |\n",
      " |  height\n",
      " |      To get the heigth of Rectangle\n",
      " |\n",
      " |  width\n",
      " |      To get the width of the Rectangle\n",
      "\n"
     ]
    }
   ],
   "source": [
    "help(Rectangle)"
   ]
  },
  {
   "cell_type": "code",
   "execution_count": 69,
   "id": "2eb76bc8",
   "metadata": {},
   "outputs": [
    {
     "name": "stdout",
     "output_type": "stream",
     "text": [
      "A class which represent Rectangle: A four-sided polygon where opposite sides are equal in length and all angles are equal to 90 degrees.\n",
      "Method: __init__,   Docstring: initiate the class with parameters and its default values,   Annotations: {'width': <class 'float'>, 'height': <class 'float'>, 'return': None}\n",
      "Method: area,    Docstring: To calculate the area of the Rectangle,     Annotations: {'return': <class 'float'>}\n",
      "Method: perimeter,    Docstring: To calculate the perimeter of the square,     Annotations: {'return': <class 'float'>}\n",
      "Method: __repr__,   Docstring: Return a string representation of the Square,   Annotations: {'return': <class 'str'>}\n",
      "Method: __str__,   Docstring: Return a use-friendly representation of the Squared,   Annotations: {'return': <class 'str'>}\n"
     ]
    }
   ],
   "source": [
    "print(Rectangle.__doc__)\n",
    "for method in [\n",
    "    Rectangle.__init__,\n",
    "    Rectangle.area,\n",
    "    Rectangle.perimeter,\n",
    "    Rectangle.__repr__,\n",
    "    Rectangle.__str__,\n",
    "]:\n",
    "    if isinstance(method, property):\n",
    "        print(f\"Method: {method.fget.__name__},    Docstring: {method.__doc__},     Annotations: {method.fget.__annotations__}\")\n",
    "    else:\n",
    "        print(f\"Method: {method.__name__},   Docstring: {method.__doc__},   Annotations: {method.__annotations__}\")"
   ]
  },
  {
   "cell_type": "code",
   "execution_count": 70,
   "id": "ef9cdb6d",
   "metadata": {},
   "outputs": [
    {
     "name": "stdout",
     "output_type": "stream",
     "text": [
      "Rectangle with width: 1.0, height: 1.0, area: 1.0, perimeter: 4.0\n"
     ]
    },
    {
     "data": {
      "text/plain": [
       "Rectangle(1.0, height=1.0)"
      ]
     },
     "execution_count": 70,
     "metadata": {},
     "output_type": "execute_result"
    }
   ],
   "source": [
    "R_3 = Rectangle()\n",
    "print(R_3)\n",
    "R_3"
   ]
  },
  {
   "cell_type": "markdown",
   "id": "fd021ac2",
   "metadata": {},
   "source": [
    " **3:** ***Triangle***"
   ]
  },
  {
   "cell_type": "code",
   "execution_count": 71,
   "id": "1ff2212e",
   "metadata": {},
   "outputs": [],
   "source": [
    "import math\n",
    "class Triangle:\n",
    "    \"\"\"A class which represent Triangle: A three-sided polygon with three edges and three vertices. Various types include equilateral, isosceles, and scalene.\"\"\"\n",
    "    def __init__(self, a: float = 1.0, b: float = 1.0, c: float = 1.0) -> None:\n",
    "        \"\"\"To initiate the class (Triangle) and the given parameters with  default value\"\"\"\n",
    "        self.a = a\n",
    "        self.b = b\n",
    "        self.c = c\n",
    "\n",
    "    @property\n",
    "    def a(self) -> float:\n",
    "        \"\"\"To get the a side of the Triangle\"\"\"\n",
    "        return self._a\n",
    "\n",
    "    @a.setter\n",
    "    def a(self, value: float) -> None:\n",
    "        \"\"\"To set the a side of  the Triangle\"\"\"\n",
    "        self._a = value\n",
    "\n",
    "    @property\n",
    "    def b(self) -> float:\n",
    "        \"\"\"To get the b side of the Triangle\"\"\"\n",
    "        return self._b\n",
    "\n",
    "    @b.setter\n",
    "    def b(self, value: float) -> None:\n",
    "        \"\"\"To set the b side of the Triangle\"\"\"\n",
    "        self._b = value\n",
    "\n",
    "    @property\n",
    "    def c(self) -> float:\n",
    "        \"\"\"To  get the c side of the Triangle\"\"\"\n",
    "        return self._c\n",
    "\n",
    "    @c.setter\n",
    "    def c(self, value: float) -> None:\n",
    "        \"\"\"To set the c side of the Triangle\"\"\"\n",
    "        self._c = value\n",
    "\n",
    "    @property\n",
    "    def area(self) -> float:\n",
    "        \"\"\"To calculate the area of the Triangle\"\"\"\n",
    "        s = (self.a + self.b + self.c) / 2\n",
    "        return math.sqrt(s * (s - self.a) * (s - self.b) * (s - self.c))\n",
    "\n",
    "    @property\n",
    "    def perimeter(self) -> float:\n",
    "        \"\"\"To calculate the perimeter of the  Triangle\"\"\"\n",
    "        return self.a + self.b + self.c\n",
    "\n",
    "    def __repr__(self) -> str:\n",
    "        \"\"\"Return a string representation of the Triangle \"\"\"\n",
    "        return f\"{type(self).__name__}(a={self.a}, b={self.b}, c={self.c})\"\n",
    "\n",
    "    def __str__(self) -> str:\n",
    "        \"\"\"Return a use-friendly  representation of the Triangle\"\"\"\n",
    "        return (f\"Triangle with sides: a={self.a}, b={self.b}, c={self.c}\")\n"
   ]
  },
  {
   "cell_type": "code",
   "execution_count": 72,
   "id": "4b411022",
   "metadata": {},
   "outputs": [],
   "source": [
    "T_1= Triangle(6, 8, 2)\n",
    "T_2 = Triangle( 6, 3, 7)"
   ]
  },
  {
   "cell_type": "code",
   "execution_count": 73,
   "id": "20787cad",
   "metadata": {},
   "outputs": [
    {
     "name": "stdout",
     "output_type": "stream",
     "text": [
      "Triangle with sides: a=6, b=8, c=2\n",
      "Triangle with sides: a=6, b=3, c=7\n"
     ]
    }
   ],
   "source": [
    "print(T_1)\n",
    "print(T_2)"
   ]
  },
  {
   "cell_type": "code",
   "execution_count": 74,
   "id": "d778e8fd",
   "metadata": {},
   "outputs": [
    {
     "data": {
      "text/plain": [
       "Triangle(a=6, b=8, c=2)"
      ]
     },
     "execution_count": 74,
     "metadata": {},
     "output_type": "execute_result"
    }
   ],
   "source": [
    "T_1"
   ]
  },
  {
   "cell_type": "code",
   "execution_count": 75,
   "id": "9bfd04cb",
   "metadata": {},
   "outputs": [
    {
     "data": {
      "text/plain": [
       "Triangle(a=6, b=3, c=7)"
      ]
     },
     "execution_count": 75,
     "metadata": {},
     "output_type": "execute_result"
    }
   ],
   "source": [
    "T_2"
   ]
  },
  {
   "cell_type": "code",
   "execution_count": 76,
   "id": "8ed7e3aa",
   "metadata": {},
   "outputs": [
    {
     "name": "stdout",
     "output_type": "stream",
     "text": [
      "mappingproxy({'__dict__': <attribute '__dict__' of 'Triangle' objects>,\n",
      "              '__doc__': 'A class which represent Triangle: A three-sided '\n",
      "                         'polygon with three edges and three vertices. Various '\n",
      "                         'types include equilateral, isosceles, and scalene.',\n",
      "              '__init__': <function Triangle.__init__ at 0x0000024510AE1DA0>,\n",
      "              '__module__': '__main__',\n",
      "              '__repr__': <function Triangle.__repr__ at 0x0000024510AE2A20>,\n",
      "              '__str__': <function Triangle.__str__ at 0x0000024510AE2980>,\n",
      "              '__weakref__': <attribute '__weakref__' of 'Triangle' objects>,\n",
      "              'a': <property object at 0x0000024510B11C60>,\n",
      "              'area': <property object at 0x0000024510B135B0>,\n",
      "              'b': <property object at 0x0000024510B128E0>,\n",
      "              'c': <property object at 0x0000024510B12840>,\n",
      "              'perimeter': <property object at 0x0000024510B11530>})\n"
     ]
    }
   ],
   "source": [
    "from pprint import pprint\n",
    "pprint(Triangle.__dict__)"
   ]
  },
  {
   "cell_type": "code",
   "execution_count": 77,
   "id": "b5d1cd90",
   "metadata": {},
   "outputs": [
    {
     "name": "stdout",
     "output_type": "stream",
     "text": [
      "mappingproxy({'__dict__': <attribute '__dict__' of 'Triangle' objects>,\n",
      "              '__doc__': 'A class which represent Triangle: A three-sided '\n",
      "                         'polygon with three edges and three vertices. Various '\n",
      "                         'types include equilateral, isosceles, and scalene.',\n",
      "              '__init__': <function Triangle.__init__ at 0x0000024510AE1DA0>,\n",
      "              '__module__': '__main__',\n",
      "              '__repr__': <function Triangle.__repr__ at 0x0000024510AE2A20>,\n",
      "              '__str__': <function Triangle.__str__ at 0x0000024510AE2980>,\n",
      "              '__weakref__': <attribute '__weakref__' of 'Triangle' objects>,\n",
      "              'a': <property object at 0x0000024510B11C60>,\n",
      "              'area': <property object at 0x0000024510B135B0>,\n",
      "              'b': <property object at 0x0000024510B128E0>,\n",
      "              'c': <property object at 0x0000024510B12840>,\n",
      "              'perimeter': <property object at 0x0000024510B11530>})\n"
     ]
    }
   ],
   "source": [
    "pprint(vars(Triangle))"
   ]
  },
  {
   "cell_type": "code",
   "execution_count": 78,
   "id": "dbd3cf18",
   "metadata": {},
   "outputs": [
    {
     "name": "stdout",
     "output_type": "stream",
     "text": [
      "{'_a': 6, '_b': 8, '_c': 2}\n",
      "{'_a': 6, '_b': 3, '_c': 7}\n"
     ]
    }
   ],
   "source": [
    "print(T_1.__dict__)\n",
    "print(T_2.__dict__)"
   ]
  },
  {
   "cell_type": "code",
   "execution_count": 79,
   "id": "bd407cf9",
   "metadata": {},
   "outputs": [
    {
     "name": "stdout",
     "output_type": "stream",
     "text": [
      "Help on class Triangle in module __main__:\n",
      "\n",
      "class Triangle(builtins.object)\n",
      " |  Triangle(a: float = 1.0, b: float = 1.0, c: float = 1.0) -> None\n",
      " |\n",
      " |  A class which represent Triangle: A three-sided polygon with three edges and three vertices. Various types include equilateral, isosceles, and scalene.\n",
      " |\n",
      " |  Methods defined here:\n",
      " |\n",
      " |  __init__(self, a: float = 1.0, b: float = 1.0, c: float = 1.0) -> None\n",
      " |      To initiate the class (Triangle) and the given parameters with  default value\n",
      " |\n",
      " |  __repr__(self) -> str\n",
      " |      Return a string representation of the Triangle\n",
      " |\n",
      " |  __str__(self) -> str\n",
      " |      Return a use-friendly  representation of the Triangle\n",
      " |\n",
      " |  ----------------------------------------------------------------------\n",
      " |  Readonly properties defined here:\n",
      " |\n",
      " |  area\n",
      " |      To calculate the area of the Triangle\n",
      " |\n",
      " |  perimeter\n",
      " |      To calculate the perimeter of the  Triangle\n",
      " |\n",
      " |  ----------------------------------------------------------------------\n",
      " |  Data descriptors defined here:\n",
      " |\n",
      " |  __dict__\n",
      " |      dictionary for instance variables\n",
      " |\n",
      " |  __weakref__\n",
      " |      list of weak references to the object\n",
      " |\n",
      " |  a\n",
      " |      To get the a side of the Triangle\n",
      " |\n",
      " |  b\n",
      " |      To get the b side of the Triangle\n",
      " |\n",
      " |  c\n",
      " |      To  get the c side of the Triangle\n",
      "\n"
     ]
    }
   ],
   "source": [
    "help(Triangle)"
   ]
  },
  {
   "cell_type": "code",
   "execution_count": 80,
   "id": "128fee09",
   "metadata": {},
   "outputs": [
    {
     "name": "stdout",
     "output_type": "stream",
     "text": [
      "A class which represent Triangle: A three-sided polygon with three edges and three vertices. Various types include equilateral, isosceles, and scalene.\n",
      "Method: __init__,   Docstring: To initiate the class (Triangle) and the given parameters with  default value,   Annotations: {'a': <class 'float'>, 'b': <class 'float'>, 'c': <class 'float'>, 'return': None}\n",
      "Method: area,   Docstring: To calculate the area of the Triangle,   Annotations: {'return': <class 'float'>}\n",
      "Method: perimeter,   Docstring: To calculate the perimeter of the  Triangle,   Annotations: {'return': <class 'float'>}\n",
      "Method: __repr__,   Docstring: Return a string representation of the Triangle ,   Annotations: {'return': <class 'str'>}\n",
      "Method: __str__,   Docstring: Return a use-friendly  representation of the Triangle,   Annotations: {'return': <class 'str'>}\n"
     ]
    }
   ],
   "source": [
    "print(Triangle.__doc__)\n",
    "for method in [\n",
    "    Triangle.__init__,\n",
    "    Triangle.area,\n",
    "    Triangle.perimeter,\n",
    "    Triangle.__repr__,\n",
    "    Triangle.__str__,\n",
    "]:\n",
    "    if isinstance(method, property):\n",
    "        print(f\"Method: {method.fget.__name__},   Docstring: {method.__doc__},   Annotations: {method.fget.__annotations__}\")\n",
    "    else:\n",
    "        print(f\"Method: {method.__name__},   Docstring: {method.__doc__},   Annotations: {method.__annotations__}\")"
   ]
  },
  {
   "cell_type": "code",
   "execution_count": 81,
   "id": "436f1fa8",
   "metadata": {},
   "outputs": [
    {
     "name": "stdout",
     "output_type": "stream",
     "text": [
      "Triangle with sides: a=1.0, b=1.0, c=1.0\n"
     ]
    },
    {
     "data": {
      "text/plain": [
       "Triangle(a=1.0, b=1.0, c=1.0)"
      ]
     },
     "execution_count": 81,
     "metadata": {},
     "output_type": "execute_result"
    }
   ],
   "source": [
    "T_3 = Triangle()\n",
    "print(T_3)\n",
    "T_3"
   ]
  },
  {
   "cell_type": "markdown",
   "id": "b40fd5f3",
   "metadata": {},
   "source": [
    "**4.** ***Trapezoid***"
   ]
  },
  {
   "cell_type": "code",
   "execution_count": 82,
   "id": "91ac79d4",
   "metadata": {},
   "outputs": [],
   "source": [
    "class Trapezoid:\n",
    "    \"\"\"A class which represent Trapezoid: A four-sided figure with at least one pair of parallel sides.\"\"\"\n",
    "    def __init__(self, base1: float = 1.0, base2: float = 1.0, height: float = 1.0) -> None:\n",
    "        \"\"\"To innitiate the class with given parameters\"\"\"\n",
    "        self.base1 = base1\n",
    "        self.base2 = base2\n",
    "        self.height = height\n",
    "\n",
    "    @property\n",
    "    def base1(self) -> float:\n",
    "        \"\"\"To get the base1 of the Trapezoid\"\"\"\n",
    "        return self._base1\n",
    "\n",
    "    @base1.setter\n",
    "    def base1(self, value: float) -> None:\n",
    "        \"\"\"To set the base1 of the Trapezoid\"\"\"\n",
    "        self._base1 = value\n",
    "\n",
    "    @property\n",
    "    def base2(self) -> float:\n",
    "        \"\"\"To get the base2 of the Trapezoid\"\"\"\n",
    "        return self._base2\n",
    "\n",
    "    @base2.setter\n",
    "    def base2(self, value: float) -> None:\n",
    "        \"\"\"To set the base2 of the Trapezoid\"\"\"\n",
    "        self._base2 = value\n",
    "\n",
    "    @property\n",
    "    def height(self) -> float:\n",
    "        \"\"\"To get the heigth of the Trapezoid\"\"\"\n",
    "        return self._height\n",
    "\n",
    "    @height.setter\n",
    "    def height(self, value: float) -> None:\n",
    "        \"\"\"To set the heigth of the Trapezoid\"\"\"\n",
    "        self._height = value\n",
    "\n",
    "    @property\n",
    "    def area(self) -> float:\n",
    "        \"\"\"To calculate the area of the Trapezoid\"\"\"\n",
    "        return (self.base1 + self.base2) * self.height / 2\n",
    "\n",
    "    @property\n",
    "    def perimeter(self) -> float:\n",
    "        \"\"\"To calculate the perimeter of the Trapezoid\"\"\"\n",
    "        raise NotImplementedError(\"Perimeter calculation requires lengths of non-parallel sides.\")\n",
    "\n",
    "    def __repr__(self) -> str:\n",
    "        \"\"\"Return the string  Representation of the Trapezoid\"\"\"\n",
    "        return f\"{type(self).__name__}(base1={self.base1}, base2={self.base2}, height={self.height})\"\n",
    "\n",
    "    def __str__(self) -> str:\n",
    "        \"\"\"Return the user_friendly  Representation  of  the Trapezoid\"\"\"\n",
    "        return (f\"Trapezoid with base1: {self.base1}, base2: {self.base2}\")\n"
   ]
  },
  {
   "cell_type": "code",
   "execution_count": 83,
   "id": "6a4d7a54",
   "metadata": {},
   "outputs": [],
   "source": [
    "tr_1 = Trapezoid(4, 2, 8)\n",
    "tr_2 = Trapezoid(9, 7, 1)"
   ]
  },
  {
   "cell_type": "code",
   "execution_count": 84,
   "id": "4859ae82",
   "metadata": {},
   "outputs": [
    {
     "name": "stdout",
     "output_type": "stream",
     "text": [
      "Trapezoid with base1: 4, base2: 2\n",
      "Trapezoid with base1: 9, base2: 7\n"
     ]
    }
   ],
   "source": [
    "print(tr_1)\n",
    "print(tr_2)"
   ]
  },
  {
   "cell_type": "code",
   "execution_count": 85,
   "id": "1b1c94dd",
   "metadata": {},
   "outputs": [
    {
     "data": {
      "text/plain": [
       "Trapezoid(base1=4, base2=2, height=8)"
      ]
     },
     "execution_count": 85,
     "metadata": {},
     "output_type": "execute_result"
    }
   ],
   "source": [
    "tr_1"
   ]
  },
  {
   "cell_type": "code",
   "execution_count": 86,
   "id": "72692e99",
   "metadata": {},
   "outputs": [
    {
     "data": {
      "text/plain": [
       "Trapezoid(base1=9, base2=7, height=1)"
      ]
     },
     "execution_count": 86,
     "metadata": {},
     "output_type": "execute_result"
    }
   ],
   "source": [
    "tr_2"
   ]
  },
  {
   "cell_type": "code",
   "execution_count": 87,
   "id": "b999732a",
   "metadata": {},
   "outputs": [
    {
     "name": "stdout",
     "output_type": "stream",
     "text": [
      "mappingproxy({'__dict__': <attribute '__dict__' of 'Trapezoid' objects>,\n",
      "              '__doc__': 'A class which represent Trapezoid: A four-sided '\n",
      "                         'figure with at least one pair of parallel sides.',\n",
      "              '__init__': <function Trapezoid.__init__ at 0x0000024510AE2C00>,\n",
      "              '__module__': '__main__',\n",
      "              '__repr__': <function Trapezoid.__repr__ at 0x0000024510AE3420>,\n",
      "              '__str__': <function Trapezoid.__str__ at 0x0000024510AE34C0>,\n",
      "              '__weakref__': <attribute '__weakref__' of 'Trapezoid' objects>,\n",
      "              'area': <property object at 0x0000024510B22FC0>,\n",
      "              'base1': <property object at 0x0000024510B210D0>,\n",
      "              'base2': <property object at 0x0000024510B231A0>,\n",
      "              'height': <property object at 0x0000024510B22CA0>,\n",
      "              'perimeter': <property object at 0x0000024510B22AC0>})\n"
     ]
    }
   ],
   "source": [
    "from pprint import pprint\n",
    "pprint(Trapezoid.__dict__)"
   ]
  },
  {
   "cell_type": "code",
   "execution_count": 88,
   "id": "9ee4ee11",
   "metadata": {},
   "outputs": [
    {
     "name": "stdout",
     "output_type": "stream",
     "text": [
      "mappingproxy({'__dict__': <attribute '__dict__' of 'Trapezoid' objects>,\n",
      "              '__doc__': 'A class which represent Trapezoid: A four-sided '\n",
      "                         'figure with at least one pair of parallel sides.',\n",
      "              '__init__': <function Trapezoid.__init__ at 0x0000024510AE2C00>,\n",
      "              '__module__': '__main__',\n",
      "              '__repr__': <function Trapezoid.__repr__ at 0x0000024510AE3420>,\n",
      "              '__str__': <function Trapezoid.__str__ at 0x0000024510AE34C0>,\n",
      "              '__weakref__': <attribute '__weakref__' of 'Trapezoid' objects>,\n",
      "              'area': <property object at 0x0000024510B22FC0>,\n",
      "              'base1': <property object at 0x0000024510B210D0>,\n",
      "              'base2': <property object at 0x0000024510B231A0>,\n",
      "              'height': <property object at 0x0000024510B22CA0>,\n",
      "              'perimeter': <property object at 0x0000024510B22AC0>})\n"
     ]
    }
   ],
   "source": [
    "pprint(vars(Trapezoid))"
   ]
  },
  {
   "cell_type": "code",
   "execution_count": 89,
   "id": "4c0b6699",
   "metadata": {},
   "outputs": [
    {
     "name": "stdout",
     "output_type": "stream",
     "text": [
      "{'_base1': 4, '_base2': 2, '_height': 8}\n",
      "{'_base1': 9, '_base2': 7, '_height': 1}\n"
     ]
    }
   ],
   "source": [
    "print(tr_1.__dict__)\n",
    "print(tr_2.__dict__)"
   ]
  },
  {
   "cell_type": "code",
   "execution_count": 90,
   "id": "ed849f09",
   "metadata": {},
   "outputs": [
    {
     "name": "stdout",
     "output_type": "stream",
     "text": [
      "Help on class Trapezoid in module __main__:\n",
      "\n",
      "class Trapezoid(builtins.object)\n",
      " |  Trapezoid(base1: float = 1.0, base2: float = 1.0, height: float = 1.0) -> None\n",
      " |\n",
      " |  A class which represent Trapezoid: A four-sided figure with at least one pair of parallel sides.\n",
      " |\n",
      " |  Methods defined here:\n",
      " |\n",
      " |  __init__(self, base1: float = 1.0, base2: float = 1.0, height: float = 1.0) -> None\n",
      " |      To innitiate the class with given parameters\n",
      " |\n",
      " |  __repr__(self) -> str\n",
      " |      Return the string  Representation of the Trapezoid\n",
      " |\n",
      " |  __str__(self) -> str\n",
      " |      Return the user_friendly  Representation  of  the Trapezoid\n",
      " |\n",
      " |  ----------------------------------------------------------------------\n",
      " |  Readonly properties defined here:\n",
      " |\n",
      " |  area\n",
      " |      To calculate the area of the Trapezoid\n",
      " |\n",
      " |  perimeter\n",
      " |      To calculate the perimeter of the Trapezoid\n",
      " |\n",
      " |  ----------------------------------------------------------------------\n",
      " |  Data descriptors defined here:\n",
      " |\n",
      " |  __dict__\n",
      " |      dictionary for instance variables\n",
      " |\n",
      " |  __weakref__\n",
      " |      list of weak references to the object\n",
      " |\n",
      " |  base1\n",
      " |      To get the base1 of the Trapezoid\n",
      " |\n",
      " |  base2\n",
      " |      To get the base2 of the Trapezoid\n",
      " |\n",
      " |  height\n",
      " |      To get the heigth of the Trapezoid\n",
      "\n"
     ]
    }
   ],
   "source": [
    "help(Trapezoid)"
   ]
  },
  {
   "cell_type": "code",
   "execution_count": 91,
   "id": "9e9da91e",
   "metadata": {},
   "outputs": [
    {
     "name": "stdout",
     "output_type": "stream",
     "text": [
      "A class which represent Trapezoid: A four-sided figure with at least one pair of parallel sides.\n",
      "Method: __init__,   Docstring: To innitiate the class with given parameters,   Annotations: {'base1': <class 'float'>, 'base2': <class 'float'>, 'height': <class 'float'>, 'return': None}\n",
      "(Method: area),  (Docstring: To calculate the area of the Trapezoid),  (Annotations: {'return': <class 'float'>})\n",
      "(Method: perimeter),  (Docstring: To calculate the perimeter of the Trapezoid),  (Annotations: {'return': <class 'float'>})\n",
      "Method: __repr__,   Docstring: Return the string  Representation of the Trapezoid,   Annotations: {'return': <class 'str'>}\n",
      "Method: __str__,   Docstring: Return the user_friendly  Representation  of  the Trapezoid,   Annotations: {'return': <class 'str'>}\n"
     ]
    }
   ],
   "source": [
    "print(Trapezoid.__doc__)\n",
    "for method in [\n",
    "    Trapezoid.__init__,\n",
    "    Trapezoid.area,\n",
    "    Trapezoid.perimeter,\n",
    "    Trapezoid.__repr__,\n",
    "    Trapezoid.__str__,\n",
    "]:\n",
    "    if isinstance(method, property):\n",
    "        print(f\"(Method: {method.fget.__name__}),  (Docstring: {method.__doc__}),  (Annotations: {method.fget.__annotations__})\")\n",
    "    else:\n",
    "        print(f\"Method: {method.__name__},   Docstring: {method.__doc__},   Annotations: {method.__annotations__}\")"
   ]
  },
  {
   "cell_type": "code",
   "execution_count": 92,
   "id": "ae2817ff",
   "metadata": {},
   "outputs": [
    {
     "name": "stdout",
     "output_type": "stream",
     "text": [
      "Trapezoid with base1: 1.0, base2: 1.0\n"
     ]
    },
    {
     "data": {
      "text/plain": [
       "Trapezoid(base1=1.0, base2=1.0, height=1.0)"
      ]
     },
     "execution_count": 92,
     "metadata": {},
     "output_type": "execute_result"
    }
   ],
   "source": [
    "tr_3 = Trapezoid()\n",
    "print(tr_3)\n",
    "tr_3"
   ]
  },
  {
   "cell_type": "markdown",
   "id": "da525b7d",
   "metadata": {},
   "source": [
    " **5.** ***Parallelogram***"
   ]
  },
  {
   "cell_type": "code",
   "execution_count": 93,
   "id": "ac101410",
   "metadata": {},
   "outputs": [],
   "source": [
    "class Parallelogram:\n",
    "    \"\"\"A class which represent Parallelogram: Where all sides are of equal length, but the angles are not necessarily 90 degrees.\"\"\"\n",
    "    def __init__(self, base: float = 1.0, height: float = 1.0) -> None:\n",
    "        \"\"\"To initiate the class and give parameters with default value\"\"\"\n",
    "        self.base = base\n",
    "        self.height = height\n",
    "\n",
    "    @property\n",
    "    def base(self) -> float:\n",
    "        \"\"\"To get the base of Parallelogram\"\"\"\n",
    "        return self._base\n",
    "\n",
    "    @base.setter\n",
    "    def base(self, value: float) -> None:\n",
    "        \"\"\"To set the base of Parallelogram\"\"\"\n",
    "        self._base = value\n",
    "\n",
    "    @property\n",
    "    def height(self) -> float:\n",
    "        \"\"\"\"To get the heigth of Parallelogram\"\"\"\n",
    "        return self._height\n",
    "\n",
    "    @height.setter\n",
    "    def height(self, value: float) -> None:\n",
    "        \"\"\"To set the heigth of Parallelogram\"\"\"\n",
    "        self._height = value\n",
    "\n",
    "    @property\n",
    "    def area(self) -> float:\n",
    "        \"\"\"To calculate the area of the Parallelogram\"\"\"\n",
    "        return self.base * self.height\n",
    "\n",
    "    @property\n",
    "    def perimeter(self) -> float:\n",
    "        \"\"\"To calculate the perimeter of Parallelogram\"\"\"\n",
    "        return 2 * (self.base + self.height)\n",
    "    @classmethod\n",
    "    def from_side_and_angle(cls, side: float, angle_degrees: float) -> 'parallelogram':\n",
    "        \"\"\"\n",
    "        Create a Parallelogram instance given a side length and an angle between the sides.\n",
    "        Parameters:\n",
    "            side: The length of the side.\n",
    "            angle_degrees: The angle between the sides in degrees.\n",
    "        Returns:\n",
    "            Parallelogram: A new instance of Parallelogram.\n",
    "        \"\"\"\n",
    "        height = side * math.sin(math.radians(angle_degrees))\n",
    "        return cls(base=side, height=height)   \n",
    "    def __repr__(self) -> str:\n",
    "        \"\"\"Return the string  Representation of the Parallelogram\"\"\"\n",
    "        return f\"Parallelogram(base={self.base}, height={self.height})\"\n",
    "    def __str__(self) -> str:\n",
    "        \"\"\"Return the user_friendly  Representation  of  the Trapezoid\"\"\"\n",
    "        return (f\"Parallelogram with base: {self.base}, height: {self.height}\")\n"
   ]
  },
  {
   "cell_type": "code",
   "execution_count": 94,
   "id": "7c1b63cd",
   "metadata": {},
   "outputs": [],
   "source": [
    "p_1 = Parallelogram(55, 55)\n",
    "p_2 = Parallelogram(33, 33)"
   ]
  },
  {
   "cell_type": "code",
   "execution_count": 95,
   "id": "c2004bf8",
   "metadata": {},
   "outputs": [
    {
     "name": "stdout",
     "output_type": "stream",
     "text": [
      "Parallelogram with base: 55, height: 55\n",
      "Parallelogram with base: 33, height: 33\n"
     ]
    }
   ],
   "source": [
    "print(p_1)\n",
    "print(p_2)"
   ]
  },
  {
   "cell_type": "code",
   "execution_count": 96,
   "id": "8f779b83",
   "metadata": {},
   "outputs": [
    {
     "data": {
      "text/plain": [
       "Parallelogram(base=55, height=55)"
      ]
     },
     "execution_count": 96,
     "metadata": {},
     "output_type": "execute_result"
    }
   ],
   "source": [
    "p_1"
   ]
  },
  {
   "cell_type": "code",
   "execution_count": 97,
   "id": "55e7acb0",
   "metadata": {},
   "outputs": [
    {
     "data": {
      "text/plain": [
       "Parallelogram(base=33, height=33)"
      ]
     },
     "execution_count": 97,
     "metadata": {},
     "output_type": "execute_result"
    }
   ],
   "source": [
    "p_2"
   ]
  },
  {
   "cell_type": "code",
   "execution_count": 98,
   "id": "c6611338",
   "metadata": {},
   "outputs": [
    {
     "name": "stdout",
     "output_type": "stream",
     "text": [
      "mappingproxy({'__dict__': <attribute '__dict__' of 'Parallelogram' objects>,\n",
      "              '__doc__': 'A class which represent Parallelogram: Where all '\n",
      "                         'sides are of equal length, but the angles are not '\n",
      "                         'necessarily 90 degrees.',\n",
      "              '__init__': <function Parallelogram.__init__ at 0x0000024510AE3880>,\n",
      "              '__module__': '__main__',\n",
      "              '__repr__': <function Parallelogram.__repr__ at 0x0000024510AE3BA0>,\n",
      "              '__str__': <function Parallelogram.__str__ at 0x0000024510AE3C40>,\n",
      "              '__weakref__': <attribute '__weakref__' of 'Parallelogram' objects>,\n",
      "              'area': <property object at 0x0000024510B3CEF0>,\n",
      "              'base': <property object at 0x0000024510B3CE00>,\n",
      "              'from_side_and_angle': <classmethod(<function Parallelogram.from_side_and_angle at 0x0000024510AE3B00>)>,\n",
      "              'height': <property object at 0x0000024510B3CC70>,\n",
      "              'perimeter': <property object at 0x0000024510B3D080>})\n"
     ]
    }
   ],
   "source": [
    "from pprint  import pprint\n",
    "pprint(Parallelogram.__dict__)"
   ]
  },
  {
   "cell_type": "code",
   "execution_count": 99,
   "id": "d18e0f66",
   "metadata": {},
   "outputs": [
    {
     "name": "stdout",
     "output_type": "stream",
     "text": [
      "mappingproxy({'__dict__': <attribute '__dict__' of 'Parallelogram' objects>,\n",
      "              '__doc__': 'A class which represent Parallelogram: Where all '\n",
      "                         'sides are of equal length, but the angles are not '\n",
      "                         'necessarily 90 degrees.',\n",
      "              '__init__': <function Parallelogram.__init__ at 0x0000024510AE3880>,\n",
      "              '__module__': '__main__',\n",
      "              '__repr__': <function Parallelogram.__repr__ at 0x0000024510AE3BA0>,\n",
      "              '__str__': <function Parallelogram.__str__ at 0x0000024510AE3C40>,\n",
      "              '__weakref__': <attribute '__weakref__' of 'Parallelogram' objects>,\n",
      "              'area': <property object at 0x0000024510B3CEF0>,\n",
      "              'base': <property object at 0x0000024510B3CE00>,\n",
      "              'from_side_and_angle': <classmethod(<function Parallelogram.from_side_and_angle at 0x0000024510AE3B00>)>,\n",
      "              'height': <property object at 0x0000024510B3CC70>,\n",
      "              'perimeter': <property object at 0x0000024510B3D080>})\n"
     ]
    }
   ],
   "source": [
    "pprint(vars(Parallelogram))"
   ]
  },
  {
   "cell_type": "code",
   "execution_count": 100,
   "id": "ab182dcc",
   "metadata": {},
   "outputs": [
    {
     "name": "stdout",
     "output_type": "stream",
     "text": [
      "Help on class Parallelogram in module __main__:\n",
      "\n",
      "class Parallelogram(builtins.object)\n",
      " |  Parallelogram(base: float = 1.0, height: float = 1.0) -> None\n",
      " |\n",
      " |  A class which represent Parallelogram: Where all sides are of equal length, but the angles are not necessarily 90 degrees.\n",
      " |\n",
      " |  Methods defined here:\n",
      " |\n",
      " |  __init__(self, base: float = 1.0, height: float = 1.0) -> None\n",
      " |      To initiate the class and give parameters with default value\n",
      " |\n",
      " |  __repr__(self) -> str\n",
      " |      Return the string  Representation of the Parallelogram\n",
      " |\n",
      " |  __str__(self) -> str\n",
      " |      Return the user_friendly  Representation  of  the Trapezoid\n",
      " |\n",
      " |  ----------------------------------------------------------------------\n",
      " |  Class methods defined here:\n",
      " |\n",
      " |  from_side_and_angle(side: float, angle_degrees: float) -> 'parallelogram'\n",
      " |      Create a Parallelogram instance given a side length and an angle between the sides.\n",
      " |      Parameters:\n",
      " |          side: The length of the side.\n",
      " |          angle_degrees: The angle between the sides in degrees.\n",
      " |      Returns:\n",
      " |          Parallelogram: A new instance of Parallelogram.\n",
      " |\n",
      " |  ----------------------------------------------------------------------\n",
      " |  Readonly properties defined here:\n",
      " |\n",
      " |  area\n",
      " |      To calculate the area of the Parallelogram\n",
      " |\n",
      " |  perimeter\n",
      " |      To calculate the perimeter of Parallelogram\n",
      " |\n",
      " |  ----------------------------------------------------------------------\n",
      " |  Data descriptors defined here:\n",
      " |\n",
      " |  __dict__\n",
      " |      dictionary for instance variables\n",
      " |\n",
      " |  __weakref__\n",
      " |      list of weak references to the object\n",
      " |\n",
      " |  base\n",
      " |      To get the base of Parallelogram\n",
      " |\n",
      " |  height\n",
      " |      \"To get the heigth of Parallelogram\n",
      "\n"
     ]
    }
   ],
   "source": [
    "help(Parallelogram)"
   ]
  },
  {
   "cell_type": "code",
   "execution_count": 101,
   "id": "59670a59",
   "metadata": {},
   "outputs": [
    {
     "name": "stdout",
     "output_type": "stream",
     "text": [
      "{'_base': 55, '_height': 55}\n",
      "{'_base': 33, '_height': 33}\n"
     ]
    }
   ],
   "source": [
    "print(p_1.__dict__)\n",
    "print(p_2.__dict__)"
   ]
  },
  {
   "cell_type": "code",
   "execution_count": 102,
   "id": "08e0911f",
   "metadata": {},
   "outputs": [
    {
     "name": "stdout",
     "output_type": "stream",
     "text": [
      "A class which represent Parallelogram: Where all sides are of equal length, but the angles are not necessarily 90 degrees.\n",
      "\n",
      "Method: __init__,   Docstring: To initiate the class and give parameters with default value,   Annotations: {'base': <class 'float'>, 'height': <class 'float'>, 'return': None}\n",
      "(Method: area),  (Docstring: To calculate the area of the Parallelogram),  (Annotations: {'return': <class 'float'>})\n",
      "(Method: perimeter),  (Docstring: To calculate the perimeter of Parallelogram),  (Annotations: {'return': <class 'float'>})\n",
      "Method: from_side_and_angle,   Docstring: \n",
      "        Create a Parallelogram instance given a side length and an angle between the sides.\n",
      "        Parameters:\n",
      "            side: The length of the side.\n",
      "            angle_degrees: The angle between the sides in degrees.\n",
      "        Returns:\n",
      "            Parallelogram: A new instance of Parallelogram.\n",
      "        ,   Annotations: {'side': <class 'float'>, 'angle_degrees': <class 'float'>, 'return': 'parallelogram'}\n",
      "Method: __repr__,   Docstring: Return the string  Representation of the Parallelogram,   Annotations: {'return': <class 'str'>}\n",
      "Method: __str__,   Docstring: Return the user_friendly  Representation  of  the Trapezoid,   Annotations: {'return': <class 'str'>}\n"
     ]
    }
   ],
   "source": [
    "print(Parallelogram.__doc__)\n",
    "print()\n",
    "for method in [\n",
    "    Parallelogram.__init__,\n",
    "    Parallelogram.area,\n",
    "    Parallelogram.perimeter,\n",
    "    Parallelogram.from_side_and_angle,\n",
    "    Parallelogram.__repr__,    \n",
    "    Parallelogram.__str__,\n",
    "]:\n",
    "    if isinstance(method, property):\n",
    "        print(f\"(Method: {method.fget.__name__}),  (Docstring: {method.__doc__}),  (Annotations: {method.fget.__annotations__})\")\n",
    "    else:\n",
    "        print(f\"Method: {method.__name__},   Docstring: {method.__doc__},   Annotations: {method.__annotations__}\")"
   ]
  },
  {
   "cell_type": "code",
   "execution_count": 103,
   "id": "2da03363",
   "metadata": {},
   "outputs": [
    {
     "name": "stdout",
     "output_type": "stream",
     "text": [
      "Parallelogram with base: 1.0, height: 1.0\n"
     ]
    },
    {
     "data": {
      "text/plain": [
       "Parallelogram(base=1.0, height=1.0)"
      ]
     },
     "execution_count": 103,
     "metadata": {},
     "output_type": "execute_result"
    }
   ],
   "source": [
    "p_3 = Parallelogram()\n",
    "print(p_3)\n",
    "p_3"
   ]
  },
  {
   "cell_type": "markdown",
   "id": "b714a52f",
   "metadata": {},
   "source": [
    " **6.** ***Rhombus***"
   ]
  },
  {
   "cell_type": "code",
   "execution_count": 104,
   "id": "cd456cdb",
   "metadata": {},
   "outputs": [],
   "source": [
    "class Rhombus:\n",
    "    \"\"\"A class to represent a rhombus, a parallelogram with all sides equal.\"\"\"\n",
    "    \n",
    "    def __init__(self, side_length: float = 1.0, height: float = 1.0) -> None:\n",
    "        \"\"\"Initialize the rhombus with the length of its sides and height.\n",
    "        \n",
    "        Parameters:\n",
    "            side_length : Length of each side. Defaults to 1.0.\n",
    "            height : Height of the rhombus. Defaults to 1.0.\n",
    "        \"\"\"\n",
    "        self.side = side_length\n",
    "        self.height = height\n",
    "\n",
    "    @property\n",
    "    def side(self) -> float:\n",
    "        \"\"\"Get the length of the rhombus's side.\"\"\"\n",
    "        return self._side\n",
    "\n",
    "    @side.setter\n",
    "    def side(self, value: float) -> None:\n",
    "        \"\"\"Set the length of the rhombus's side.\n",
    "        \"\"\"\n",
    "        self._side = value\n",
    "    @property\n",
    "    def height(self) -> float:\n",
    "        \"\"\"Get the height of the rhombus.\"\"\"\n",
    "        return self._height\n",
    "\n",
    "    @height.setter\n",
    "    def height(self, value: float) -> None:\n",
    "        \"\"\"Set the height of the rhombus..\n",
    "        \"\"\"\n",
    "        self._height = value\n",
    "\n",
    "    @property\n",
    "    def area(self) -> float:\n",
    "        \"\"\"Calculate the area of the rhombus.\"\"\"\n",
    "        return self._side_length * self.height\n",
    "\n",
    "    @property\n",
    "    def perimeter(self) -> float:\n",
    "        \"\"\"Calculate the perimeter of the rhombus.\"\"\"\n",
    "        return 4 * self._side_length\n",
    "\n",
    "    def __repr__(self) -> str:\n",
    "        \"\"\"Return a string representation of the rhombus.\"\"\"\n",
    "        return f\"Rhombus(side_length={self.side}, height={self.height})\"\n",
    "\n",
    "    def __str__(self) -> str:\n",
    "        \"\"\"Return a user-friendly string representation of the rhombus.\"\"\"\n",
    "        return (f\"Rhombus with side length: {self.side}, height: {self.height}\")\n"
   ]
  },
  {
   "cell_type": "code",
   "execution_count": 105,
   "id": "48bdb8e0",
   "metadata": {},
   "outputs": [],
   "source": [
    "R_1 = Rhombus(2, 6)\n",
    "R_2 = Rhombus(7,3)"
   ]
  },
  {
   "cell_type": "code",
   "execution_count": 106,
   "id": "bd7efc4e",
   "metadata": {},
   "outputs": [
    {
     "name": "stdout",
     "output_type": "stream",
     "text": [
      "Rhombus with side length: 2, height: 6\n",
      "Rhombus with side length: 7, height: 3\n"
     ]
    }
   ],
   "source": [
    "print(R_1)\n",
    "print(R_2)"
   ]
  },
  {
   "cell_type": "code",
   "execution_count": 107,
   "id": "2cb695a0",
   "metadata": {},
   "outputs": [
    {
     "data": {
      "text/plain": [
       "Rhombus(side_length=2, height=6)"
      ]
     },
     "execution_count": 107,
     "metadata": {},
     "output_type": "execute_result"
    }
   ],
   "source": [
    "R_1"
   ]
  },
  {
   "cell_type": "code",
   "execution_count": 108,
   "id": "3c604678",
   "metadata": {},
   "outputs": [
    {
     "name": "stdout",
     "output_type": "stream",
     "text": [
      "mappingproxy({'__dict__': <attribute '__dict__' of 'Rhombus' objects>,\n",
      "              '__doc__': 'A class to represent a rhombus, a parallelogram with '\n",
      "                         'all sides equal.',\n",
      "              '__init__': <function Rhombus.__init__ at 0x0000024510AE2700>,\n",
      "              '__module__': '__main__',\n",
      "              '__repr__': <function Rhombus.__repr__ at 0x0000024510B44360>,\n",
      "              '__str__': <function Rhombus.__str__ at 0x0000024510B44400>,\n",
      "              '__weakref__': <attribute '__weakref__' of 'Rhombus' objects>,\n",
      "              'area': <property object at 0x0000024510B3DBC0>,\n",
      "              'height': <property object at 0x0000024510B3E2A0>,\n",
      "              'perimeter': <property object at 0x0000024510B3EC00>,\n",
      "              'side': <property object at 0x0000024510B3E9D0>})\n"
     ]
    }
   ],
   "source": [
    "from pprint import pprint \n",
    "pprint(Rhombus.__dict__)"
   ]
  },
  {
   "cell_type": "code",
   "execution_count": 109,
   "id": "fad89e55",
   "metadata": {},
   "outputs": [
    {
     "name": "stdout",
     "output_type": "stream",
     "text": [
      "mappingproxy({'__dict__': <attribute '__dict__' of 'Rhombus' objects>,\n",
      "              '__doc__': 'A class to represent a rhombus, a parallelogram with '\n",
      "                         'all sides equal.',\n",
      "              '__init__': <function Rhombus.__init__ at 0x0000024510AE2700>,\n",
      "              '__module__': '__main__',\n",
      "              '__repr__': <function Rhombus.__repr__ at 0x0000024510B44360>,\n",
      "              '__str__': <function Rhombus.__str__ at 0x0000024510B44400>,\n",
      "              '__weakref__': <attribute '__weakref__' of 'Rhombus' objects>,\n",
      "              'area': <property object at 0x0000024510B3DBC0>,\n",
      "              'height': <property object at 0x0000024510B3E2A0>,\n",
      "              'perimeter': <property object at 0x0000024510B3EC00>,\n",
      "              'side': <property object at 0x0000024510B3E9D0>})\n"
     ]
    }
   ],
   "source": [
    "pprint(vars(Rhombus))"
   ]
  },
  {
   "cell_type": "code",
   "execution_count": 110,
   "id": "9e524f41",
   "metadata": {},
   "outputs": [
    {
     "name": "stdout",
     "output_type": "stream",
     "text": [
      "Help on class Rhombus in module __main__:\n",
      "\n",
      "class Rhombus(builtins.object)\n",
      " |  Rhombus(side_length: float = 1.0, height: float = 1.0) -> None\n",
      " |\n",
      " |  A class to represent a rhombus, a parallelogram with all sides equal.\n",
      " |\n",
      " |  Methods defined here:\n",
      " |\n",
      " |  __init__(self, side_length: float = 1.0, height: float = 1.0) -> None\n",
      " |      Initialize the rhombus with the length of its sides and height.\n",
      " |\n",
      " |      Parameters:\n",
      " |          side_length : Length of each side. Defaults to 1.0.\n",
      " |          height : Height of the rhombus. Defaults to 1.0.\n",
      " |\n",
      " |  __repr__(self) -> str\n",
      " |      Return a string representation of the rhombus.\n",
      " |\n",
      " |  __str__(self) -> str\n",
      " |      Return a user-friendly string representation of the rhombus.\n",
      " |\n",
      " |  ----------------------------------------------------------------------\n",
      " |  Readonly properties defined here:\n",
      " |\n",
      " |  area\n",
      " |      Calculate the area of the rhombus.\n",
      " |\n",
      " |  perimeter\n",
      " |      Calculate the perimeter of the rhombus.\n",
      " |\n",
      " |  ----------------------------------------------------------------------\n",
      " |  Data descriptors defined here:\n",
      " |\n",
      " |  __dict__\n",
      " |      dictionary for instance variables\n",
      " |\n",
      " |  __weakref__\n",
      " |      list of weak references to the object\n",
      " |\n",
      " |  height\n",
      " |      Get the height of the rhombus.\n",
      " |\n",
      " |  side\n",
      " |      Get the length of the rhombus's side.\n",
      "\n"
     ]
    }
   ],
   "source": [
    "help(Rhombus)"
   ]
  },
  {
   "cell_type": "code",
   "execution_count": 111,
   "id": "9321daf4",
   "metadata": {},
   "outputs": [
    {
     "name": "stdout",
     "output_type": "stream",
     "text": [
      "{'_side': 2, '_height': 6}\n",
      "{'_side': 7, '_height': 3}\n"
     ]
    }
   ],
   "source": [
    "print(R_1.__dict__)\n",
    "print(R_2.__dict__)"
   ]
  },
  {
   "cell_type": "code",
   "execution_count": 112,
   "id": "f8b7b69b",
   "metadata": {},
   "outputs": [
    {
     "name": "stdout",
     "output_type": "stream",
     "text": [
      "A class to represent a rhombus, a parallelogram with all sides equal.\n",
      "Method: __init__,   Docstring: Initialize the rhombus with the length of its sides and height.\n",
      "        \n",
      "        Parameters:\n",
      "            side_length : Length of each side. Defaults to 1.0.\n",
      "            height : Height of the rhombus. Defaults to 1.0.\n",
      "        ,   Annotations: {'side_length': <class 'float'>, 'height': <class 'float'>, 'return': None}\n",
      "(Method: area),  (Docstring: Calculate the area of the rhombus.),  (Annotations: {'return': <class 'float'>})\n",
      "(Method: perimeter),  (Docstring: Calculate the perimeter of the rhombus.),  (Annotations: {'return': <class 'float'>})\n",
      "Method: __repr__,   Docstring: Return a string representation of the rhombus.,   Annotations: {'return': <class 'str'>}\n",
      "Method: __str__,   Docstring: Return a user-friendly string representation of the rhombus.,   Annotations: {'return': <class 'str'>}\n"
     ]
    }
   ],
   "source": [
    "print(Rhombus.__doc__)\n",
    "for method in [\n",
    "    Rhombus.__init__,\n",
    "    Rhombus.area,\n",
    "    Rhombus.perimeter,\n",
    "    Rhombus.__repr__,\n",
    "    Rhombus.__str__,\n",
    "]:\n",
    "    if isinstance(method, property):\n",
    "        print(f\"(Method: {method.fget.__name__}),  (Docstring: {method.__doc__}),  (Annotations: {method.fget.__annotations__})\")\n",
    "    else:\n",
    "        print(f\"Method: {method.__name__},   Docstring: {method.__doc__},   Annotations: {method.__annotations__}\")"
   ]
  },
  {
   "cell_type": "code",
   "execution_count": 113,
   "id": "0272dbdf",
   "metadata": {},
   "outputs": [
    {
     "name": "stdout",
     "output_type": "stream",
     "text": [
      "Rhombus with side length: 1.0, height: 1.0\n"
     ]
    },
    {
     "data": {
      "text/plain": [
       "Rhombus(side_length=1.0, height=1.0)"
      ]
     },
     "execution_count": 113,
     "metadata": {},
     "output_type": "execute_result"
    }
   ],
   "source": [
    "R_3 = Rhombus()\n",
    "print(R_3)\n",
    "R_3"
   ]
  },
  {
   "cell_type": "markdown",
   "id": "51db31e7",
   "metadata": {},
   "source": [
    " **Task No 05**"
   ]
  },
  {
   "cell_type": "markdown",
   "id": "333251d0",
   "metadata": {},
   "source": [
    " ***Circuit:***\n",
    "* **Resistor Circuit:** *Create a class for a circuit that contains only one resistor.*\n",
    "* **RL Circuit:** *Develop a class representing an RL (Resistor-Inductor) circuit.*\n",
    "* **RC Circuit:** *Create a class for an RC (Resistor-Capacitor) circuit.*\n",
    "* **RLC Parallel Circuit:** *Construct a class for RLC (Resistor-Inductor-Capacitor) parallel circuits.*\n",
    "* **RLC Series Resonance:** *Modify the existing RLC series class to implement the series resonance case.*\n",
    "* **RLC Parallel Resonance:** *Adapt the RLC parallel class to account for the parallel resonance case.*"
   ]
  },
  {
   "cell_type": "markdown",
   "id": "4106fe48",
   "metadata": {},
   "source": [
    " **1.** ***Resistor***"
   ]
  },
  {
   "cell_type": "code",
   "execution_count": 114,
   "id": "f034c842",
   "metadata": {},
   "outputs": [],
   "source": [
    "class Resistor:\n",
    "    \"\"\"A class to represent a simple circuit with a single resistor.\"\"\"\n",
    "    \n",
    "    def __init__(self, resistance: float = 1.0) -> None:\n",
    "        \"\"\"Initialize the resistor with the given resistance value.\n",
    "        \n",
    "        Parameter:\n",
    "            resistance: Resistance in ohms. Defaults to 1.0.\n",
    "        \"\"\"\n",
    "        self.resistance = resistance\n",
    "\n",
    "    @property\n",
    "    def resistance(self) -> float:\n",
    "        \"\"\"Get the resistance value.\"\"\"\n",
    "        return self._resistance\n",
    "\n",
    "    @resistance.setter\n",
    "    def resistance(self, value: float):\n",
    "        \"\"\"Set the resistance value.\"\"\"\n",
    "        self._resistance = value\n",
    "    @staticmethod\n",
    "    def calculate_power(voltage: float, current: float) -> float:\n",
    "        \"\"\"Static method to calculate the power dissipated in a resistor.  \n",
    "        Parameters:\n",
    "            voltage (float): Resistance in voltage.\n",
    "            current (float): Current in amps.\n",
    "        Returns:\n",
    "            float: Power in watts.\n",
    "        \"\"\"\n",
    "        return resistance * (current ** 2)\n",
    "    @classmethod\n",
    "    def with_standard_resistance(cls, standard: float = 10.0):\n",
    "        \"\"\"Class method to create a resistor circuit with a standard resistance.\n",
    "        parameters:\n",
    "            standard_value (float): Common resistor value in ohms.\n",
    "        Returns:\n",
    "            ResistorCircuit: A new instance with the specified standard resistance.\n",
    "        \"\"\"\n",
    "        return cls(resistance=standard)\n",
    "    def __repr__(self) -> str:\n",
    "        \"\"\"A  string  representation of the Resistor\"\"\"\n",
    "        return f\"{type(self).__name__}(resistance={self.resistance} ohm)\"\n",
    "    def __str__(self) -> str:\n",
    "        \"\"\"A user-friendly  representation of Resistor\"\"\"\n",
    "        return f\"Resistor with resistancae: {self.resistance} ohms\"\n"
   ]
  },
  {
   "cell_type": "code",
   "execution_count": 115,
   "id": "fdc093d5",
   "metadata": {},
   "outputs": [],
   "source": [
    "resistor = Resistor(21)"
   ]
  },
  {
   "cell_type": "code",
   "execution_count": 116,
   "id": "b33af779",
   "metadata": {},
   "outputs": [
    {
     "name": "stdout",
     "output_type": "stream",
     "text": [
      "Resistor with resistancae: 21 ohms\n"
     ]
    }
   ],
   "source": [
    "print(resistor)"
   ]
  },
  {
   "cell_type": "code",
   "execution_count": 117,
   "id": "81c7326c",
   "metadata": {},
   "outputs": [
    {
     "data": {
      "text/plain": [
       "Resistor(resistance=21 ohm)"
      ]
     },
     "execution_count": 117,
     "metadata": {},
     "output_type": "execute_result"
    }
   ],
   "source": [
    "resistor"
   ]
  },
  {
   "cell_type": "code",
   "execution_count": 118,
   "id": "4f48e404",
   "metadata": {},
   "outputs": [
    {
     "name": "stdout",
     "output_type": "stream",
     "text": [
      "mappingproxy({'__dict__': <attribute '__dict__' of 'Resistor' objects>,\n",
      "              '__doc__': 'A class to represent a simple circuit with a single '\n",
      "                         'resistor.',\n",
      "              '__init__': <function Resistor.__init__ at 0x0000024510B447C0>,\n",
      "              '__module__': '__main__',\n",
      "              '__repr__': <function Resistor.__repr__ at 0x0000024510B44900>,\n",
      "              '__str__': <function Resistor.__str__ at 0x0000024510B44A40>,\n",
      "              '__weakref__': <attribute '__weakref__' of 'Resistor' objects>,\n",
      "              'calculate_power': <staticmethod(<function Resistor.calculate_power at 0x0000024510B44860>)>,\n",
      "              'resistance': <property object at 0x0000024510B3FA60>,\n",
      "              'with_standard_resistance': <classmethod(<function Resistor.with_standard_resistance at 0x0000024510B449A0>)>})\n"
     ]
    }
   ],
   "source": [
    "from pprint import pprint \n",
    "pprint(Resistor.__dict__)"
   ]
  },
  {
   "cell_type": "code",
   "execution_count": 119,
   "id": "00fd58ed",
   "metadata": {},
   "outputs": [
    {
     "name": "stdout",
     "output_type": "stream",
     "text": [
      "Help on class Resistor in module __main__:\n",
      "\n",
      "class Resistor(builtins.object)\n",
      " |  Resistor(resistance: float = 1.0) -> None\n",
      " |\n",
      " |  A class to represent a simple circuit with a single resistor.\n",
      " |\n",
      " |  Methods defined here:\n",
      " |\n",
      " |  __init__(self, resistance: float = 1.0) -> None\n",
      " |      Initialize the resistor with the given resistance value.\n",
      " |\n",
      " |      Parameter:\n",
      " |          resistance: Resistance in ohms. Defaults to 1.0.\n",
      " |\n",
      " |  __repr__(self) -> str\n",
      " |      A  string  representation of the Resistor\n",
      " |\n",
      " |  __str__(self) -> str\n",
      " |      A user-friendly  representation of Resistor\n",
      " |\n",
      " |  ----------------------------------------------------------------------\n",
      " |  Class methods defined here:\n",
      " |\n",
      " |  with_standard_resistance(standard: float = 10.0)\n",
      " |      Class method to create a resistor circuit with a standard resistance.\n",
      " |      parameters:\n",
      " |          standard_value (float): Common resistor value in ohms.\n",
      " |      Returns:\n",
      " |          ResistorCircuit: A new instance with the specified standard resistance.\n",
      " |\n",
      " |  ----------------------------------------------------------------------\n",
      " |  Static methods defined here:\n",
      " |\n",
      " |  calculate_power(voltage: float, current: float) -> float\n",
      " |      Static method to calculate the power dissipated in a resistor.\n",
      " |      Parameters:\n",
      " |          voltage (float): Resistance in voltage.\n",
      " |          current (float): Current in amps.\n",
      " |      Returns:\n",
      " |          float: Power in watts.\n",
      " |\n",
      " |  ----------------------------------------------------------------------\n",
      " |  Data descriptors defined here:\n",
      " |\n",
      " |  __dict__\n",
      " |      dictionary for instance variables\n",
      " |\n",
      " |  __weakref__\n",
      " |      list of weak references to the object\n",
      " |\n",
      " |  resistance\n",
      " |      Get the resistance value.\n",
      "\n"
     ]
    }
   ],
   "source": [
    "help(Resistor)"
   ]
  },
  {
   "cell_type": "code",
   "execution_count": 120,
   "id": "cf501570",
   "metadata": {},
   "outputs": [
    {
     "name": "stdout",
     "output_type": "stream",
     "text": [
      "{'_resistance': 21}\n"
     ]
    }
   ],
   "source": [
    "print(resistor.__dict__)"
   ]
  },
  {
   "cell_type": "code",
   "execution_count": 121,
   "id": "be6a9faf",
   "metadata": {},
   "outputs": [
    {
     "name": "stdout",
     "output_type": "stream",
     "text": [
      "A class to represent a simple circuit with a single resistor.\n",
      "Method: __init__,   Docstring: Initialize the resistor with the given resistance value.\n",
      "        \n",
      "        Parameter:\n",
      "            resistance: Resistance in ohms. Defaults to 1.0.\n",
      "        ,   Annotations: {'resistance': <class 'float'>, 'return': None}\n",
      "Method: with_standard_resistance,   Docstring: Class method to create a resistor circuit with a standard resistance.\n",
      "        parameters:\n",
      "            standard_value (float): Common resistor value in ohms.\n",
      "        Returns:\n",
      "            ResistorCircuit: A new instance with the specified standard resistance.\n",
      "        ,   Annotations: {'standard': <class 'float'>}\n",
      "Method: calculate_power,   Docstring: Static method to calculate the power dissipated in a resistor.  \n",
      "        Parameters:\n",
      "            voltage (float): Resistance in voltage.\n",
      "            current (float): Current in amps.\n",
      "        Returns:\n",
      "            float: Power in watts.\n",
      "        ,   Annotations: {'voltage': <class 'float'>, 'current': <class 'float'>, 'return': <class 'float'>}\n",
      "Method: __repr__,   Docstring: A  string  representation of the Resistor,   Annotations: {'return': <class 'str'>}\n",
      "Method: __str__,   Docstring: A user-friendly  representation of Resistor,   Annotations: {'return': <class 'str'>}\n"
     ]
    }
   ],
   "source": [
    "print(Resistor.__doc__)\n",
    "for method in [\n",
    "    Resistor.__init__,\n",
    "    Resistor.with_standard_resistance,\n",
    "    Resistor.calculate_power,\n",
    "    Resistor.__repr__,\n",
    "    Resistor.__str__,\n",
    "]:\n",
    "    if isinstance(method, property):\n",
    "        print(f\"(Method: {method.fget.__name__}),  (Docstring: {method.__doc__}),  (Annotations: {method.fget.__annotations__})\")\n",
    "    else:\n",
    "        print(f\"Method: {method.__name__},   Docstring: {method.__doc__},   Annotations: {method.__annotations__}\")"
   ]
  },
  {
   "cell_type": "code",
   "execution_count": 122,
   "id": "fe5d3cab",
   "metadata": {},
   "outputs": [
    {
     "name": "stdout",
     "output_type": "stream",
     "text": [
      "Resistor with resistancae: 1.0 ohms\n"
     ]
    },
    {
     "data": {
      "text/plain": [
       "Resistor(resistance=1.0 ohm)"
      ]
     },
     "execution_count": 122,
     "metadata": {},
     "output_type": "execute_result"
    }
   ],
   "source": [
    "RL_3 = Resistor()\n",
    "print(RL_3)\n",
    "RL_3"
   ]
  },
  {
   "cell_type": "markdown",
   "id": "fce4696c",
   "metadata": {},
   "source": [
    " **2.** ***RL Circuit***"
   ]
  },
  {
   "cell_type": "code",
   "execution_count": 123,
   "id": "7f0e877e",
   "metadata": {},
   "outputs": [],
   "source": [
    "import math\n",
    "class RLCircuit:\n",
    "    \"\"\"A class to represent an RL circuit (Resistor and Inductor).\"\"\"\n",
    "    \n",
    "    def __init__(self, resistance: float = 1.0, inductance: float = 1.0):\n",
    "        \"\"\"Initialize the RL circuit with resistance and inductance.    \n",
    "        Parameters:\n",
    "            resistance : Resistance in ohms. Default value is 1.0.\n",
    "            inductance : Inductance in henries. Default value 1.0.\n",
    "        \"\"\"\n",
    "        self.resistance = resistance\n",
    "        self.inductance = inductance\n",
    "\n",
    "    @property\n",
    "    def resistance(self) -> float:\n",
    "        \"\"\"Get the resistance value.\"\"\"\n",
    "        return self._resistance\n",
    "\n",
    "    @resistance.setter\n",
    "    def resistance(self, value: float):\n",
    "        self._resistance = value\n",
    "\n",
    "    @property\n",
    "    def inductance(self) -> float:\n",
    "        \"\"\"Get the inductance value.\"\"\"\n",
    "        return self._inductance\n",
    "\n",
    "    @inductance.setter\n",
    "    def inductance(self, value: float):\n",
    "        self._inductance = value\n",
    "    \n",
    "    def impedance(self, frequency: float = 50.0) -> float:\n",
    "        \"\"\"Calculate the impedance of the RL circuit.\n",
    "        \n",
    "        Parameter:\n",
    "            frequency : Frequency in hertz.\n",
    "        \n",
    "        Returns:\n",
    "            float: Impedance in ohms.\n",
    "        \"\"\"\n",
    "        return math.sqrt(self.resistance**2 + (2 * math.pi * frequency * self.inductance)**2)\n",
    "\n",
    "    @classmethod\n",
    "    def standard_values(cls):\n",
    "        \"\"\"Class method to create an RL circuit with standard values.\"\"\"\n",
    "        return cls(resistance=10.0, inductance=0.05)\n",
    "\n",
    "    @staticmethod\n",
    "    def calculate_reactance(inductance: float, frequency: float) -> float:\n",
    "        \"\"\"Static method to calculate the inductive reactance.\"\"\"\n",
    "        return 2 * math.pi * frequency * inductance\n",
    "\n",
    "    def __repr__(self) -> str:\n",
    "        \"\"\"A  string  representation of the RL Circuit\"\"\"\n",
    "        return f\"{type(self).__name__}(resistance={self.resistance}, inductance={self.inductance} H)\"\n",
    "\n",
    "    def __str__(self) -> str:\n",
    "        \"\"\"A user-friendly  representation of RL Circuit\"\"\"\n",
    "        return f\"RL Circuit with resistance: {self.resistance} ohms, inductance: {self.inductance} H\"\n"
   ]
  },
  {
   "cell_type": "code",
   "execution_count": 124,
   "id": "b3af2b23",
   "metadata": {},
   "outputs": [],
   "source": [
    "RL_1 = RLCircuit(32, 0.01)\n",
    "RL_2 = RLCircuit(25, 2.1)"
   ]
  },
  {
   "cell_type": "code",
   "execution_count": 125,
   "id": "321b83c7",
   "metadata": {},
   "outputs": [
    {
     "name": "stdout",
     "output_type": "stream",
     "text": [
      "RL Circuit with resistance: 32 ohms, inductance: 0.01 H\n",
      "RL Circuit with resistance: 25 ohms, inductance: 2.1 H\n"
     ]
    }
   ],
   "source": [
    "print(RL_1)\n",
    "print(RL_2)"
   ]
  },
  {
   "cell_type": "code",
   "execution_count": 126,
   "id": "57769729",
   "metadata": {},
   "outputs": [
    {
     "data": {
      "text/plain": [
       "RLCircuit(resistance=32, inductance=0.01 H)"
      ]
     },
     "execution_count": 126,
     "metadata": {},
     "output_type": "execute_result"
    }
   ],
   "source": [
    "RL_1"
   ]
  },
  {
   "cell_type": "code",
   "execution_count": 127,
   "id": "42606014",
   "metadata": {},
   "outputs": [
    {
     "data": {
      "text/plain": [
       "RLCircuit(resistance=25, inductance=2.1 H)"
      ]
     },
     "execution_count": 127,
     "metadata": {},
     "output_type": "execute_result"
    }
   ],
   "source": [
    "RL_2"
   ]
  },
  {
   "cell_type": "code",
   "execution_count": 128,
   "id": "ba0f0e2a",
   "metadata": {},
   "outputs": [
    {
     "name": "stdout",
     "output_type": "stream",
     "text": [
      "mappingproxy({'__dict__': <attribute '__dict__' of 'RLCircuit' objects>,\n",
      "              '__doc__': 'A class to represent an RL circuit (Resistor and '\n",
      "                         'Inductor).',\n",
      "              '__init__': <function RLCircuit.__init__ at 0x0000024510AE2E80>,\n",
      "              '__module__': '__main__',\n",
      "              '__repr__': <function RLCircuit.__repr__ at 0x0000024510B44680>,\n",
      "              '__str__': <function RLCircuit.__str__ at 0x0000024510B445E0>,\n",
      "              '__weakref__': <attribute '__weakref__' of 'RLCircuit' objects>,\n",
      "              'calculate_reactance': <staticmethod(<function RLCircuit.calculate_reactance at 0x0000024510B44CC0>)>,\n",
      "              'impedance': <function RLCircuit.impedance at 0x0000024510AE2840>,\n",
      "              'inductance': <property object at 0x0000024510B3E160>,\n",
      "              'resistance': <property object at 0x0000024510B3C680>,\n",
      "              'standard_values': <classmethod(<function RLCircuit.standard_values at 0x0000024510B44AE0>)>})\n"
     ]
    }
   ],
   "source": [
    "from pprint import pprint\n",
    "pprint(RLCircuit.__dict__)"
   ]
  },
  {
   "cell_type": "code",
   "execution_count": 129,
   "id": "87904275",
   "metadata": {},
   "outputs": [
    {
     "name": "stdout",
     "output_type": "stream",
     "text": [
      "mappingproxy({'__dict__': <attribute '__dict__' of 'RLCircuit' objects>,\n",
      "              '__doc__': 'A class to represent an RL circuit (Resistor and '\n",
      "                         'Inductor).',\n",
      "              '__init__': <function RLCircuit.__init__ at 0x0000024510AE2E80>,\n",
      "              '__module__': '__main__',\n",
      "              '__repr__': <function RLCircuit.__repr__ at 0x0000024510B44680>,\n",
      "              '__str__': <function RLCircuit.__str__ at 0x0000024510B445E0>,\n",
      "              '__weakref__': <attribute '__weakref__' of 'RLCircuit' objects>,\n",
      "              'calculate_reactance': <staticmethod(<function RLCircuit.calculate_reactance at 0x0000024510B44CC0>)>,\n",
      "              'impedance': <function RLCircuit.impedance at 0x0000024510AE2840>,\n",
      "              'inductance': <property object at 0x0000024510B3E160>,\n",
      "              'resistance': <property object at 0x0000024510B3C680>,\n",
      "              'standard_values': <classmethod(<function RLCircuit.standard_values at 0x0000024510B44AE0>)>})\n"
     ]
    }
   ],
   "source": [
    "pprint(vars(RLCircuit))"
   ]
  },
  {
   "cell_type": "code",
   "execution_count": 130,
   "id": "c6f73d91",
   "metadata": {},
   "outputs": [
    {
     "name": "stdout",
     "output_type": "stream",
     "text": [
      "Help on class RLCircuit in module __main__:\n",
      "\n",
      "class RLCircuit(builtins.object)\n",
      " |  RLCircuit(resistance: float = 1.0, inductance: float = 1.0)\n",
      " |\n",
      " |  A class to represent an RL circuit (Resistor and Inductor).\n",
      " |\n",
      " |  Methods defined here:\n",
      " |\n",
      " |  __init__(self, resistance: float = 1.0, inductance: float = 1.0)\n",
      " |      Initialize the RL circuit with resistance and inductance.\n",
      " |      Parameters:\n",
      " |          resistance : Resistance in ohms. Default value is 1.0.\n",
      " |          inductance : Inductance in henries. Default value 1.0.\n",
      " |\n",
      " |  __repr__(self) -> str\n",
      " |      A  string  representation of the RL Circuit\n",
      " |\n",
      " |  __str__(self) -> str\n",
      " |      A user-friendly  representation of RL Circuit\n",
      " |\n",
      " |  impedance(self, frequency: float = 50.0) -> float\n",
      " |      Calculate the impedance of the RL circuit.\n",
      " |\n",
      " |      Parameter:\n",
      " |          frequency : Frequency in hertz.\n",
      " |\n",
      " |      Returns:\n",
      " |          float: Impedance in ohms.\n",
      " |\n",
      " |  ----------------------------------------------------------------------\n",
      " |  Class methods defined here:\n",
      " |\n",
      " |  standard_values()\n",
      " |      Class method to create an RL circuit with standard values.\n",
      " |\n",
      " |  ----------------------------------------------------------------------\n",
      " |  Static methods defined here:\n",
      " |\n",
      " |  calculate_reactance(inductance: float, frequency: float) -> float\n",
      " |      Static method to calculate the inductive reactance.\n",
      " |\n",
      " |  ----------------------------------------------------------------------\n",
      " |  Data descriptors defined here:\n",
      " |\n",
      " |  __dict__\n",
      " |      dictionary for instance variables\n",
      " |\n",
      " |  __weakref__\n",
      " |      list of weak references to the object\n",
      " |\n",
      " |  inductance\n",
      " |      Get the inductance value.\n",
      " |\n",
      " |  resistance\n",
      " |      Get the resistance value.\n",
      "\n"
     ]
    }
   ],
   "source": [
    "help(RLCircuit)"
   ]
  },
  {
   "cell_type": "code",
   "execution_count": 131,
   "id": "7c4c1294",
   "metadata": {},
   "outputs": [
    {
     "name": "stdout",
     "output_type": "stream",
     "text": [
      "{'_resistance': 32, '_inductance': 0.01}\n",
      "{'_resistance': 25, '_inductance': 2.1}\n"
     ]
    }
   ],
   "source": [
    "print(RL_1.__dict__)\n",
    "print(RL_2.__dict__)"
   ]
  },
  {
   "cell_type": "code",
   "execution_count": 132,
   "id": "eacd4143",
   "metadata": {},
   "outputs": [
    {
     "name": "stdout",
     "output_type": "stream",
     "text": [
      "A class to represent an RL circuit (Resistor and Inductor).\n",
      "Method: __init__,   Docstring: Initialize the RL circuit with resistance and inductance.    \n",
      "        Parameters:\n",
      "            resistance : Resistance in ohms. Default value is 1.0.\n",
      "            inductance : Inductance in henries. Default value 1.0.\n",
      "        ,   Annotations: {'resistance': <class 'float'>, 'inductance': <class 'float'>}\n",
      "Method: impedance,   Docstring: Calculate the impedance of the RL circuit.\n",
      "        \n",
      "        Parameter:\n",
      "            frequency : Frequency in hertz.\n",
      "        \n",
      "        Returns:\n",
      "            float: Impedance in ohms.\n",
      "        ,   Annotations: {'frequency': <class 'float'>, 'return': <class 'float'>}\n",
      "Method: standard_values,   Docstring: Class method to create an RL circuit with standard values.,   Annotations: {}\n",
      "Method: calculate_reactance,   Docstring: Static method to calculate the inductive reactance.,   Annotations: {'inductance': <class 'float'>, 'frequency': <class 'float'>, 'return': <class 'float'>}\n",
      "Method: __repr__,   Docstring: A  string  representation of the RL Circuit,   Annotations: {'return': <class 'str'>}\n",
      "Method: __str__,   Docstring: A user-friendly  representation of RL Circuit,   Annotations: {'return': <class 'str'>}\n"
     ]
    }
   ],
   "source": [
    "print(RLCircuit.__doc__)\n",
    "for method in [\n",
    "    RLCircuit.__init__,\n",
    "    RLCircuit.impedance,\n",
    "    RLCircuit.standard_values,\n",
    "    RLCircuit.calculate_reactance,\n",
    "    RLCircuit.__repr__,\n",
    "    RLCircuit.__str__,\n",
    "]:\n",
    "    if isinstance(method, property):\n",
    "        print(f\"(Method: {method.fget.__name__}),  (Docstring: {method.__doc__}),  (Annotations: {method.fget.__annotations__})\")\n",
    "    else:\n",
    "        print(f\"Method: {method.__name__},   Docstring: {method.__doc__},   Annotations: {method.__annotations__}\")"
   ]
  },
  {
   "cell_type": "code",
   "execution_count": 133,
   "id": "7bf88222",
   "metadata": {},
   "outputs": [
    {
     "name": "stdout",
     "output_type": "stream",
     "text": [
      "RL Circuit with resistance: 1.0 ohms, inductance: 1.0 H\n"
     ]
    },
    {
     "data": {
      "text/plain": [
       "RLCircuit(resistance=1.0, inductance=1.0 H)"
      ]
     },
     "execution_count": 133,
     "metadata": {},
     "output_type": "execute_result"
    }
   ],
   "source": [
    "RL_3 = RLCircuit()\n",
    "print(RL_3)\n",
    "RL_3"
   ]
  },
  {
   "cell_type": "markdown",
   "id": "729b1edf",
   "metadata": {},
   "source": [
    " **3.** ***RC Circuit***"
   ]
  },
  {
   "cell_type": "code",
   "execution_count": 134,
   "id": "d054220e",
   "metadata": {},
   "outputs": [],
   "source": [
    "import math\n",
    "class RC_Circuit:\n",
    "    \"\"\"A class to represent an RC series circuit.\"\"\"\n",
    "\n",
    "    def __init__(self, resistance: float = 1.0, capacitance: float = 1.0) -> None:\n",
    "        \"\"\"Initialize the series RC circuit with resistance and capacitance.\n",
    "\n",
    "        Parameters:\n",
    "            resistance : Resistance in ohms. Default value is 1.0.\n",
    "            capacitance : Capacitance in farads. Default value is 1.0.\n",
    "        \"\"\"\n",
    "        self._resistance = resistance\n",
    "        self._capacitance = capacitance\n",
    "\n",
    "    @property\n",
    "    def resistance(self) -> float:\n",
    "        \"\"\"Get the resistance value.\"\"\"\n",
    "        return self._resistance\n",
    "\n",
    "    @resistance.setter\n",
    "    def resistance(self, value: float) -> None:\n",
    "        \"\"\"set the resistance value\"\"\"\n",
    "        self.resistance = value\n",
    "    @property\n",
    "    def capacitance(self) -> float:\n",
    "        \"\"\"Get the capacitance value.\"\"\"\n",
    "        return self._capacitance\n",
    "\n",
    "    @capacitance.setter\n",
    "    def capacitance(self, value: float) -> None:\n",
    "        self._capacitance = value\n",
    "    def impedance(self, frequency: float) -> float:\n",
    "        \"\"\"Calculate the impedance of the RC circuit.\n",
    "        Parameter:\n",
    "                 frequency (float): Frequency in hertz.\n",
    "        Returns:\n",
    "               Impedance in ohms.\n",
    "        \"\"\"\n",
    "        reactance_c = 1 / (2 * math.pi * frequency * self.capacitance)\n",
    "        return math.sqrt(self.resistance**2 + reactance_c**2)\n",
    "    @classmethod\n",
    "    def standard_values(cls) -> 'RC Circuit':\n",
    "        \"\"\"Class method to create an RC circuit with standard values.\"\"\"\n",
    "        return cls(resistance=30.0, capacitance=0.1)\n",
    "\n",
    "    @staticmethod\n",
    "    def calculate_reactance(capacitance_1: float, frequency: float) -> float:\n",
    "        \"\"\"Static method to calculate the capacitive reactance.\n",
    "\n",
    "        Parameters:\n",
    "            capacitance : Capacitance in farads.\n",
    "            frequency : Frequency in hertz.\n",
    "\n",
    "        Returns:\n",
    "            Reactance in ohms.\n",
    "        \"\"\"\n",
    "        return 1 / (2 * math.pi * frequency * capacitance_1)\n",
    "    def __repr__(self) -> str:\n",
    "        \"\"\"A  string  representation of the RC Circuit\"\"\"\n",
    "        return f\"{type(self).__name__}(resistance={self.resistance}, capacitance={self.capacitance})\"\n",
    "\n",
    "    def __str__(self) -> str:\n",
    "        \"\"\"A user-friendly  representation of RC Circuit\"\"\"\n",
    "        return (f\"RC Series Circuit with resistance: {self.resistance} ohms, capacitance: {self.capacitance} F\")"
   ]
  },
  {
   "cell_type": "code",
   "execution_count": 135,
   "id": "eadf6a57",
   "metadata": {},
   "outputs": [],
   "source": [
    "RC_1 = RC_Circuit(55, 0.1)\n",
    "RC_2 = RC_Circuit(40,0.01)"
   ]
  },
  {
   "cell_type": "code",
   "execution_count": 136,
   "id": "3f7c359c",
   "metadata": {},
   "outputs": [
    {
     "name": "stdout",
     "output_type": "stream",
     "text": [
      "RC Series Circuit with resistance: 55 ohms, capacitance: 0.1 F\n",
      "RL Circuit with resistance: 25 ohms, inductance: 2.1 H\n"
     ]
    }
   ],
   "source": [
    "print(RC_1)\n",
    "print(RL_2)"
   ]
  },
  {
   "cell_type": "code",
   "execution_count": 137,
   "id": "112bfc97",
   "metadata": {},
   "outputs": [
    {
     "data": {
      "text/plain": [
       "RC_Circuit(resistance=55, capacitance=0.1)"
      ]
     },
     "execution_count": 137,
     "metadata": {},
     "output_type": "execute_result"
    }
   ],
   "source": [
    "RC_1"
   ]
  },
  {
   "cell_type": "code",
   "execution_count": 138,
   "id": "bbb7ffdf",
   "metadata": {},
   "outputs": [
    {
     "data": {
      "text/plain": [
       "RC_Circuit(resistance=40, capacitance=0.01)"
      ]
     },
     "execution_count": 138,
     "metadata": {},
     "output_type": "execute_result"
    }
   ],
   "source": [
    "RC_2"
   ]
  },
  {
   "cell_type": "code",
   "execution_count": 139,
   "id": "6b2e333f",
   "metadata": {},
   "outputs": [
    {
     "name": "stdout",
     "output_type": "stream",
     "text": [
      "mappingproxy({'__dict__': <attribute '__dict__' of 'RC_Circuit' objects>,\n",
      "              '__doc__': 'A class to represent an RC series circuit.',\n",
      "              '__init__': <function RC_Circuit.__init__ at 0x0000024510B44C20>,\n",
      "              '__module__': '__main__',\n",
      "              '__repr__': <function RC_Circuit.__repr__ at 0x0000024510B454E0>,\n",
      "              '__str__': <function RC_Circuit.__str__ at 0x0000024510B45580>,\n",
      "              '__weakref__': <attribute '__weakref__' of 'RC_Circuit' objects>,\n",
      "              'calculate_reactance': <staticmethod(<function RC_Circuit.calculate_reactance at 0x0000024510B45440>)>,\n",
      "              'capacitance': <property object at 0x0000024510B49FD0>,\n",
      "              'impedance': <function RC_Circuit.impedance at 0x0000024510B45300>,\n",
      "              'resistance': <property object at 0x0000024510B49530>,\n",
      "              'standard_values': <classmethod(<function RC_Circuit.standard_values at 0x0000024510B453A0>)>})\n"
     ]
    }
   ],
   "source": [
    "pprint(RC_Circuit.__dict__)"
   ]
  },
  {
   "cell_type": "code",
   "execution_count": 140,
   "id": "463c5158",
   "metadata": {},
   "outputs": [
    {
     "name": "stdout",
     "output_type": "stream",
     "text": [
      "mappingproxy({'__dict__': <attribute '__dict__' of 'RC_Circuit' objects>,\n",
      "              '__doc__': 'A class to represent an RC series circuit.',\n",
      "              '__init__': <function RC_Circuit.__init__ at 0x0000024510B44C20>,\n",
      "              '__module__': '__main__',\n",
      "              '__repr__': <function RC_Circuit.__repr__ at 0x0000024510B454E0>,\n",
      "              '__str__': <function RC_Circuit.__str__ at 0x0000024510B45580>,\n",
      "              '__weakref__': <attribute '__weakref__' of 'RC_Circuit' objects>,\n",
      "              'calculate_reactance': <staticmethod(<function RC_Circuit.calculate_reactance at 0x0000024510B45440>)>,\n",
      "              'capacitance': <property object at 0x0000024510B49FD0>,\n",
      "              'impedance': <function RC_Circuit.impedance at 0x0000024510B45300>,\n",
      "              'resistance': <property object at 0x0000024510B49530>,\n",
      "              'standard_values': <classmethod(<function RC_Circuit.standard_values at 0x0000024510B453A0>)>})\n"
     ]
    }
   ],
   "source": [
    "pprint(vars(RC_Circuit))"
   ]
  },
  {
   "cell_type": "code",
   "execution_count": 141,
   "id": "44d088d2",
   "metadata": {},
   "outputs": [
    {
     "name": "stdout",
     "output_type": "stream",
     "text": [
      "{'_resistance': 55, '_capacitance': 0.1}\n",
      "{'_resistance': 40, '_capacitance': 0.01}\n"
     ]
    }
   ],
   "source": [
    "print(RC_1.__dict__)\n",
    "print(RC_2.__dict__)"
   ]
  },
  {
   "cell_type": "code",
   "execution_count": 142,
   "id": "72393258",
   "metadata": {},
   "outputs": [
    {
     "name": "stdout",
     "output_type": "stream",
     "text": [
      "Help on class RC_Circuit in module __main__:\n",
      "\n",
      "class RC_Circuit(builtins.object)\n",
      " |  RC_Circuit(resistance: float = 1.0, capacitance: float = 1.0) -> None\n",
      " |\n",
      " |  A class to represent an RC series circuit.\n",
      " |\n",
      " |  Methods defined here:\n",
      " |\n",
      " |  __init__(self, resistance: float = 1.0, capacitance: float = 1.0) -> None\n",
      " |      Initialize the series RC circuit with resistance and capacitance.\n",
      " |\n",
      " |      Parameters:\n",
      " |          resistance : Resistance in ohms. Default value is 1.0.\n",
      " |          capacitance : Capacitance in farads. Default value is 1.0.\n",
      " |\n",
      " |  __repr__(self) -> str\n",
      " |      A  string  representation of the RC Circuit\n",
      " |\n",
      " |  __str__(self) -> str\n",
      " |      A user-friendly  representation of RC Circuit\n",
      " |\n",
      " |  impedance(self, frequency: float) -> float\n",
      " |      Calculate the impedance of the RC circuit.\n",
      " |      Parameter:\n",
      " |               frequency (float): Frequency in hertz.\n",
      " |      Returns:\n",
      " |             Impedance in ohms.\n",
      " |\n",
      " |  ----------------------------------------------------------------------\n",
      " |  Class methods defined here:\n",
      " |\n",
      " |  standard_values() -> 'RC Circuit'\n",
      " |      Class method to create an RC circuit with standard values.\n",
      " |\n",
      " |  ----------------------------------------------------------------------\n",
      " |  Static methods defined here:\n",
      " |\n",
      " |  calculate_reactance(capacitance_1: float, frequency: float) -> float\n",
      " |      Static method to calculate the capacitive reactance.\n",
      " |\n",
      " |      Parameters:\n",
      " |          capacitance : Capacitance in farads.\n",
      " |          frequency : Frequency in hertz.\n",
      " |\n",
      " |      Returns:\n",
      " |          Reactance in ohms.\n",
      " |\n",
      " |  ----------------------------------------------------------------------\n",
      " |  Data descriptors defined here:\n",
      " |\n",
      " |  __dict__\n",
      " |      dictionary for instance variables\n",
      " |\n",
      " |  __weakref__\n",
      " |      list of weak references to the object\n",
      " |\n",
      " |  capacitance\n",
      " |      Get the capacitance value.\n",
      " |\n",
      " |  resistance\n",
      " |      Get the resistance value.\n",
      "\n"
     ]
    }
   ],
   "source": [
    "help(RC_Circuit)"
   ]
  },
  {
   "cell_type": "code",
   "execution_count": 143,
   "id": "6b27e9c4",
   "metadata": {},
   "outputs": [
    {
     "name": "stdout",
     "output_type": "stream",
     "text": [
      "A class to represent an RC series circuit.\n",
      "Method: __init__,   Docstring: Initialize the series RC circuit with resistance and capacitance.\n",
      "\n",
      "        Parameters:\n",
      "            resistance : Resistance in ohms. Default value is 1.0.\n",
      "            capacitance : Capacitance in farads. Default value is 1.0.\n",
      "        ,   Annotations: {'resistance': <class 'float'>, 'capacitance': <class 'float'>, 'return': None}\n",
      "Method: impedance,   Docstring: Calculate the impedance of the RC circuit.\n",
      "        Parameter:\n",
      "                 frequency (float): Frequency in hertz.\n",
      "        Returns:\n",
      "               Impedance in ohms.\n",
      "        ,   Annotations: {'frequency': <class 'float'>, 'return': <class 'float'>}\n",
      "Method: standard_values,   Docstring: Class method to create an RC circuit with standard values.,   Annotations: {'return': 'RC Circuit'}\n",
      "Method: calculate_reactance,   Docstring: Static method to calculate the capacitive reactance.\n",
      "\n",
      "        Parameters:\n",
      "            capacitance : Capacitance in farads.\n",
      "            frequency : Frequency in hertz.\n",
      "\n",
      "        Returns:\n",
      "            Reactance in ohms.\n",
      "        ,   Annotations: {'capacitance_1': <class 'float'>, 'frequency': <class 'float'>, 'return': <class 'float'>}\n",
      "Method: __repr__,   Docstring: A  string  representation of the RC Circuit,   Annotations: {'return': <class 'str'>}\n",
      "Method: __str__,   Docstring: A user-friendly  representation of RC Circuit,   Annotations: {'return': <class 'str'>}\n"
     ]
    }
   ],
   "source": [
    "print(RC_Circuit.__doc__)\n",
    "for method in [\n",
    "    RC_Circuit.__init__,\n",
    "    RC_Circuit.impedance,\n",
    "    RC_Circuit.standard_values,\n",
    "    RC_Circuit.calculate_reactance,\n",
    "    RC_Circuit.__repr__,\n",
    "    RC_Circuit.__str__,\n",
    "]:\n",
    "    if isinstance(method, property):\n",
    "        print(f\"(Method: {method.fget.__name__}),  (Docstring: {method.__doc__}),  (Annotations: {method.fget.__annotations__})\")\n",
    "    else:\n",
    "        print(f\"Method: {method.__name__},   Docstring: {method.__doc__},   Annotations: {method.__annotations__}\")"
   ]
  },
  {
   "cell_type": "code",
   "execution_count": 144,
   "id": "ad2768da",
   "metadata": {},
   "outputs": [
    {
     "name": "stdout",
     "output_type": "stream",
     "text": [
      "RC Series Circuit with resistance: 1.0 ohms, capacitance: 1.0 F\n"
     ]
    },
    {
     "data": {
      "text/plain": [
       "RC_Circuit(resistance=1.0, capacitance=1.0)"
      ]
     },
     "execution_count": 144,
     "metadata": {},
     "output_type": "execute_result"
    }
   ],
   "source": [
    "RC_3 = RC_Circuit()\n",
    "print(RC_3)\n",
    "RC_3"
   ]
  },
  {
   "cell_type": "markdown",
   "id": "ecad779e",
   "metadata": {},
   "source": [
    " **4.** ***RLC Parallel Circuit***"
   ]
  },
  {
   "cell_type": "code",
   "execution_count": 145,
   "id": "a7c6094f",
   "metadata": {},
   "outputs": [],
   "source": [
    "import math\n",
    "class RLC_Circuit:\n",
    "    \"\"\"A class to represent an RLC parallel circuit.\"\"\"\n",
    "    def __init__(self, resistance: float = 1.0, inductance: float = 1.0, capacitance: float = 1.0) -> None:\n",
    "        \"\"\"\n",
    "        Initialize the parallel RLC circuit with resistance, inductance, and capacitance.\n",
    "        Parameters:\n",
    "            resistance : Resistance in ohms. \n",
    "            inductance : Inductance in henry. \n",
    "            capacitance : Capacitance in farads. \n",
    "        \"\"\"\n",
    "        self.resistance = resistance\n",
    "        self.inductance = inductance\n",
    "        self.capacitance = capacitance\n",
    "    @property\n",
    "    def resistance(self) -> float:\n",
    "        \"\"\"Get the resistance in ohms.\"\"\"\n",
    "        return self._resistance\n",
    "    @resistance.setter\n",
    "    def resistance(self, value: float) -> None:\n",
    "        \"\"\"Set the resistance in ohms.\"\"\"\n",
    "        self._resistance = value\n",
    "    @property\n",
    "    def inductance(self) -> float:\n",
    "        \"\"\"Get the inductance in henries.\"\"\"\n",
    "        return self._inductance\n",
    "    @inductance.setter\n",
    "    def inductance(self, value: float) -> None:\n",
    "        \"\"\"Set the inductance in henry.\"\"\"\n",
    "        self._inductance = value\n",
    "    @property\n",
    "    def capacitance(self) -> float:\n",
    "        \"\"\"Get the capacitance in farads.\"\"\"\n",
    "        return self._capacitance\n",
    "\n",
    "    @capacitance.setter\n",
    "    def capacitance(self, value: float) -> None:\n",
    "        \"\"\"Set the capacitance in farads.\"\"\"\n",
    "        self._capacitance = value\n",
    "    def total_impedance(self, frequency: float) -> complex:\n",
    "        \"\"\"\n",
    "        Calculate the total impedance of the RLC parallel circuit at a given frequency.\n",
    "        Parameter:\n",
    "            frequency : Frequency in hertz. \n",
    "        Returns:\n",
    "             Total impedance in ohms.\n",
    "        Formula:\n",
    "                impedance of Resistor = Z_R =  R\n",
    "                impedance of inductor = jXl = j * 2 * π * f * L\n",
    "                impedance of capacitor= 1 / -jXc = -j (1 / (2 * π * f * C))\n",
    "            Total_impedance ==> 1 / (1/ Z_R) + (1 / Z_L) + (1 / Z_C))\n",
    "        \"\"\"        \n",
    "        Z_R = self.resistance\n",
    "        Xl = math.pi * 2 * frequency * self.inductance\n",
    "        Xc = math.pi * 2 * frequency * self.capacitance\n",
    "        total_impedance = 1 / (1 / Z_R) + (1 / Xl) + (1 / Xc)\n",
    "        return total_impedance\n",
    "    @staticmethod\n",
    "    def RLC_reactance(capacitance_1: float, inductance_1: float, resistance_1: float,  frequency: float) -> float:\n",
    "        \"\"\"Static method to calculate the capacitive reactance.\n",
    "\n",
    "        Parameters:\n",
    "            capacitance : Capacitance in farads.\n",
    "            frequency : Frequency in hertz.\n",
    "        Returns:\n",
    "            Reactance in ohms.\n",
    "        \"\"\"\n",
    "        return 1 / (2 * math.pi * frequency * capacitance_1),\n",
    "        return (2 * math.pi * frequency * inductance_1),\n",
    "        return (resistance_1)\n",
    "    @classmethod\n",
    "    def standard_values(cls) -> 'RLC Circuit Parallel':\n",
    "        \"\"\"\n",
    "        Create an RLC parallel circuit with standard values (1 ohm, 1 H, 1 F).\n",
    "        \n",
    "        Returns:\n",
    "            RLC Circui tParallel: An instance of the class with standard values.\n",
    "        \"\"\"\n",
    "        return cls(1.0, 1.0, 1.0)\n",
    "        return  1 / (2 * math.pi * math.sqrt(inductance * capacitance))\n",
    "    def __repr__(self) -> str:\n",
    "        return (f\"{type(self).__name__} (resistance={self.resistance}, inductance={self.inductance}, capacitance={self.capacitance})\")\n",
    "\n",
    "    def __str__(self) -> str:\n",
    "        return (f\"RLC Parallel Circuit with resistance: {self.resistance} ohm,inductance: {self.inductance} H, capacitance: {self.capacitance} F\")\n"
   ]
  },
  {
   "cell_type": "code",
   "execution_count": 146,
   "id": "95e0ca16",
   "metadata": {},
   "outputs": [],
   "source": [
    "RLC_1 = RLC_Circuit(15, 0.1, 0.00001)\n",
    "RLC_2= RLC_Circuit(41,0.01,0.005)"
   ]
  },
  {
   "cell_type": "code",
   "execution_count": 147,
   "id": "ec20efeb",
   "metadata": {},
   "outputs": [
    {
     "name": "stdout",
     "output_type": "stream",
     "text": [
      "RLC Parallel Circuit with resistance: 15 ohm,inductance: 0.1 H, capacitance: 1e-05 F\n",
      "RLC Parallel Circuit with resistance: 41 ohm,inductance: 0.01 H, capacitance: 0.005 F\n"
     ]
    }
   ],
   "source": [
    "print(RLC_1)\n",
    "print(RLC_2)"
   ]
  },
  {
   "cell_type": "code",
   "execution_count": 148,
   "id": "d6bd8803",
   "metadata": {},
   "outputs": [
    {
     "data": {
      "text/plain": [
       "RLC_Circuit (resistance=15, inductance=0.1, capacitance=1e-05)"
      ]
     },
     "execution_count": 148,
     "metadata": {},
     "output_type": "execute_result"
    }
   ],
   "source": [
    "RLC_1"
   ]
  },
  {
   "cell_type": "code",
   "execution_count": 149,
   "id": "57739210",
   "metadata": {},
   "outputs": [
    {
     "data": {
      "text/plain": [
       "RLC_Circuit (resistance=41, inductance=0.01, capacitance=0.005)"
      ]
     },
     "execution_count": 149,
     "metadata": {},
     "output_type": "execute_result"
    }
   ],
   "source": [
    "RLC_2"
   ]
  },
  {
   "cell_type": "code",
   "execution_count": 150,
   "id": "83f4cafa",
   "metadata": {},
   "outputs": [
    {
     "name": "stdout",
     "output_type": "stream",
     "text": [
      "mappingproxy({'RLC_reactance': <staticmethod(<function RLC_Circuit.RLC_reactance at 0x0000024510B451C0>)>,\n",
      "              '__dict__': <attribute '__dict__' of 'RLC_Circuit' objects>,\n",
      "              '__doc__': 'A class to represent an RLC parallel circuit.',\n",
      "              '__init__': <function RLC_Circuit.__init__ at 0x00000245106FCF40>,\n",
      "              '__module__': '__main__',\n",
      "              '__repr__': <function RLC_Circuit.__repr__ at 0x0000024510B459E0>,\n",
      "              '__str__': <function RLC_Circuit.__str__ at 0x0000024510B45800>,\n",
      "              '__weakref__': <attribute '__weakref__' of 'RLC_Circuit' objects>,\n",
      "              'capacitance': <property object at 0x0000024510B4A340>,\n",
      "              'inductance': <property object at 0x0000024510B4B2E0>,\n",
      "              'resistance': <property object at 0x0000024510B4ACF0>,\n",
      "              'standard_values': <classmethod(<function RLC_Circuit.standard_values at 0x0000024510B45260>)>,\n",
      "              'total_impedance': <function RLC_Circuit.total_impedance at 0x0000024510B44B80>})\n"
     ]
    }
   ],
   "source": [
    "pprint(RLC_Circuit.__dict__)"
   ]
  },
  {
   "cell_type": "code",
   "execution_count": 151,
   "id": "a1dd28e7",
   "metadata": {},
   "outputs": [
    {
     "name": "stdout",
     "output_type": "stream",
     "text": [
      "mappingproxy({'RLC_reactance': <staticmethod(<function RLC_Circuit.RLC_reactance at 0x0000024510B451C0>)>,\n",
      "              '__dict__': <attribute '__dict__' of 'RLC_Circuit' objects>,\n",
      "              '__doc__': 'A class to represent an RLC parallel circuit.',\n",
      "              '__init__': <function RLC_Circuit.__init__ at 0x00000245106FCF40>,\n",
      "              '__module__': '__main__',\n",
      "              '__repr__': <function RLC_Circuit.__repr__ at 0x0000024510B459E0>,\n",
      "              '__str__': <function RLC_Circuit.__str__ at 0x0000024510B45800>,\n",
      "              '__weakref__': <attribute '__weakref__' of 'RLC_Circuit' objects>,\n",
      "              'capacitance': <property object at 0x0000024510B4A340>,\n",
      "              'inductance': <property object at 0x0000024510B4B2E0>,\n",
      "              'resistance': <property object at 0x0000024510B4ACF0>,\n",
      "              'standard_values': <classmethod(<function RLC_Circuit.standard_values at 0x0000024510B45260>)>,\n",
      "              'total_impedance': <function RLC_Circuit.total_impedance at 0x0000024510B44B80>})\n"
     ]
    }
   ],
   "source": [
    "pprint(vars(RLC_Circuit))"
   ]
  },
  {
   "cell_type": "code",
   "execution_count": 152,
   "id": "37795f35",
   "metadata": {},
   "outputs": [
    {
     "name": "stdout",
     "output_type": "stream",
     "text": [
      "Help on class RLC_Circuit in module __main__:\n",
      "\n",
      "class RLC_Circuit(builtins.object)\n",
      " |  RLC_Circuit(resistance: float = 1.0, inductance: float = 1.0, capacitance: float = 1.0) -> None\n",
      " |\n",
      " |  A class to represent an RLC parallel circuit.\n",
      " |\n",
      " |  Methods defined here:\n",
      " |\n",
      " |  __init__(self, resistance: float = 1.0, inductance: float = 1.0, capacitance: float = 1.0) -> None\n",
      " |      Initialize the parallel RLC circuit with resistance, inductance, and capacitance.\n",
      " |      Parameters:\n",
      " |          resistance : Resistance in ohms.\n",
      " |          inductance : Inductance in henry.\n",
      " |          capacitance : Capacitance in farads.\n",
      " |\n",
      " |  __repr__(self) -> str\n",
      " |      Return repr(self).\n",
      " |\n",
      " |  __str__(self) -> str\n",
      " |      Return str(self).\n",
      " |\n",
      " |  total_impedance(self, frequency: float) -> complex\n",
      " |      Calculate the total impedance of the RLC parallel circuit at a given frequency.\n",
      " |      Parameter:\n",
      " |          frequency : Frequency in hertz.\n",
      " |      Returns:\n",
      " |           Total impedance in ohms.\n",
      " |      Formula:\n",
      " |              impedance of Resistor = Z_R =  R\n",
      " |              impedance of inductor = jXl = j * 2 * π * f * L\n",
      " |              impedance of capacitor= 1 / -jXc = -j (1 / (2 * π * f * C))\n",
      " |          Total_impedance ==> 1 / (1/ Z_R) + (1 / Z_L) + (1 / Z_C))\n",
      " |\n",
      " |  ----------------------------------------------------------------------\n",
      " |  Class methods defined here:\n",
      " |\n",
      " |  standard_values() -> 'RLC Circuit Parallel'\n",
      " |      Create an RLC parallel circuit with standard values (1 ohm, 1 H, 1 F).\n",
      " |\n",
      " |      Returns:\n",
      " |          RLC Circui tParallel: An instance of the class with standard values.\n",
      " |\n",
      " |  ----------------------------------------------------------------------\n",
      " |  Static methods defined here:\n",
      " |\n",
      " |  RLC_reactance(capacitance_1: float, inductance_1: float, resistance_1: float, frequency: float) -> float\n",
      " |      Static method to calculate the capacitive reactance.\n",
      " |\n",
      " |      Parameters:\n",
      " |          capacitance : Capacitance in farads.\n",
      " |          frequency : Frequency in hertz.\n",
      " |      Returns:\n",
      " |          Reactance in ohms.\n",
      " |\n",
      " |  ----------------------------------------------------------------------\n",
      " |  Data descriptors defined here:\n",
      " |\n",
      " |  __dict__\n",
      " |      dictionary for instance variables\n",
      " |\n",
      " |  __weakref__\n",
      " |      list of weak references to the object\n",
      " |\n",
      " |  capacitance\n",
      " |      Get the capacitance in farads.\n",
      " |\n",
      " |  inductance\n",
      " |      Get the inductance in henries.\n",
      " |\n",
      " |  resistance\n",
      " |      Get the resistance in ohms.\n",
      "\n"
     ]
    }
   ],
   "source": [
    "help(RLC_Circuit)"
   ]
  },
  {
   "cell_type": "code",
   "execution_count": 153,
   "id": "f8e07e40",
   "metadata": {},
   "outputs": [
    {
     "name": "stdout",
     "output_type": "stream",
     "text": [
      "{'_resistance': 15, '_inductance': 0.1, '_capacitance': 1e-05}\n",
      "{'_resistance': 41, '_inductance': 0.01, '_capacitance': 0.005}\n"
     ]
    }
   ],
   "source": [
    "print(RLC_1.__dict__)\n",
    "print(RLC_2.__dict__)"
   ]
  },
  {
   "cell_type": "code",
   "execution_count": 154,
   "id": "aebeb435",
   "metadata": {},
   "outputs": [
    {
     "name": "stdout",
     "output_type": "stream",
     "text": [
      "A class to represent an RLC parallel circuit.\n",
      "Method: __init__,   Docstring: \n",
      "        Initialize the parallel RLC circuit with resistance, inductance, and capacitance.\n",
      "        Parameters:\n",
      "            resistance : Resistance in ohms. \n",
      "            inductance : Inductance in henry. \n",
      "            capacitance : Capacitance in farads. \n",
      "        ,   Annotations: {'resistance': <class 'float'>, 'inductance': <class 'float'>, 'capacitance': <class 'float'>, 'return': None}\n",
      "Method: total_impedance,   Docstring: \n",
      "        Calculate the total impedance of the RLC parallel circuit at a given frequency.\n",
      "        Parameter:\n",
      "            frequency : Frequency in hertz. \n",
      "        Returns:\n",
      "             Total impedance in ohms.\n",
      "        Formula:\n",
      "                impedance of Resistor = Z_R =  R\n",
      "                impedance of inductor = jXl = j * 2 * π * f * L\n",
      "                impedance of capacitor= 1 / -jXc = -j (1 / (2 * π * f * C))\n",
      "            Total_impedance ==> 1 / (1/ Z_R) + (1 / Z_L) + (1 / Z_C))\n",
      "        ,   Annotations: {'frequency': <class 'float'>, 'return': <class 'complex'>}\n",
      "Method: standard_values,   Docstring: \n",
      "        Create an RLC parallel circuit with standard values (1 ohm, 1 H, 1 F).\n",
      "        \n",
      "        Returns:\n",
      "            RLC Circui tParallel: An instance of the class with standard values.\n",
      "        ,   Annotations: {'return': 'RLC Circuit Parallel'}\n",
      "Method: RLC_reactance,   Docstring: Static method to calculate the capacitive reactance.\n",
      "\n",
      "        Parameters:\n",
      "            capacitance : Capacitance in farads.\n",
      "            frequency : Frequency in hertz.\n",
      "        Returns:\n",
      "            Reactance in ohms.\n",
      "        ,   Annotations: {'capacitance_1': <class 'float'>, 'inductance_1': <class 'float'>, 'resistance_1': <class 'float'>, 'frequency': <class 'float'>, 'return': <class 'float'>}\n",
      "Method: __repr__,   Docstring: None,   Annotations: {'return': <class 'str'>}\n",
      "Method: __str__,   Docstring: None,   Annotations: {'return': <class 'str'>}\n"
     ]
    }
   ],
   "source": [
    "print(RLC_Circuit.__doc__)\n",
    "for method in [\n",
    "    RLC_Circuit.__init__,\n",
    "    RLC_Circuit.total_impedance,\n",
    "    RLC_Circuit.standard_values,\n",
    "    RLC_Circuit.RLC_reactance,\n",
    "    RLC_Circuit.__repr__,\n",
    "    RLC_Circuit.__str__,\n",
    "]:\n",
    "    if isinstance(method, property):\n",
    "        print(f\"(Method: {method.fget.__name__}),  (Docstring: {method.__doc__}),  (Annotations: {method.fget.__annotations__})\")\n",
    "    else:\n",
    "        print(f\"Method: {method.__name__},   Docstring: {method.__doc__},   Annotations: {method.__annotations__}\")"
   ]
  },
  {
   "cell_type": "code",
   "execution_count": 155,
   "id": "8dccb6e9",
   "metadata": {},
   "outputs": [
    {
     "name": "stdout",
     "output_type": "stream",
     "text": [
      "RLC Parallel Circuit with resistance: 1.0 ohm,inductance: 1.0 H, capacitance: 1.0 F\n"
     ]
    },
    {
     "data": {
      "text/plain": [
       "RLC_Circuit (resistance=1.0, inductance=1.0, capacitance=1.0)"
      ]
     },
     "execution_count": 155,
     "metadata": {},
     "output_type": "execute_result"
    }
   ],
   "source": [
    "RLC = RLC_Circuit()\n",
    "print(RLC)\n",
    "RLC"
   ]
  },
  {
   "cell_type": "markdown",
   "id": "ea7a2acb",
   "metadata": {},
   "source": [
    " **5.** ***RLC Series Circuit***"
   ]
  },
  {
   "cell_type": "code",
   "execution_count": 156,
   "id": "764570b9",
   "metadata": {},
   "outputs": [],
   "source": [
    "import math\n",
    "class RLC_Series_Circuit:\n",
    "    \"\"\"A class to represent a series RLC circuit.\"\"\"  \n",
    "    def __init__(self, resistance: float = 1.0, inductance: float = 1.0, capacitance: float = 1.0) -> None:\n",
    "        \"\"\"\n",
    "        Initialize the series RLC circuit with resistance, inductance, and capacitance.   \n",
    "        Parameter:\n",
    "            resistance : Resistance in ohms. \n",
    "            inductance: Inductance in henries. \n",
    "            capacitance : Capacitance in farads. \n",
    "        \"\"\"\n",
    "        self.resistance = resistance\n",
    "        self.inductance = inductance\n",
    "        self.capacitance = capacitance\n",
    "    @property\n",
    "    def resistance(self) -> float:\n",
    "        \"\"\"Get the resistance in ohms.\"\"\"\n",
    "        return self._resistance\n",
    "\n",
    "    @resistance.setter\n",
    "    def resistance(self, value: float) -> None:\n",
    "        \"\"\"Set the resistance in ohms.\"\"\"\n",
    "        self._resistance = value\n",
    "    @property\n",
    "    def inductance(self) -> float:\n",
    "        \"\"\"Get the inductance in henries.\"\"\"\n",
    "        return self._inductance\n",
    "    @inductance.setter\n",
    "    def inductance(self, value: float) -> None:\n",
    "        \"\"\"Set the inductance in henries.\"\"\"\n",
    "        self._inductance = value\n",
    "    @property\n",
    "    def capacitance(self) -> float:\n",
    "        \"\"\"Get the capacitance in farads.\"\"\"\n",
    "        return self._capacitance\n",
    "    @capacitance.setter\n",
    "    def capacitance(self, value: float) -> None:\n",
    "        \"\"\"Set the capacitance in farads.\"\"\"\n",
    "        self._capacitance = value\n",
    "\n",
    "    def total_impedance(self, frequency: float) -> complex:\n",
    "        \"\"\"\n",
    "        Calculate the total impedance of the RLC series circuit at a given frequency.\n",
    "        Parameter:\n",
    "            frequency (float): Frequency in hertz.\n",
    "        Returns:\n",
    "            Total impedance in ohms.\n",
    "        Formula:\n",
    "            Z_R = R\n",
    "            Z_L = jXl = j * 2 * π * f * L\n",
    "            Z_C = -j 1/ (Xc) = -j (1 / (2 * π * f * C))\n",
    "            Total impedance Z_total = Z_R + Z_L + Z_C\n",
    "        \"\"\"\n",
    "        Z_R = self.resistance\n",
    "        Z_L = 1j * 2 * math.p1 * frequency * self.inductance\n",
    "        Z_C = -1j / (2 * math.pi * frequency * self.capacitance)\n",
    "        return Z_R + Z_L + Z_C\n",
    "    @classmethod\n",
    "    def standard_values(cls) -> 'RLC_Circuit':\n",
    "        \"\"\"\n",
    "        Create an RLC series circuit with standard values (1 ohm, 1 H, 1 F).\n",
    "        \n",
    "        Returns:\n",
    "            RLC_Circuit: An instance of the class with standard values.\n",
    "        \"\"\"\n",
    "        return cls(1.0, 1.0, 1.0)\n",
    "    @staticmethod\n",
    "    def resonant_frequency(inductance_1: float, capacitance_2: float) -> float:\n",
    "        \"\"\"\n",
    "        Calculate the resonant frequency for a series RLC circuit.\n",
    "        Args:\n",
    "            inductance (float): Inductance in henries.\n",
    "            capacitance (float): Capacitance in farads.\n",
    "        Returns:\n",
    "            float: The resonant frequency in hertz.\n",
    "        Formula:\n",
    "            f_r = 1 / (2 * π * sqrt(L * C))\n",
    "        \"\"\"\n",
    "        return 1 / (2 * math.pi * math.sqrt(inductance_1* capacitance_1))\n",
    "    def __repr__(self) -> str:\n",
    "        \"\"\"A  string  representation of the Resistor\"\"\"\n",
    "        return (f\"{type(self).__name__}(resistance={self.resistance}, inductance={self.inductance}, capacitance={self.capacitance})\")\n",
    "    def __str__(self) -> str:\n",
    "        \"\"\"A user-friendly  representation of Resistor\"\"\"\n",
    "        return (f\"RLC Series Circuit with resistance: {self.resistance} ohm, inductance: {self.inductance} H, capacitance: {self.capacitance} F\")\n"
   ]
  },
  {
   "cell_type": "code",
   "execution_count": 159,
   "id": "05fdd795",
   "metadata": {},
   "outputs": [],
   "source": [
    "RLC_series_circuit_1 = RLC_Series_Circuit(resistance=29, inductance=0.2, capacitance=0.1)\n",
    "RLC_series_circuit_2 = RLC_Series_Circuit(resistance=35, inductance=0.0001, capacitance=0.05)"
   ]
  },
  {
   "cell_type": "code",
   "execution_count": 160,
   "id": "5c1d5c88",
   "metadata": {},
   "outputs": [
    {
     "name": "stdout",
     "output_type": "stream",
     "text": [
      "RLC Series Circuit with resistance: 29 ohm, inductance: 0.2 H, capacitance: 0.1 F\n",
      "RLC Series Circuit with resistance: 35 ohm, inductance: 0.0001 H, capacitance: 0.05 F\n"
     ]
    }
   ],
   "source": [
    "print(RLC_series_circuit_1)\n",
    "print(RLC_series_circuit_2)"
   ]
  },
  {
   "cell_type": "code",
   "execution_count": 161,
   "id": "7be62cc9",
   "metadata": {},
   "outputs": [
    {
     "name": "stdout",
     "output_type": "stream",
     "text": [
      "mappingproxy({'__dict__': <attribute '__dict__' of 'RLC_Series_Circuit' objects>,\n",
      "              '__doc__': 'A class to represent a series RLC circuit.',\n",
      "              '__init__': <function RLC_Series_Circuit.__init__ at 0x0000024510B45D00>,\n",
      "              '__module__': '__main__',\n",
      "              '__repr__': <function RLC_Series_Circuit.__repr__ at 0x0000024510B46340>,\n",
      "              '__str__': <function RLC_Series_Circuit.__str__ at 0x0000024510B463E0>,\n",
      "              '__weakref__': <attribute '__weakref__' of 'RLC_Series_Circuit' objects>,\n",
      "              'capacitance': <property object at 0x0000024510B69D00>,\n",
      "              'inductance': <property object at 0x0000024510B69DA0>,\n",
      "              'resistance': <property object at 0x0000024510B69D50>,\n",
      "              'resonant_frequency': <staticmethod(<function RLC_Series_Circuit.resonant_frequency at 0x0000024510B462A0>)>,\n",
      "              'standard_values': <classmethod(<function RLC_Series_Circuit.standard_values at 0x0000024510B46200>)>,\n",
      "              'total_impedance': <function RLC_Series_Circuit.total_impedance at 0x0000024510B46160>})\n"
     ]
    }
   ],
   "source": [
    "pprint(RLC_Series_Circuit.__dict__)"
   ]
  },
  {
   "cell_type": "code",
   "execution_count": 162,
   "id": "28e1089e",
   "metadata": {},
   "outputs": [
    {
     "name": "stdout",
     "output_type": "stream",
     "text": [
      "mappingproxy({'__dict__': <attribute '__dict__' of 'RLC_Series_Circuit' objects>,\n",
      "              '__doc__': 'A class to represent a series RLC circuit.',\n",
      "              '__init__': <function RLC_Series_Circuit.__init__ at 0x0000024510B45D00>,\n",
      "              '__module__': '__main__',\n",
      "              '__repr__': <function RLC_Series_Circuit.__repr__ at 0x0000024510B46340>,\n",
      "              '__str__': <function RLC_Series_Circuit.__str__ at 0x0000024510B463E0>,\n",
      "              '__weakref__': <attribute '__weakref__' of 'RLC_Series_Circuit' objects>,\n",
      "              'capacitance': <property object at 0x0000024510B69D00>,\n",
      "              'inductance': <property object at 0x0000024510B69DA0>,\n",
      "              'resistance': <property object at 0x0000024510B69D50>,\n",
      "              'resonant_frequency': <staticmethod(<function RLC_Series_Circuit.resonant_frequency at 0x0000024510B462A0>)>,\n",
      "              'standard_values': <classmethod(<function RLC_Series_Circuit.standard_values at 0x0000024510B46200>)>,\n",
      "              'total_impedance': <function RLC_Series_Circuit.total_impedance at 0x0000024510B46160>})\n"
     ]
    }
   ],
   "source": [
    "pprint(vars((RLC_Series_Circuit)))"
   ]
  },
  {
   "cell_type": "code",
   "execution_count": 163,
   "id": "339281f8",
   "metadata": {},
   "outputs": [
    {
     "name": "stdout",
     "output_type": "stream",
     "text": [
      "{'_capacitance': 0.1, '_inductance': 0.2, '_resistance': 29}\n",
      "{'_capacitance': 0.05, '_inductance': 0.0001, '_resistance': 35}\n"
     ]
    }
   ],
   "source": [
    "pprint(RLC_series_circuit_1.__dict__)\n",
    "pprint(RLC_series_circuit_2.__dict__)"
   ]
  },
  {
   "cell_type": "code",
   "execution_count": 164,
   "id": "c2efd549",
   "metadata": {},
   "outputs": [
    {
     "name": "stdout",
     "output_type": "stream",
     "text": [
      "A class to represent a series RLC circuit.\n",
      "Method: __init__,   Docstring: \n",
      "        Initialize the series RLC circuit with resistance, inductance, and capacitance.   \n",
      "        Parameter:\n",
      "            resistance : Resistance in ohms. \n",
      "            inductance: Inductance in henries. \n",
      "            capacitance : Capacitance in farads. \n",
      "        ,   Annotations: {'resistance': <class 'float'>, 'inductance': <class 'float'>, 'capacitance': <class 'float'>, 'return': None}\n",
      "Method: total_impedance,   Docstring: \n",
      "        Calculate the total impedance of the RLC series circuit at a given frequency.\n",
      "        Parameter:\n",
      "            frequency (float): Frequency in hertz.\n",
      "        Returns:\n",
      "            Total impedance in ohms.\n",
      "        Formula:\n",
      "            Z_R = R\n",
      "            Z_L = jXl = j * 2 * π * f * L\n",
      "            Z_C = -j 1/ (Xc) = -j (1 / (2 * π * f * C))\n",
      "            Total impedance Z_total = Z_R + Z_L + Z_C\n",
      "        ,   Annotations: {'frequency': <class 'float'>, 'return': <class 'complex'>}\n",
      "Method: standard_values,   Docstring: \n",
      "        Create an RLC series circuit with standard values (1 ohm, 1 H, 1 F).\n",
      "        \n",
      "        Returns:\n",
      "            RLC_Circuit: An instance of the class with standard values.\n",
      "        ,   Annotations: {'return': 'RLC_Circuit'}\n",
      "Method: resonant_frequency,   Docstring: \n",
      "        Calculate the resonant frequency for a series RLC circuit.\n",
      "        Args:\n",
      "            inductance (float): Inductance in henries.\n",
      "            capacitance (float): Capacitance in farads.\n",
      "        Returns:\n",
      "            float: The resonant frequency in hertz.\n",
      "        Formula:\n",
      "            f_r = 1 / (2 * π * sqrt(L * C))\n",
      "        ,   Annotations: {'inductance_1': <class 'float'>, 'capacitance_2': <class 'float'>, 'return': <class 'float'>}\n",
      "Method: __repr__,   Docstring: A  string  representation of the Resistor,   Annotations: {'return': <class 'str'>}\n",
      "Method: __str__,   Docstring: A user-friendly  representation of Resistor,   Annotations: {'return': <class 'str'>}\n"
     ]
    }
   ],
   "source": [
    "print(RLC_Series_Circuit.__doc__)\n",
    "for method in [\n",
    "    RLC_Series_Circuit.__init__,\n",
    "    RLC_Series_Circuit.total_impedance,\n",
    "    RLC_Series_Circuit.standard_values,\n",
    "    RLC_Series_Circuit.resonant_frequency,\n",
    "    RLC_Series_Circuit.__repr__,\n",
    "    RLC_Series_Circuit.__str__,\n",
    "]:\n",
    "    if isinstance(method, property):\n",
    "        print(f\"(Method: {method.fget.__name__}),  (Docstring: {method.__doc__}),  (Annotations: {method.fget.__annotations__})\")\n",
    "    else:\n",
    "        print(f\"Method: {method.__name__},   Docstring: {method.__doc__},   Annotations: {method.__annotations__}\")"
   ]
  },
  {
   "cell_type": "code",
   "execution_count": 165,
   "id": "87d253e3",
   "metadata": {},
   "outputs": [
    {
     "name": "stdout",
     "output_type": "stream",
     "text": [
      "RLC Series Circuit with resistance: 1.0 ohm, inductance: 1.0 H, capacitance: 1.0 F\n"
     ]
    },
    {
     "data": {
      "text/plain": [
       "RLC_Series_Circuit(resistance=1.0, inductance=1.0, capacitance=1.0)"
      ]
     },
     "execution_count": 165,
     "metadata": {},
     "output_type": "execute_result"
    }
   ],
   "source": [
    "RLC_Series_Circuit_3 = RLC_Series_Circuit()\n",
    "print(RLC_Series_Circuit_3)\n",
    "RLC_Series_Circuit_3"
   ]
  },
  {
   "cell_type": "markdown",
   "id": "99e40f33",
   "metadata": {},
   "source": [
    " **6.** ***RLC Parallel Circuit***"
   ]
  },
  {
   "cell_type": "code",
   "execution_count": 166,
   "id": "ca26d276",
   "metadata": {},
   "outputs": [],
   "source": [
    " import math\n",
    "class RLC_Parallel_resonance_Circuit:\n",
    "    \"\"\"A class to represent a parallel RLC circuit.\"\"\"\n",
    "    \n",
    "    def __init__(self, resistance: float = 1.0, inductance: float = 1.0, capacitance: float = 1.0) -> None:\n",
    "        \"\"\"\n",
    "        Initialize the parallel RLC circuit with resistance, inductance, and capacitance.\n",
    "        \n",
    "        Parameters:\n",
    "            resistance : Resistance in ohms.\n",
    "            inductance : Inductance in henries.\n",
    "            capacitance : Capacitance in farads.\n",
    "        \"\"\"\n",
    "        self.resistance = resistance\n",
    "        self.inductance = inductance\n",
    "        self.capacitance = capacitance\n",
    "\n",
    "    @property\n",
    "    def resistance(self) -> float:\n",
    "        \"\"\"Get the resistance in ohm.\"\"\"\n",
    "        return self._resistance\n",
    "\n",
    "    @resistance.setter\n",
    "    def resistance(self, value: float) -> None:\n",
    "        \"\"\"Set the resistance in ohm.\"\"\"\n",
    "        self._resistance = value\n",
    "\n",
    "    @property\n",
    "    def inductance(self) -> float:\n",
    "        \"\"\"Get the inductance in henry.\"\"\"\n",
    "        return self._inductance\n",
    "\n",
    "    @inductance.setter\n",
    "    def inductance(self, value: float) -> None:\n",
    "        \"\"\"Set the inductance in henry.\"\"\"\n",
    "        self._inductance = value\n",
    "\n",
    "    @property\n",
    "    def capacitance(self) -> float:\n",
    "        \"\"\"Get the capacitance in farad.\"\"\"\n",
    "        return self._capacitance\n",
    "\n",
    "    @capacitance.setter\n",
    "    def capacitance(self, value: float) -> None:\n",
    "        \"\"\"Set the capacitance in farad.\"\"\"\n",
    "        self._capacitance = value\n",
    "\n",
    "    def total_impedance(self, frequency: float) -> complex:\n",
    "        \"\"\"\n",
    "        Calculate the total impedance of the RLC parallel circuit at a given frequency.\n",
    "        \n",
    "        Args:\n",
    "            frequency (float): Frequency in hertz.\n",
    "        \n",
    "        Returns:\n",
    "               Total impedance in ohms.\n",
    "        Formula:\n",
    "                Y_R = 1 / self.resistance\n",
    "                Y_L = 1 / (1j *  2 * π * f * L)\n",
    "                Y_C = 1j *  2 * π * f *)\n",
    "        \"Y\" is the addmittance\n",
    "        \"\"\"\n",
    "        Y_R = 1 / self.resistance\n",
    "        Y_L = 1 / (1j * 2 * math.pi * frequency * self.inductance)\n",
    "        Y_C = 1j * 2 * math.pi * frequency * self.capacitance\n",
    "        Y_total = Y_R + Y_L + Y_C\n",
    "        return  Y_total\n",
    "    @staticmethod\n",
    "    def resonance_frequency(inductance3e_1: float, capacitance_1: float) -> float:\n",
    "        \"\"\"\n",
    "        Calculate the resonance frequency of the RLC parallel circuit.\n",
    "        Returns:\n",
    "           Resonance frequency in hertz.\n",
    "        \"\"\"\n",
    "        return 1 / (2 * math.pi * math.sqrt(inductance * capacitance))\n",
    "    @classmethod\n",
    "    def standard_values(cls):\n",
    "        \"\"\"\n",
    "        Create an RLC parallel circuit with standard values (1 ohm, 1 H, 1 F).\n",
    "        Returns:\n",
    "            RLC_Circuit: An instance of the class with standard values.\n",
    "        \"\"\"\n",
    "        return cls(1.0, 1.0, 1.0)\n",
    "\n",
    "    def __repr__(self) -> str:\n",
    "        \"\"\"A  string  representation of the Resistor\"\"\"\n",
    "        return (f\"{type(self).__name__}(resistance={self.resistance}, inductance={self.inductance}, \"\n",
    "                f\"capacitance={self.capacitance})\")\n",
    "    def __str__(self) -> str:\n",
    "        \"\"\"A  string  representation of the Resistor\"\"\"    \n",
    "        return (f\"RLC Parallel Circuit with resistance: {self.resistance} ohm, inductance: {self.inductance} H, capacitance: {self.capacitance} F\")\n"
   ]
  },
  {
   "cell_type": "code",
   "execution_count": 167,
   "id": "c227e8bc",
   "metadata": {},
   "outputs": [],
   "source": [
    "RLC_parallel_resonance_1 = RLC_Parallel_resonance_Circuit(resistance=50, inductance=0.1, capacitance=0.001)\n",
    "RLC_parallel_resonance_2 = RLC_Parallel_resonance_Circuit(resistance=80, inductance=0.1, capacitance=0.001)"
   ]
  },
  {
   "cell_type": "code",
   "execution_count": 168,
   "id": "319cd2fd",
   "metadata": {},
   "outputs": [
    {
     "name": "stdout",
     "output_type": "stream",
     "text": [
      "RLC Parallel Circuit with resistance: 50 ohm, inductance: 0.1 H, capacitance: 0.001 F\n",
      "RLC Parallel Circuit with resistance: 80 ohm, inductance: 0.1 H, capacitance: 0.001 F\n"
     ]
    }
   ],
   "source": [
    "print(RLC_parallel_resonance_1)\n",
    "print(RLC_parallel_resonance_2)"
   ]
  },
  {
   "cell_type": "code",
   "execution_count": 169,
   "id": "187b0763",
   "metadata": {},
   "outputs": [
    {
     "name": "stdout",
     "output_type": "stream",
     "text": [
      "mappingproxy({'__dict__': <attribute '__dict__' of 'RLC_Parallel_resonance_Circuit' objects>,\n",
      "              '__doc__': 'A class to represent a parallel RLC circuit.',\n",
      "              '__init__': <function RLC_Parallel_resonance_Circuit.__init__ at 0x0000024510B46700>,\n",
      "              '__module__': '__main__',\n",
      "              '__repr__': <function RLC_Parallel_resonance_Circuit.__repr__ at 0x0000024510B46CA0>,\n",
      "              '__str__': <function RLC_Parallel_resonance_Circuit.__str__ at 0x0000024510B46D40>,\n",
      "              '__weakref__': <attribute '__weakref__' of 'RLC_Parallel_resonance_Circuit' objects>,\n",
      "              'capacitance': <property object at 0x0000024510B6BB00>,\n",
      "              'inductance': <property object at 0x0000024510B68950>,\n",
      "              'resistance': <property object at 0x0000024510B68A90>,\n",
      "              'resonance_frequency': <staticmethod(<function RLC_Parallel_resonance_Circuit.resonance_frequency at 0x0000024510B46B60>)>,\n",
      "              'standard_values': <classmethod(<function RLC_Parallel_resonance_Circuit.standard_values at 0x0000024510B46C00>)>,\n",
      "              'total_impedance': <function RLC_Parallel_resonance_Circuit.total_impedance at 0x0000024510B46AC0>})\n"
     ]
    }
   ],
   "source": [
    "pprint(RLC_Parallel_resonance_Circuit.__dict__)"
   ]
  },
  {
   "cell_type": "code",
   "execution_count": 170,
   "id": "b57e7d13",
   "metadata": {},
   "outputs": [
    {
     "name": "stdout",
     "output_type": "stream",
     "text": [
      "Help on class RLC_Parallel_resonance_Circuit in module __main__:\n",
      "\n",
      "class RLC_Parallel_resonance_Circuit(builtins.object)\n",
      " |  RLC_Parallel_resonance_Circuit(resistance: float = 1.0, inductance: float = 1.0, capacitance: float = 1.0) -> None\n",
      " |\n",
      " |  A class to represent a parallel RLC circuit.\n",
      " |\n",
      " |  Methods defined here:\n",
      " |\n",
      " |  __init__(self, resistance: float = 1.0, inductance: float = 1.0, capacitance: float = 1.0) -> None\n",
      " |      Initialize the parallel RLC circuit with resistance, inductance, and capacitance.\n",
      " |\n",
      " |      Parameters:\n",
      " |          resistance : Resistance in ohms.\n",
      " |          inductance : Inductance in henries.\n",
      " |          capacitance : Capacitance in farads.\n",
      " |\n",
      " |  __repr__(self) -> str\n",
      " |      A  string  representation of the Resistor\n",
      " |\n",
      " |  __str__(self) -> str\n",
      " |      A  string  representation of the Resistor\n",
      " |\n",
      " |  total_impedance(self, frequency: float) -> complex\n",
      " |      Calculate the total impedance of the RLC parallel circuit at a given frequency.\n",
      " |\n",
      " |      Args:\n",
      " |          frequency (float): Frequency in hertz.\n",
      " |\n",
      " |      Returns:\n",
      " |             Total impedance in ohms.\n",
      " |      Formula:\n",
      " |              Y_R = 1 / self.resistance\n",
      " |              Y_L = 1 / (1j *  2 * π * f * L)\n",
      " |              Y_C = 1j *  2 * π * f *)\n",
      " |      \"Y\" is the addmittance\n",
      " |\n",
      " |  ----------------------------------------------------------------------\n",
      " |  Class methods defined here:\n",
      " |\n",
      " |  standard_values()\n",
      " |      Create an RLC parallel circuit with standard values (1 ohm, 1 H, 1 F).\n",
      " |      Returns:\n",
      " |          RLC_Circuit: An instance of the class with standard values.\n",
      " |\n",
      " |  ----------------------------------------------------------------------\n",
      " |  Static methods defined here:\n",
      " |\n",
      " |  resonance_frequency(inductance3e_1: float, capacitance_1: float) -> float\n",
      " |      Calculate the resonance frequency of the RLC parallel circuit.\n",
      " |      Returns:\n",
      " |         Resonance frequency in hertz.\n",
      " |\n",
      " |  ----------------------------------------------------------------------\n",
      " |  Data descriptors defined here:\n",
      " |\n",
      " |  __dict__\n",
      " |      dictionary for instance variables\n",
      " |\n",
      " |  __weakref__\n",
      " |      list of weak references to the object\n",
      " |\n",
      " |  capacitance\n",
      " |      Get the capacitance in farad.\n",
      " |\n",
      " |  inductance\n",
      " |      Get the inductance in henry.\n",
      " |\n",
      " |  resistance\n",
      " |      Get the resistance in ohm.\n",
      "\n"
     ]
    }
   ],
   "source": [
    "help(RLC_Parallel_resonance_Circuit)"
   ]
  },
  {
   "cell_type": "code",
   "execution_count": 171,
   "id": "a9681d34",
   "metadata": {},
   "outputs": [
    {
     "name": "stdout",
     "output_type": "stream",
     "text": [
      "{'_resistance': 50, '_inductance': 0.1, '_capacitance': 0.001}\n",
      "{'_resistance': 80, '_inductance': 0.1, '_capacitance': 0.001}\n"
     ]
    }
   ],
   "source": [
    "print(RLC_parallel_resonance_1.__dict__)\n",
    "print(RLC_parallel_resonance_2.__dict__)"
   ]
  },
  {
   "cell_type": "code",
   "execution_count": 172,
   "id": "5de797cf",
   "metadata": {},
   "outputs": [
    {
     "name": "stdout",
     "output_type": "stream",
     "text": [
      "A class to represent a parallel RLC circuit.\n",
      "Method: __init__,   Docstring: \n",
      "       Initialize the parallel RLC circuit with resistance, inductance, and capacitance.\n",
      "       \n",
      "       Parameters:\n",
      "           resistance : Resistance in ohms.\n",
      "           inductance : Inductance in henries.\n",
      "           capacitance : Capacitance in farads.\n",
      "       ,   Annotations: {'resistance': <class 'float'>, 'inductance': <class 'float'>, 'capacitance': <class 'float'>, 'return': None}\n",
      "Method: total_impedance,   Docstring: \n",
      "       Calculate the total impedance of the RLC parallel circuit at a given frequency.\n",
      "       \n",
      "       Args:\n",
      "           frequency (float): Frequency in hertz.\n",
      "       \n",
      "       Returns:\n",
      "              Total impedance in ohms.\n",
      "       Formula:\n",
      "               Y_R = 1 / self.resistance\n",
      "               Y_L = 1 / (1j *  2 * π * f * L)\n",
      "               Y_C = 1j *  2 * π * f *)\n",
      "       \"Y\" is the addmittance\n",
      "       ,   Annotations: {'frequency': <class 'float'>, 'return': <class 'complex'>}\n",
      "Method: standard_values,   Docstring: \n",
      "       Create an RLC parallel circuit with standard values (1 ohm, 1 H, 1 F).\n",
      "       Returns:\n",
      "           RLC_Circuit: An instance of the class with standard values.\n",
      "       ,   Annotations: {}\n",
      "Method: resonance_frequency,   Docstring: \n",
      "       Calculate the resonance frequency of the RLC parallel circuit.\n",
      "       Returns:\n",
      "          Resonance frequency in hertz.\n",
      "       ,   Annotations: {'inductance3e_1': <class 'float'>, 'capacitance_1': <class 'float'>, 'return': <class 'float'>}\n",
      "Method: __repr__,   Docstring: A  string  representation of the Resistor,   Annotations: {'return': <class 'str'>}\n",
      "Method: __str__,   Docstring: A  string  representation of the Resistor,   Annotations: {'return': <class 'str'>}\n"
     ]
    }
   ],
   "source": [
    "print(RLC_Parallel_resonance_Circuit.__doc__)\n",
    "for method in [\n",
    "    RLC_Parallel_resonance_Circuit.__init__,\n",
    "    RLC_Parallel_resonance_Circuit.total_impedance,\n",
    "    RLC_Parallel_resonance_Circuit.standard_values,\n",
    "    RLC_Parallel_resonance_Circuit.resonance_frequency,\n",
    "    RLC_Parallel_resonance_Circuit.__repr__,\n",
    "    RLC_Parallel_resonance_Circuit.__str__,\n",
    "]:\n",
    "    if isinstance(method, property):\n",
    "        print(f\"(Method: {method.fget.__name__}),  (Docstring: {method.__doc__}),  (Annotations: {method.fget.__annotations__})\")\n",
    "    else:\n",
    "        print(f\"Method: {method.__name__},   Docstring: {method.__doc__},   Annotations: {method.__annotations__}\")"
   ]
  },
  {
   "cell_type": "code",
   "execution_count": 173,
   "id": "f4c08077",
   "metadata": {},
   "outputs": [
    {
     "name": "stdout",
     "output_type": "stream",
     "text": [
      "RLC Parallel Circuit with resistance: 1.0 ohm, inductance: 1.0 H, capacitance: 1.0 F\n"
     ]
    },
    {
     "data": {
      "text/plain": [
       "RLC_Parallel_resonance_Circuit(resistance=1.0, inductance=1.0, capacitance=1.0)"
      ]
     },
     "execution_count": 173,
     "metadata": {},
     "output_type": "execute_result"
    }
   ],
   "source": [
    "RLC_parallel_resonance1 = RLC_Parallel_resonance_Circuit()\n",
    "print(RLC_parallel_resonance1)\n",
    "RLC_parallel_resonance1"
   ]
  },
  {
   "cell_type": "code",
   "execution_count": null,
   "id": "4612867e-1492-47bf-a260-8d79909f4a3e",
   "metadata": {},
   "outputs": [],
   "source": []
  },
  {
   "cell_type": "code",
   "execution_count": null,
   "id": "5a144305-696e-44f4-b4dc-8f674b94ce3d",
   "metadata": {},
   "outputs": [],
   "source": []
  },
  {
   "cell_type": "code",
   "execution_count": null,
   "id": "b1e79c59-9c6a-4838-874a-04f8c8bd0138",
   "metadata": {},
   "outputs": [],
   "source": []
  }
 ],
 "metadata": {
  "kernelspec": {
   "display_name": "Python 3 (ipykernel)",
   "language": "python",
   "name": "python3"
  },
  "language_info": {
   "codemirror_mode": {
    "name": "ipython",
    "version": 3
   },
   "file_extension": ".py",
   "mimetype": "text/x-python",
   "name": "python",
   "nbconvert_exporter": "python",
   "pygments_lexer": "ipython3",
   "version": "3.12.4"
  }
 },
 "nbformat": 4,
 "nbformat_minor": 5
}
